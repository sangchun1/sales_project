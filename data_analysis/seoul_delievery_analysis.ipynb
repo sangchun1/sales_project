{
 "cells": [
  {
   "attachments": {},
   "cell_type": "markdown",
   "metadata": {},
   "source": [
    "### Import"
   ]
  },
  {
   "cell_type": "code",
   "execution_count": 1,
   "metadata": {},
   "outputs": [
    {
     "name": "stderr",
     "output_type": "stream",
     "text": [
      "������ ��θ� ã�� �� �����ϴ�.\n",
      "������ ��θ� ã�� �� �����ϴ�.\n",
      "������ ��θ� ã�� �� �����ϴ�.\n"
     ]
    }
   ],
   "source": [
    "#한글 폰트 설치\n",
    "!apt-get install -y fonts-nanum > /dev/null\n",
    "!fc-cache -fv > /dev/null\n",
    "!rm -rf ~/.cache/matplotlib > /dev/null\n",
    "#런타임 다시시작"
   ]
  },
  {
   "cell_type": "code",
   "execution_count": 85,
   "metadata": {},
   "outputs": [],
   "source": [
    "# 필요한 모듈 불러오기\n",
    "import matplotlib.pyplot as plt\n",
    "import pandas as pd\n",
    "import dataframe_image as dfi\n",
    "import numpy as np\n",
    "\n",
    "plt.rc('font', family='NanumBarunGothic') "
   ]
  },
  {
   "attachments": {},
   "cell_type": "markdown",
   "metadata": {},
   "source": [
    "# 어느 구가 30-40대 인구가 제일 많은지 TOP 5\n",
    "* 연령대별 비율\n",
    "* 총 인구수"
   ]
  },
  {
   "cell_type": "code",
   "execution_count": 8,
   "metadata": {},
   "outputs": [],
   "source": [
    "# 데이터 불러오기\n",
    "df_age = pd.read_csv('D:/박상춘/프로젝트/sales_project/data_preprocessing/csv/seoul_population.csv', index_col=0)"
   ]
  },
  {
   "cell_type": "code",
   "execution_count": 10,
   "metadata": {},
   "outputs": [],
   "source": [
    "# 필요없는 컬럼 제거\n",
    "df_age.drop(columns=['male', 'female'], axis=1, inplace=True)"
   ]
  },
  {
   "cell_type": "code",
   "execution_count": 28,
   "metadata": {},
   "outputs": [],
   "source": [
    "# 자치구 리스트\n",
    "gu_arr = df_age['gu'].unique()\n",
    "gu_lis = gu_arr.tolist()"
   ]
  },
  {
   "cell_type": "code",
   "execution_count": 27,
   "metadata": {},
   "outputs": [
    {
     "data": {
      "text/html": [
       "<div>\n",
       "<style scoped>\n",
       "    .dataframe tbody tr th:only-of-type {\n",
       "        vertical-align: middle;\n",
       "    }\n",
       "\n",
       "    .dataframe tbody tr th {\n",
       "        vertical-align: top;\n",
       "    }\n",
       "\n",
       "    .dataframe thead th {\n",
       "        text-align: right;\n",
       "    }\n",
       "</style>\n",
       "<table border=\"1\" class=\"dataframe\">\n",
       "  <thead>\n",
       "    <tr style=\"text-align: right;\">\n",
       "      <th></th>\n",
       "      <th>gu</th>\n",
       "      <th>age_group</th>\n",
       "      <th>population</th>\n",
       "    </tr>\n",
       "  </thead>\n",
       "  <tbody>\n",
       "    <tr>\n",
       "      <th>0</th>\n",
       "      <td>종로구</td>\n",
       "      <td>20대 미만</td>\n",
       "      <td>18355</td>\n",
       "    </tr>\n",
       "    <tr>\n",
       "      <th>1</th>\n",
       "      <td>종로구</td>\n",
       "      <td>20대</td>\n",
       "      <td>28087</td>\n",
       "    </tr>\n",
       "    <tr>\n",
       "      <th>2</th>\n",
       "      <td>종로구</td>\n",
       "      <td>30대</td>\n",
       "      <td>10782</td>\n",
       "    </tr>\n",
       "    <tr>\n",
       "      <th>3</th>\n",
       "      <td>종로구</td>\n",
       "      <td>40대</td>\n",
       "      <td>9502</td>\n",
       "    </tr>\n",
       "    <tr>\n",
       "      <th>4</th>\n",
       "      <td>종로구</td>\n",
       "      <td>50대</td>\n",
       "      <td>9816</td>\n",
       "    </tr>\n",
       "    <tr>\n",
       "      <th>5</th>\n",
       "      <td>종로구</td>\n",
       "      <td>60대 이상</td>\n",
       "      <td>72294</td>\n",
       "    </tr>\n",
       "  </tbody>\n",
       "</table>\n",
       "</div>"
      ],
      "text/plain": [
       "    gu age_group  population\n",
       "0  종로구    20대 미만       18355\n",
       "1  종로구       20대       28087\n",
       "2  종로구       30대       10782\n",
       "3  종로구       40대        9502\n",
       "4  종로구       50대        9816\n",
       "5  종로구    60대 이상       72294"
      ]
     },
     "execution_count": 27,
     "metadata": {},
     "output_type": "execute_result"
    }
   ],
   "source": [
    "# 데이터 확인\n",
    "df_age.head(6)"
   ]
  },
  {
   "cell_type": "code",
   "execution_count": 31,
   "metadata": {},
   "outputs": [
    {
     "name": "stdout",
     "output_type": "stream",
     "text": [
      "[12.33, 18.87, 7.24, 6.38, 6.6, 48.57, 14.53, 22.24, 8.54, 7.52, 7.77, 57.24, 8.28, 12.67, 4.86, 4.29, 4.43, 32.61, 6.41, 9.81, 3.76, 3.32, 3.43, 25.24, 5.29, 8.09, 3.11, 2.74, 2.83, 20.83, 5.27, 8.07, 3.1, 2.73, 2.82, 20.76, 4.83, 7.39, 2.84, 2.5, 2.58, 19.01, 4.21, 6.45, 2.48, 2.18, 2.25, 16.6, 6.27, 9.6, 3.69, 3.25, 3.36, 24.71, 5.94, 9.09, 3.49, 3.07, 3.18, 23.38, 3.64, 5.57, 2.14, 1.89, 1.95, 14.35, 4.01, 6.14, 2.36, 2.08, 2.15, 15.81, 5.84, 8.93, 3.43, 3.02, 3.12, 22.99, 5.03, 7.69, 2.95, 2.6, 2.69, 19.8, 4.24, 6.48, 2.49, 2.19, 2.27, 16.68, 3.28, 5.02, 1.93, 1.7, 1.75, 12.91, 4.31, 6.59, 2.53, 2.23, 2.3, 16.96, 7.42, 11.35, 4.36, 3.84, 3.97, 29.23, 4.56, 6.97, 2.68, 2.36, 2.44, 17.94, 4.73, 7.24, 2.78, 2.45, 2.53, 18.63, 3.7, 5.67, 2.17, 1.92, 1.98, 14.58, 4.68, 7.16, 2.75, 2.42, 2.5, 18.43, 3.65, 5.58, 2.14, 1.89, 1.95, 14.37, 2.89, 4.43, 1.7, 1.5, 1.55, 11.39, 4.07, 6.23, 2.39, 2.11, 2.18, 16.03] 150\n"
     ]
    }
   ],
   "source": [
    "# 구별 연령대 비율 구하기\n",
    "ratio_lis = []\n",
    "for gu in gu_lis:\n",
    "    df_gu = df_age[df_age['gu'] == gu]\n",
    "    total_pop = df_gu['population'].sum()\n",
    "    ratio_lis.extend([\n",
    "        round((df_age.iloc[0, 2]/total_pop)*100, 2), round((df_age.iloc[1, 2]/total_pop)*100, 2), round((df_age.iloc[2, 2]/total_pop)*100, 2), \n",
    "        round((df_age.iloc[3, 2]/total_pop)*100, 2), round((df_age.iloc[4, 2]/total_pop)*100, 2), round((df_age.iloc[5, 2]/total_pop)*100, 2)\n",
    "        ])\n",
    "print(ratio_lis, len(ratio_lis))"
   ]
  },
  {
   "cell_type": "code",
   "execution_count": 32,
   "metadata": {},
   "outputs": [],
   "source": [
    "# 반복문에서 구한 연령대 비율을 데이터 프레임에 추가\n",
    "age_ratio = pd.Series(ratio_lis)\n",
    "df_age.insert(loc=3, column='age_ratio', value=age_ratio)"
   ]
  },
  {
   "cell_type": "code",
   "execution_count": 33,
   "metadata": {},
   "outputs": [
    {
     "data": {
      "text/html": [
       "<div>\n",
       "<style scoped>\n",
       "    .dataframe tbody tr th:only-of-type {\n",
       "        vertical-align: middle;\n",
       "    }\n",
       "\n",
       "    .dataframe tbody tr th {\n",
       "        vertical-align: top;\n",
       "    }\n",
       "\n",
       "    .dataframe thead th {\n",
       "        text-align: right;\n",
       "    }\n",
       "</style>\n",
       "<table border=\"1\" class=\"dataframe\">\n",
       "  <thead>\n",
       "    <tr style=\"text-align: right;\">\n",
       "      <th></th>\n",
       "      <th>gu</th>\n",
       "      <th>age_group</th>\n",
       "      <th>population</th>\n",
       "      <th>age_ratio</th>\n",
       "    </tr>\n",
       "  </thead>\n",
       "  <tbody>\n",
       "    <tr>\n",
       "      <th>0</th>\n",
       "      <td>종로구</td>\n",
       "      <td>20대 미만</td>\n",
       "      <td>18355</td>\n",
       "      <td>12.33</td>\n",
       "    </tr>\n",
       "    <tr>\n",
       "      <th>1</th>\n",
       "      <td>종로구</td>\n",
       "      <td>20대</td>\n",
       "      <td>28087</td>\n",
       "      <td>18.87</td>\n",
       "    </tr>\n",
       "    <tr>\n",
       "      <th>2</th>\n",
       "      <td>종로구</td>\n",
       "      <td>30대</td>\n",
       "      <td>10782</td>\n",
       "      <td>7.24</td>\n",
       "    </tr>\n",
       "    <tr>\n",
       "      <th>3</th>\n",
       "      <td>종로구</td>\n",
       "      <td>40대</td>\n",
       "      <td>9502</td>\n",
       "      <td>6.38</td>\n",
       "    </tr>\n",
       "    <tr>\n",
       "      <th>4</th>\n",
       "      <td>종로구</td>\n",
       "      <td>50대</td>\n",
       "      <td>9816</td>\n",
       "      <td>6.60</td>\n",
       "    </tr>\n",
       "    <tr>\n",
       "      <th>...</th>\n",
       "      <td>...</td>\n",
       "      <td>...</td>\n",
       "      <td>...</td>\n",
       "      <td>...</td>\n",
       "    </tr>\n",
       "    <tr>\n",
       "      <th>145</th>\n",
       "      <td>강동구</td>\n",
       "      <td>20대</td>\n",
       "      <td>58184</td>\n",
       "      <td>6.23</td>\n",
       "    </tr>\n",
       "    <tr>\n",
       "      <th>146</th>\n",
       "      <td>강동구</td>\n",
       "      <td>30대</td>\n",
       "      <td>33898</td>\n",
       "      <td>2.39</td>\n",
       "    </tr>\n",
       "    <tr>\n",
       "      <th>147</th>\n",
       "      <td>강동구</td>\n",
       "      <td>40대</td>\n",
       "      <td>35993</td>\n",
       "      <td>2.11</td>\n",
       "    </tr>\n",
       "    <tr>\n",
       "      <th>148</th>\n",
       "      <td>강동구</td>\n",
       "      <td>50대</td>\n",
       "      <td>37290</td>\n",
       "      <td>2.18</td>\n",
       "    </tr>\n",
       "    <tr>\n",
       "      <th>149</th>\n",
       "      <td>강동구</td>\n",
       "      <td>60대 이상</td>\n",
       "      <td>214654</td>\n",
       "      <td>16.03</td>\n",
       "    </tr>\n",
       "  </tbody>\n",
       "</table>\n",
       "<p>150 rows × 4 columns</p>\n",
       "</div>"
      ],
      "text/plain": [
       "      gu age_group  population  age_ratio\n",
       "0    종로구    20대 미만       18355      12.33\n",
       "1    종로구       20대       28087      18.87\n",
       "2    종로구       30대       10782       7.24\n",
       "3    종로구       40대        9502       6.38\n",
       "4    종로구       50대        9816       6.60\n",
       "..   ...       ...         ...        ...\n",
       "145  강동구       20대       58184       6.23\n",
       "146  강동구       30대       33898       2.39\n",
       "147  강동구       40대       35993       2.11\n",
       "148  강동구       50대       37290       2.18\n",
       "149  강동구    60대 이상      214654      16.03\n",
       "\n",
       "[150 rows x 4 columns]"
      ]
     },
     "execution_count": 33,
     "metadata": {},
     "output_type": "execute_result"
    }
   ],
   "source": [
    "# 데이터 확인\n",
    "df_age"
   ]
  },
  {
   "attachments": {},
   "cell_type": "markdown",
   "metadata": {},
   "source": [
    "### 30대"
   ]
  },
  {
   "cell_type": "code",
   "execution_count": 46,
   "metadata": {},
   "outputs": [],
   "source": [
    "# 30대 데이터만 가져오기\n",
    "df_30 = df_age[df_age.age_group == '30대']"
   ]
  },
  {
   "attachments": {},
   "cell_type": "markdown",
   "metadata": {},
   "source": [
    "#### 비율"
   ]
  },
  {
   "cell_type": "code",
   "execution_count": 78,
   "metadata": {},
   "outputs": [
    {
     "data": {
      "text/html": [
       "<div>\n",
       "<style scoped>\n",
       "    .dataframe tbody tr th:only-of-type {\n",
       "        vertical-align: middle;\n",
       "    }\n",
       "\n",
       "    .dataframe tbody tr th {\n",
       "        vertical-align: top;\n",
       "    }\n",
       "\n",
       "    .dataframe thead th {\n",
       "        text-align: right;\n",
       "    }\n",
       "</style>\n",
       "<table border=\"1\" class=\"dataframe\">\n",
       "  <thead>\n",
       "    <tr style=\"text-align: right;\">\n",
       "      <th></th>\n",
       "      <th>gu</th>\n",
       "      <th>age_group</th>\n",
       "      <th>population</th>\n",
       "      <th>age_ratio</th>\n",
       "    </tr>\n",
       "  </thead>\n",
       "  <tbody>\n",
       "    <tr>\n",
       "      <th>8</th>\n",
       "      <td>중구</td>\n",
       "      <td>30대</td>\n",
       "      <td>11071</td>\n",
       "      <td>8.54</td>\n",
       "    </tr>\n",
       "    <tr>\n",
       "      <th>2</th>\n",
       "      <td>종로구</td>\n",
       "      <td>30대</td>\n",
       "      <td>10782</td>\n",
       "      <td>7.24</td>\n",
       "    </tr>\n",
       "    <tr>\n",
       "      <th>14</th>\n",
       "      <td>용산구</td>\n",
       "      <td>30대</td>\n",
       "      <td>20341</td>\n",
       "      <td>4.86</td>\n",
       "    </tr>\n",
       "    <tr>\n",
       "      <th>104</th>\n",
       "      <td>금천구</td>\n",
       "      <td>30대</td>\n",
       "      <td>21591</td>\n",
       "      <td>4.36</td>\n",
       "    </tr>\n",
       "    <tr>\n",
       "      <th>20</th>\n",
       "      <td>성동구</td>\n",
       "      <td>30대</td>\n",
       "      <td>23416</td>\n",
       "      <td>3.76</td>\n",
       "    </tr>\n",
       "  </tbody>\n",
       "</table>\n",
       "</div>"
      ],
      "text/plain": [
       "      gu age_group  population  age_ratio\n",
       "8     중구       30대       11071       8.54\n",
       "2    종로구       30대       10782       7.24\n",
       "14   용산구       30대       20341       4.86\n",
       "104  금천구       30대       21591       4.36\n",
       "20   성동구       30대       23416       3.76"
      ]
     },
     "execution_count": 78,
     "metadata": {},
     "output_type": "execute_result"
    }
   ],
   "source": [
    "# 비율\n",
    "df_30_ratio = df_30.sort_values(by=['age_ratio'], ascending=False)\n",
    "df_30_ratio = df_30_ratio.head(5)\n",
    "df_30_ratio"
   ]
  },
  {
   "cell_type": "code",
   "execution_count": 89,
   "metadata": {},
   "outputs": [],
   "source": [
    "# 내보내기 위한 데이터프레임 정리\n",
    "df_30_ratio.set_index([pd.Index(range(1, 6))], inplace=True)\n",
    "df_30_ratio.rename(columns={'gu':'자치구', 'age_group':'연령대', 'population':'인구수', 'age_ratio':'연령대별 비율'}, inplace=True)"
   ]
  },
  {
   "cell_type": "code",
   "execution_count": 90,
   "metadata": {},
   "outputs": [],
   "source": [
    "# 사진으로 변환\n",
    "dfi.export(df_30_ratio, \"./plot/df_30_ratio.png\")"
   ]
  },
  {
   "attachments": {},
   "cell_type": "markdown",
   "metadata": {},
   "source": [
    "#### 총 인구수"
   ]
  },
  {
   "cell_type": "code",
   "execution_count": 79,
   "metadata": {},
   "outputs": [
    {
     "data": {
      "text/html": [
       "<div>\n",
       "<style scoped>\n",
       "    .dataframe tbody tr th:only-of-type {\n",
       "        vertical-align: middle;\n",
       "    }\n",
       "\n",
       "    .dataframe tbody tr th {\n",
       "        vertical-align: top;\n",
       "    }\n",
       "\n",
       "    .dataframe thead th {\n",
       "        text-align: right;\n",
       "    }\n",
       "</style>\n",
       "<table border=\"1\" class=\"dataframe\">\n",
       "  <thead>\n",
       "    <tr style=\"text-align: right;\">\n",
       "      <th></th>\n",
       "      <th>gu</th>\n",
       "      <th>age_group</th>\n",
       "      <th>population</th>\n",
       "      <th>age_ratio</th>\n",
       "    </tr>\n",
       "  </thead>\n",
       "  <tbody>\n",
       "    <tr>\n",
       "      <th>122</th>\n",
       "      <td>관악구</td>\n",
       "      <td>30대</td>\n",
       "      <td>51210</td>\n",
       "      <td>2.17</td>\n",
       "    </tr>\n",
       "    <tr>\n",
       "      <th>140</th>\n",
       "      <td>송파구</td>\n",
       "      <td>30대</td>\n",
       "      <td>50886</td>\n",
       "      <td>1.70</td>\n",
       "    </tr>\n",
       "    <tr>\n",
       "      <th>92</th>\n",
       "      <td>강서구</td>\n",
       "      <td>30대</td>\n",
       "      <td>50053</td>\n",
       "      <td>1.93</td>\n",
       "    </tr>\n",
       "    <tr>\n",
       "      <th>110</th>\n",
       "      <td>영등포구</td>\n",
       "      <td>30대</td>\n",
       "      <td>39283</td>\n",
       "      <td>2.68</td>\n",
       "    </tr>\n",
       "    <tr>\n",
       "      <th>134</th>\n",
       "      <td>강남구</td>\n",
       "      <td>30대</td>\n",
       "      <td>36758</td>\n",
       "      <td>2.14</td>\n",
       "    </tr>\n",
       "  </tbody>\n",
       "</table>\n",
       "</div>"
      ],
      "text/plain": [
       "       gu age_group  population  age_ratio\n",
       "122   관악구       30대       51210       2.17\n",
       "140   송파구       30대       50886       1.70\n",
       "92    강서구       30대       50053       1.93\n",
       "110  영등포구       30대       39283       2.68\n",
       "134   강남구       30대       36758       2.14"
      ]
     },
     "execution_count": 79,
     "metadata": {},
     "output_type": "execute_result"
    }
   ],
   "source": [
    "# 총 인구수\n",
    "df_30_num = df_30.sort_values(by=['population'], ascending=False)\n",
    "df_30_num = df_30_num.head(5)\n",
    "df_30_num"
   ]
  },
  {
   "cell_type": "code",
   "execution_count": 91,
   "metadata": {},
   "outputs": [],
   "source": [
    "# 내보내기 위한 데이터프레임 정리\n",
    "df_30_num.set_index([pd.Index(range(1, 6))], inplace=True)\n",
    "df_30_num.rename(columns={'gu':'자치구', 'age_group':'연령대', 'population':'인구수', 'age_ratio':'연령대별 비율'}, inplace=True)"
   ]
  },
  {
   "cell_type": "code",
   "execution_count": 92,
   "metadata": {},
   "outputs": [],
   "source": [
    "# 사진으로 변환\n",
    "dfi.export(df_30_num, \"./plot/df_30_num.png\")"
   ]
  },
  {
   "attachments": {},
   "cell_type": "markdown",
   "metadata": {},
   "source": [
    "### 40대"
   ]
  },
  {
   "cell_type": "code",
   "execution_count": 49,
   "metadata": {},
   "outputs": [],
   "source": [
    "# 40대 데이터만 가져오기\n",
    "df_40 = df_age[df_age.age_group == '40대']"
   ]
  },
  {
   "attachments": {},
   "cell_type": "markdown",
   "metadata": {},
   "source": [
    "#### 비율"
   ]
  },
  {
   "cell_type": "code",
   "execution_count": 80,
   "metadata": {},
   "outputs": [
    {
     "data": {
      "text/html": [
       "<div>\n",
       "<style scoped>\n",
       "    .dataframe tbody tr th:only-of-type {\n",
       "        vertical-align: middle;\n",
       "    }\n",
       "\n",
       "    .dataframe tbody tr th {\n",
       "        vertical-align: top;\n",
       "    }\n",
       "\n",
       "    .dataframe thead th {\n",
       "        text-align: right;\n",
       "    }\n",
       "</style>\n",
       "<table border=\"1\" class=\"dataframe\">\n",
       "  <thead>\n",
       "    <tr style=\"text-align: right;\">\n",
       "      <th></th>\n",
       "      <th>gu</th>\n",
       "      <th>age_group</th>\n",
       "      <th>population</th>\n",
       "      <th>age_ratio</th>\n",
       "    </tr>\n",
       "  </thead>\n",
       "  <tbody>\n",
       "    <tr>\n",
       "      <th>9</th>\n",
       "      <td>중구</td>\n",
       "      <td>40대</td>\n",
       "      <td>10223</td>\n",
       "      <td>7.52</td>\n",
       "    </tr>\n",
       "    <tr>\n",
       "      <th>3</th>\n",
       "      <td>종로구</td>\n",
       "      <td>40대</td>\n",
       "      <td>9502</td>\n",
       "      <td>6.38</td>\n",
       "    </tr>\n",
       "    <tr>\n",
       "      <th>15</th>\n",
       "      <td>용산구</td>\n",
       "      <td>40대</td>\n",
       "      <td>18855</td>\n",
       "      <td>4.29</td>\n",
       "    </tr>\n",
       "    <tr>\n",
       "      <th>105</th>\n",
       "      <td>금천구</td>\n",
       "      <td>40대</td>\n",
       "      <td>18155</td>\n",
       "      <td>3.84</td>\n",
       "    </tr>\n",
       "    <tr>\n",
       "      <th>21</th>\n",
       "      <td>성동구</td>\n",
       "      <td>40대</td>\n",
       "      <td>23654</td>\n",
       "      <td>3.32</td>\n",
       "    </tr>\n",
       "  </tbody>\n",
       "</table>\n",
       "</div>"
      ],
      "text/plain": [
       "      gu age_group  population  age_ratio\n",
       "9     중구       40대       10223       7.52\n",
       "3    종로구       40대        9502       6.38\n",
       "15   용산구       40대       18855       4.29\n",
       "105  금천구       40대       18155       3.84\n",
       "21   성동구       40대       23654       3.32"
      ]
     },
     "execution_count": 80,
     "metadata": {},
     "output_type": "execute_result"
    }
   ],
   "source": [
    "# 비율\n",
    "df_40_ratio = df_40.sort_values(by=['age_ratio'], ascending=False)\n",
    "df_40_ratio = df_40_ratio.head(5)\n",
    "df_40_ratio"
   ]
  },
  {
   "cell_type": "code",
   "execution_count": 93,
   "metadata": {},
   "outputs": [],
   "source": [
    "df_40_ratio.set_index([pd.Index(range(1, 6))], inplace=True)\n",
    "df_40_ratio.rename(columns={'gu':'자치구', 'age_group':'연령대', 'population':'인구수', 'age_ratio':'연령대별 비율'}, inplace=True)"
   ]
  },
  {
   "cell_type": "code",
   "execution_count": 94,
   "metadata": {},
   "outputs": [],
   "source": [
    "dfi.export(df_40_ratio, \"./plot/df_40_ratio.png\")"
   ]
  },
  {
   "attachments": {},
   "cell_type": "markdown",
   "metadata": {},
   "source": [
    "#### 총 인구수"
   ]
  },
  {
   "cell_type": "code",
   "execution_count": 81,
   "metadata": {},
   "outputs": [
    {
     "data": {
      "text/html": [
       "<div>\n",
       "<style scoped>\n",
       "    .dataframe tbody tr th:only-of-type {\n",
       "        vertical-align: middle;\n",
       "    }\n",
       "\n",
       "    .dataframe tbody tr th {\n",
       "        vertical-align: top;\n",
       "    }\n",
       "\n",
       "    .dataframe thead th {\n",
       "        text-align: right;\n",
       "    }\n",
       "</style>\n",
       "<table border=\"1\" class=\"dataframe\">\n",
       "  <thead>\n",
       "    <tr style=\"text-align: right;\">\n",
       "      <th></th>\n",
       "      <th>gu</th>\n",
       "      <th>age_group</th>\n",
       "      <th>population</th>\n",
       "      <th>age_ratio</th>\n",
       "    </tr>\n",
       "  </thead>\n",
       "  <tbody>\n",
       "    <tr>\n",
       "      <th>141</th>\n",
       "      <td>송파구</td>\n",
       "      <td>40대</td>\n",
       "      <td>52144</td>\n",
       "      <td>1.50</td>\n",
       "    </tr>\n",
       "    <tr>\n",
       "      <th>93</th>\n",
       "      <td>강서구</td>\n",
       "      <td>40대</td>\n",
       "      <td>46237</td>\n",
       "      <td>1.70</td>\n",
       "    </tr>\n",
       "    <tr>\n",
       "      <th>135</th>\n",
       "      <td>강남구</td>\n",
       "      <td>40대</td>\n",
       "      <td>37496</td>\n",
       "      <td>1.89</td>\n",
       "    </tr>\n",
       "    <tr>\n",
       "      <th>123</th>\n",
       "      <td>관악구</td>\n",
       "      <td>40대</td>\n",
       "      <td>36408</td>\n",
       "      <td>1.92</td>\n",
       "    </tr>\n",
       "    <tr>\n",
       "      <th>147</th>\n",
       "      <td>강동구</td>\n",
       "      <td>40대</td>\n",
       "      <td>35993</td>\n",
       "      <td>2.11</td>\n",
       "    </tr>\n",
       "  </tbody>\n",
       "</table>\n",
       "</div>"
      ],
      "text/plain": [
       "      gu age_group  population  age_ratio\n",
       "141  송파구       40대       52144       1.50\n",
       "93   강서구       40대       46237       1.70\n",
       "135  강남구       40대       37496       1.89\n",
       "123  관악구       40대       36408       1.92\n",
       "147  강동구       40대       35993       2.11"
      ]
     },
     "execution_count": 81,
     "metadata": {},
     "output_type": "execute_result"
    }
   ],
   "source": [
    "# 총 인구수\n",
    "df_40_num = df_40.sort_values(by=['population'], ascending=False)\n",
    "df_40_num = df_40_num.head(5)\n",
    "df_40_num"
   ]
  },
  {
   "cell_type": "code",
   "execution_count": 95,
   "metadata": {},
   "outputs": [],
   "source": [
    "df_40_num.set_index([pd.Index(range(1, 6))], inplace=True)\n",
    "df_40_num.rename(columns={'gu':'자치구', 'age_group':'연령대', 'population':'인구수', 'age_ratio':'연령대별 비율'}, inplace=True)"
   ]
  },
  {
   "cell_type": "code",
   "execution_count": 96,
   "metadata": {},
   "outputs": [],
   "source": [
    "dfi.export(df_40_num, \"./plot/df_40_num.png\")"
   ]
  },
  {
   "attachments": {},
   "cell_type": "markdown",
   "metadata": {},
   "source": [
    "# 어느 구가 여자가 많은지 TOP 5\n",
    "* 남자/여자 비율\n",
    "* 여자 총 인구수"
   ]
  },
  {
   "cell_type": "code",
   "execution_count": 63,
   "metadata": {},
   "outputs": [],
   "source": [
    "# 데이터 불러오기\n",
    "df_temp = pd.read_csv('D:/박상춘/프로젝트/sales_project/data_preprocessing/csv/seoul_population.csv', index_col=0)"
   ]
  },
  {
   "cell_type": "code",
   "execution_count": 64,
   "metadata": {},
   "outputs": [
    {
     "data": {
      "text/html": [
       "<div>\n",
       "<style scoped>\n",
       "    .dataframe tbody tr th:only-of-type {\n",
       "        vertical-align: middle;\n",
       "    }\n",
       "\n",
       "    .dataframe tbody tr th {\n",
       "        vertical-align: top;\n",
       "    }\n",
       "\n",
       "    .dataframe thead th {\n",
       "        text-align: right;\n",
       "    }\n",
       "</style>\n",
       "<table border=\"1\" class=\"dataframe\">\n",
       "  <thead>\n",
       "    <tr style=\"text-align: right;\">\n",
       "      <th></th>\n",
       "      <th>gu</th>\n",
       "      <th>age_group</th>\n",
       "      <th>population</th>\n",
       "      <th>male</th>\n",
       "      <th>female</th>\n",
       "    </tr>\n",
       "  </thead>\n",
       "  <tbody>\n",
       "    <tr>\n",
       "      <th>0</th>\n",
       "      <td>종로구</td>\n",
       "      <td>20대 미만</td>\n",
       "      <td>18355</td>\n",
       "      <td>9182</td>\n",
       "      <td>9173</td>\n",
       "    </tr>\n",
       "    <tr>\n",
       "      <th>1</th>\n",
       "      <td>종로구</td>\n",
       "      <td>20대</td>\n",
       "      <td>28087</td>\n",
       "      <td>13055</td>\n",
       "      <td>15032</td>\n",
       "    </tr>\n",
       "    <tr>\n",
       "      <th>2</th>\n",
       "      <td>종로구</td>\n",
       "      <td>30대</td>\n",
       "      <td>10782</td>\n",
       "      <td>5416</td>\n",
       "      <td>5366</td>\n",
       "    </tr>\n",
       "    <tr>\n",
       "      <th>3</th>\n",
       "      <td>종로구</td>\n",
       "      <td>40대</td>\n",
       "      <td>9502</td>\n",
       "      <td>4744</td>\n",
       "      <td>4758</td>\n",
       "    </tr>\n",
       "    <tr>\n",
       "      <th>4</th>\n",
       "      <td>종로구</td>\n",
       "      <td>50대</td>\n",
       "      <td>9816</td>\n",
       "      <td>4756</td>\n",
       "      <td>5060</td>\n",
       "    </tr>\n",
       "    <tr>\n",
       "      <th>...</th>\n",
       "      <td>...</td>\n",
       "      <td>...</td>\n",
       "      <td>...</td>\n",
       "      <td>...</td>\n",
       "      <td>...</td>\n",
       "    </tr>\n",
       "    <tr>\n",
       "      <th>145</th>\n",
       "      <td>강동구</td>\n",
       "      <td>20대</td>\n",
       "      <td>58184</td>\n",
       "      <td>28296</td>\n",
       "      <td>29888</td>\n",
       "    </tr>\n",
       "    <tr>\n",
       "      <th>146</th>\n",
       "      <td>강동구</td>\n",
       "      <td>30대</td>\n",
       "      <td>33898</td>\n",
       "      <td>16735</td>\n",
       "      <td>17163</td>\n",
       "    </tr>\n",
       "    <tr>\n",
       "      <th>147</th>\n",
       "      <td>강동구</td>\n",
       "      <td>40대</td>\n",
       "      <td>35993</td>\n",
       "      <td>17912</td>\n",
       "      <td>18081</td>\n",
       "    </tr>\n",
       "    <tr>\n",
       "      <th>148</th>\n",
       "      <td>강동구</td>\n",
       "      <td>50대</td>\n",
       "      <td>37290</td>\n",
       "      <td>18631</td>\n",
       "      <td>18659</td>\n",
       "    </tr>\n",
       "    <tr>\n",
       "      <th>149</th>\n",
       "      <td>강동구</td>\n",
       "      <td>60대 이상</td>\n",
       "      <td>214654</td>\n",
       "      <td>102042</td>\n",
       "      <td>112612</td>\n",
       "    </tr>\n",
       "  </tbody>\n",
       "</table>\n",
       "<p>150 rows × 5 columns</p>\n",
       "</div>"
      ],
      "text/plain": [
       "      gu age_group  population    male  female\n",
       "0    종로구    20대 미만       18355    9182    9173\n",
       "1    종로구       20대       28087   13055   15032\n",
       "2    종로구       30대       10782    5416    5366\n",
       "3    종로구       40대        9502    4744    4758\n",
       "4    종로구       50대        9816    4756    5060\n",
       "..   ...       ...         ...     ...     ...\n",
       "145  강동구       20대       58184   28296   29888\n",
       "146  강동구       30대       33898   16735   17163\n",
       "147  강동구       40대       35993   17912   18081\n",
       "148  강동구       50대       37290   18631   18659\n",
       "149  강동구    60대 이상      214654  102042  112612\n",
       "\n",
       "[150 rows x 5 columns]"
      ]
     },
     "execution_count": 64,
     "metadata": {},
     "output_type": "execute_result"
    }
   ],
   "source": [
    "# 데이터 확인\n",
    "df_temp"
   ]
  },
  {
   "cell_type": "code",
   "execution_count": 65,
   "metadata": {},
   "outputs": [],
   "source": [
    "# 자치구별 합계 인구수로 축소(연령대 제거)\n",
    "total_poplis = []\n",
    "for gu in gu_lis:\n",
    "    df_gu = df_temp[df_temp['gu'] == gu]\n",
    "    total_poplis.append([gu, df_gu.iloc[0:6, 2].sum(), df_gu.iloc[0:6, 3].sum(), df_gu.iloc[0:6, 4].sum()])\n",
    "df_female = pd.DataFrame(total_poplis, columns=['gu', 'population', 'male', 'female'])"
   ]
  },
  {
   "cell_type": "code",
   "execution_count": 67,
   "metadata": {},
   "outputs": [
    {
     "data": {
      "text/html": [
       "<div>\n",
       "<style scoped>\n",
       "    .dataframe tbody tr th:only-of-type {\n",
       "        vertical-align: middle;\n",
       "    }\n",
       "\n",
       "    .dataframe tbody tr th {\n",
       "        vertical-align: top;\n",
       "    }\n",
       "\n",
       "    .dataframe thead th {\n",
       "        text-align: right;\n",
       "    }\n",
       "</style>\n",
       "<table border=\"1\" class=\"dataframe\">\n",
       "  <thead>\n",
       "    <tr style=\"text-align: right;\">\n",
       "      <th></th>\n",
       "      <th>gu</th>\n",
       "      <th>population</th>\n",
       "      <th>male</th>\n",
       "      <th>female</th>\n",
       "    </tr>\n",
       "  </thead>\n",
       "  <tbody>\n",
       "    <tr>\n",
       "      <th>0</th>\n",
       "      <td>종로구</td>\n",
       "      <td>148836</td>\n",
       "      <td>71358</td>\n",
       "      <td>77478</td>\n",
       "    </tr>\n",
       "    <tr>\n",
       "      <th>1</th>\n",
       "      <td>중구</td>\n",
       "      <td>126296</td>\n",
       "      <td>60652</td>\n",
       "      <td>65644</td>\n",
       "    </tr>\n",
       "    <tr>\n",
       "      <th>2</th>\n",
       "      <td>용산구</td>\n",
       "      <td>221662</td>\n",
       "      <td>106904</td>\n",
       "      <td>114758</td>\n",
       "    </tr>\n",
       "    <tr>\n",
       "      <th>3</th>\n",
       "      <td>성동구</td>\n",
       "      <td>286441</td>\n",
       "      <td>139174</td>\n",
       "      <td>147267</td>\n",
       "    </tr>\n",
       "    <tr>\n",
       "      <th>4</th>\n",
       "      <td>광진구</td>\n",
       "      <td>347058</td>\n",
       "      <td>166458</td>\n",
       "      <td>180600</td>\n",
       "    </tr>\n",
       "  </tbody>\n",
       "</table>\n",
       "</div>"
      ],
      "text/plain": [
       "    gu  population    male  female\n",
       "0  종로구      148836   71358   77478\n",
       "1   중구      126296   60652   65644\n",
       "2  용산구      221662  106904  114758\n",
       "3  성동구      286441  139174  147267\n",
       "4  광진구      347058  166458  180600"
      ]
     },
     "execution_count": 67,
     "metadata": {},
     "output_type": "execute_result"
    }
   ],
   "source": [
    "# 데이터 확인\n",
    "df_female.head()"
   ]
  },
  {
   "cell_type": "code",
   "execution_count": 68,
   "metadata": {},
   "outputs": [
    {
     "name": "stdout",
     "output_type": "stream",
     "text": [
      "[52.06, 51.98, 51.77, 51.41, 52.04, 51.34, 50.99, 52.37, 51.72, 51.67, 51.94, 52.3, 53.4, 53.21, 51.09, 52.03, 50.19, 49.28, 50.36, 51.73, 50.01, 52.22, 52.12, 51.87, 51.02] 25\n"
     ]
    }
   ],
   "source": [
    "# 구별 여성비율 구하기\n",
    "sex_ratio_lis = []\n",
    "for i in df_female.index:\n",
    "        sex_ratio_lis.append(round(((df_female.loc[i, 'female']/df_female.loc[i, 'population'])*100), 2))\n",
    "print(sex_ratio_lis, len(sex_ratio_lis))"
   ]
  },
  {
   "cell_type": "code",
   "execution_count": 69,
   "metadata": {},
   "outputs": [],
   "source": [
    "# 여성 비율을 데이터 프레임에 추가\n",
    "sex_ratio = pd.Series(sex_ratio_lis)\n",
    "df_female.insert(loc=4, column='female_ratio', value=sex_ratio)"
   ]
  },
  {
   "attachments": {},
   "cell_type": "markdown",
   "metadata": {},
   "source": [
    "#### 비율"
   ]
  },
  {
   "cell_type": "code",
   "execution_count": 98,
   "metadata": {},
   "outputs": [
    {
     "data": {
      "text/html": [
       "<div>\n",
       "<style scoped>\n",
       "    .dataframe tbody tr th:only-of-type {\n",
       "        vertical-align: middle;\n",
       "    }\n",
       "\n",
       "    .dataframe tbody tr th {\n",
       "        vertical-align: top;\n",
       "    }\n",
       "\n",
       "    .dataframe thead th {\n",
       "        text-align: right;\n",
       "    }\n",
       "</style>\n",
       "<table border=\"1\" class=\"dataframe\">\n",
       "  <thead>\n",
       "    <tr style=\"text-align: right;\">\n",
       "      <th></th>\n",
       "      <th>gu</th>\n",
       "      <th>population</th>\n",
       "      <th>male</th>\n",
       "      <th>female</th>\n",
       "      <th>female_ratio</th>\n",
       "    </tr>\n",
       "  </thead>\n",
       "  <tbody>\n",
       "    <tr>\n",
       "      <th>12</th>\n",
       "      <td>서대문구</td>\n",
       "      <td>314506</td>\n",
       "      <td>146550</td>\n",
       "      <td>167956</td>\n",
       "      <td>53.40</td>\n",
       "    </tr>\n",
       "    <tr>\n",
       "      <th>13</th>\n",
       "      <td>마포구</td>\n",
       "      <td>365159</td>\n",
       "      <td>170859</td>\n",
       "      <td>194300</td>\n",
       "      <td>53.21</td>\n",
       "    </tr>\n",
       "    <tr>\n",
       "      <th>7</th>\n",
       "      <td>성북구</td>\n",
       "      <td>435477</td>\n",
       "      <td>207421</td>\n",
       "      <td>228056</td>\n",
       "      <td>52.37</td>\n",
       "    </tr>\n",
       "    <tr>\n",
       "      <th>11</th>\n",
       "      <td>은평구</td>\n",
       "      <td>457349</td>\n",
       "      <td>218149</td>\n",
       "      <td>239200</td>\n",
       "      <td>52.30</td>\n",
       "    </tr>\n",
       "    <tr>\n",
       "      <th>21</th>\n",
       "      <td>서초구</td>\n",
       "      <td>392264</td>\n",
       "      <td>187426</td>\n",
       "      <td>204838</td>\n",
       "      <td>52.22</td>\n",
       "    </tr>\n",
       "  </tbody>\n",
       "</table>\n",
       "</div>"
      ],
      "text/plain": [
       "      gu  population    male  female  female_ratio\n",
       "12  서대문구      314506  146550  167956         53.40\n",
       "13   마포구      365159  170859  194300         53.21\n",
       "7    성북구      435477  207421  228056         52.37\n",
       "11   은평구      457349  218149  239200         52.30\n",
       "21   서초구      392264  187426  204838         52.22"
      ]
     },
     "execution_count": 98,
     "metadata": {},
     "output_type": "execute_result"
    }
   ],
   "source": [
    "# 비율\n",
    "df_female_ratio = df_female.sort_values(by=['female_ratio'], ascending=False)\n",
    "df_female_ratio = df_female_ratio.head(5)\n",
    "df_female_ratio"
   ]
  },
  {
   "cell_type": "code",
   "execution_count": 99,
   "metadata": {},
   "outputs": [],
   "source": [
    "df_female_ratio.set_index([pd.Index(range(1, 6))], inplace=True)\n",
    "df_female_ratio.rename(columns={'gu':'자치구', 'population':'인구수', 'male':'남성 인구수', 'female':'여성 인구수', 'female_ratio':'여성 비율'}, inplace=True)"
   ]
  },
  {
   "cell_type": "code",
   "execution_count": 101,
   "metadata": {},
   "outputs": [],
   "source": [
    "dfi.export(df_female_ratio, \"./plot/df_female_ratio.png\")"
   ]
  },
  {
   "attachments": {},
   "cell_type": "markdown",
   "metadata": {},
   "source": [
    "#### 총 인구수"
   ]
  },
  {
   "cell_type": "code",
   "execution_count": 102,
   "metadata": {},
   "outputs": [
    {
     "data": {
      "text/html": [
       "<div>\n",
       "<style scoped>\n",
       "    .dataframe tbody tr th:only-of-type {\n",
       "        vertical-align: middle;\n",
       "    }\n",
       "\n",
       "    .dataframe tbody tr th {\n",
       "        vertical-align: top;\n",
       "    }\n",
       "\n",
       "    .dataframe thead th {\n",
       "        text-align: right;\n",
       "    }\n",
       "</style>\n",
       "<table border=\"1\" class=\"dataframe\">\n",
       "  <thead>\n",
       "    <tr style=\"text-align: right;\">\n",
       "      <th></th>\n",
       "      <th>gu</th>\n",
       "      <th>population</th>\n",
       "      <th>male</th>\n",
       "      <th>female</th>\n",
       "      <th>female_ratio</th>\n",
       "    </tr>\n",
       "  </thead>\n",
       "  <tbody>\n",
       "    <tr>\n",
       "      <th>23</th>\n",
       "      <td>송파구</td>\n",
       "      <td>634665</td>\n",
       "      <td>305438</td>\n",
       "      <td>329227</td>\n",
       "      <td>51.87</td>\n",
       "    </tr>\n",
       "    <tr>\n",
       "      <th>15</th>\n",
       "      <td>강서구</td>\n",
       "      <td>559780</td>\n",
       "      <td>268515</td>\n",
       "      <td>291265</td>\n",
       "      <td>52.03</td>\n",
       "    </tr>\n",
       "    <tr>\n",
       "      <th>22</th>\n",
       "      <td>강남구</td>\n",
       "      <td>502960</td>\n",
       "      <td>240827</td>\n",
       "      <td>262133</td>\n",
       "      <td>52.12</td>\n",
       "    </tr>\n",
       "    <tr>\n",
       "      <th>10</th>\n",
       "      <td>노원구</td>\n",
       "      <td>503863</td>\n",
       "      <td>242163</td>\n",
       "      <td>261700</td>\n",
       "      <td>51.94</td>\n",
       "    </tr>\n",
       "    <tr>\n",
       "      <th>20</th>\n",
       "      <td>관악구</td>\n",
       "      <td>495735</td>\n",
       "      <td>247807</td>\n",
       "      <td>247928</td>\n",
       "      <td>50.01</td>\n",
       "    </tr>\n",
       "  </tbody>\n",
       "</table>\n",
       "</div>"
      ],
      "text/plain": [
       "     gu  population    male  female  female_ratio\n",
       "23  송파구      634665  305438  329227         51.87\n",
       "15  강서구      559780  268515  291265         52.03\n",
       "22  강남구      502960  240827  262133         52.12\n",
       "10  노원구      503863  242163  261700         51.94\n",
       "20  관악구      495735  247807  247928         50.01"
      ]
     },
     "execution_count": 102,
     "metadata": {},
     "output_type": "execute_result"
    }
   ],
   "source": [
    "# 총 인구수\n",
    "df_female_num = df_female.sort_values(by=['female'], ascending=False)\n",
    "df_female_num = df_female_num.head(5)\n",
    "df_female_num"
   ]
  },
  {
   "cell_type": "code",
   "execution_count": 103,
   "metadata": {},
   "outputs": [],
   "source": [
    "df_female_num.set_index([pd.Index(range(1, 6))], inplace=True)\n",
    "df_female_num.rename(columns={'gu':'자치구', 'population':'인구수', 'male':'남성 인구수', 'female':'여성 인구수', 'female_ratio':'여성 비율'}, inplace=True)"
   ]
  },
  {
   "cell_type": "code",
   "execution_count": 104,
   "metadata": {},
   "outputs": [],
   "source": [
    "dfi.export(df_female_num, \"./plot/df_female_num.png\")"
   ]
  },
  {
   "attachments": {},
   "cell_type": "markdown",
   "metadata": {},
   "source": [
    "# 구별 많은 업종 TOP 5\n",
    "* 강남 근처\n",
    "* 송파, 서초, 성동, 용산, 광진"
   ]
  },
  {
   "attachments": {},
   "cell_type": "markdown",
   "metadata": {},
   "source": [
    "# 업종별 많이 위치한 구 TOP 5\n",
    "* 치킨"
   ]
  },
  {
   "attachments": {},
   "cell_type": "markdown",
   "metadata": {},
   "source": [
    "# 구별 평점 높은/낮은 업종 TOP 5\n",
    "* 강남 근처\n",
    "* 송파, 서초, 성동, 용산, 광진"
   ]
  },
  {
   "attachments": {},
   "cell_type": "markdown",
   "metadata": {},
   "source": [
    "# 업종별 평점 높이/낮게 준 구 TOP 5\n",
    "* 치킨"
   ]
  },
  {
   "attachments": {},
   "cell_type": "markdown",
   "metadata": {},
   "source": [
    "# 구별 업종식당수와 주문건수의 비율 높은 업종 TOP 5\n",
    "* 강남 근처\n",
    "* 송파, 서초, 성동, 용산, 광진"
   ]
  }
 ],
 "metadata": {
  "kernelspec": {
   "display_name": "Python 3",
   "language": "python",
   "name": "python3"
  },
  "language_info": {
   "codemirror_mode": {
    "name": "ipython",
    "version": 3
   },
   "file_extension": ".py",
   "mimetype": "text/x-python",
   "name": "python",
   "nbconvert_exporter": "python",
   "pygments_lexer": "ipython3",
   "version": "3.11.2"
  },
  "orig_nbformat": 4,
  "vscode": {
   "interpreter": {
    "hash": "93cb88c8c23f1da55dedfd812a7caae5ec2bf62baf9b0901f535e3b1ad9c99c3"
   }
  }
 },
 "nbformat": 4,
 "nbformat_minor": 2
}
