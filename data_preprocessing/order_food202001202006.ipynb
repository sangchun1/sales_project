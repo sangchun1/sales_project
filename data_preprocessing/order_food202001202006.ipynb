{
 "cells": [
  {
   "cell_type": "code",
   "execution_count": 9,
   "id": "3836b843",
   "metadata": {},
   "outputs": [],
   "source": [
    "import pandas as pd"
   ]
  },
  {
   "cell_type": "code",
   "execution_count": 10,
   "id": "06bb5c73",
   "metadata": {},
   "outputs": [],
   "source": [
    "df = pd.read_csv(\"order_food202001202006.csv\")"
   ]
  },
  {
   "cell_type": "code",
   "execution_count": 11,
   "id": "ac9b8671",
   "metadata": {},
   "outputs": [],
   "source": [
    "df"
   ]
  },
  {
   "cell_type": "code",
   "execution_count": 4,
   "id": "84544c81",
   "metadata": {},
   "outputs": [],
   "source": [
    "df.drop(['Unnamed: 0'],axis=1,inplace=True)"
   ]
  },
  {
   "cell_type": "code",
   "execution_count": 5,
   "id": "e0d7b13d",
   "metadata": {},
   "outputs": [],
   "source": [
    "df"
   ]
  },
  {
   "cell_type": "code",
   "execution_count": 6,
   "id": "0cd75a01",
   "metadata": {},
   "outputs": [],
   "source": [
    "df = df.loc[df.food !='심부름']\n",
    "df = df.loc[df.food !='배달전문업체']"
   ]
  },
  {
   "cell_type": "code",
   "execution_count": 7,
   "id": "efea1ba0",
   "metadata": {},
   "outputs": [],
   "source": [
    "# csv로 저장\n",
    "df.to_csv(\"order_food202001202006.csv\")"
   ]
  },
  {
   "cell_type": "code",
   "execution_count": null,
   "id": "98d475ad",
   "metadata": {},
   "outputs": [],
   "source": []
  },
  {
   "cell_type": "code",
   "execution_count": null,
   "id": "a927dd47",
   "metadata": {},
   "outputs": [],
   "source": []
  }
 ],
 "metadata": {
  "kernelspec": {
   "display_name": "Python 3 (ipykernel)",
   "language": "python",
   "name": "python3"
  },
  "language_info": {
   "codemirror_mode": {
    "name": "ipython",
    "version": 3
   },
   "file_extension": ".py",
   "mimetype": "text/x-python",
   "name": "python",
   "nbconvert_exporter": "python",
   "pygments_lexer": "ipython3",
   "version": "3.11.2"
  }
 },
 "nbformat": 4,
 "nbformat_minor": 5
}
