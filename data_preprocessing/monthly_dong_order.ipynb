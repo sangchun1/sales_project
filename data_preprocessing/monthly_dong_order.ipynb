{
 "cells": [
  {
   "attachments": {},
   "cell_type": "markdown",
   "metadata": {},
   "source": [
    "# 1. 데이터 불러오기"
   ]
  },
  {
   "cell_type": "code",
   "execution_count": 1,
   "metadata": {},
   "outputs": [],
   "source": [
    "# 필요한 모듈 가져오기\n",
    "import pandas as pd"
   ]
  },
  {
   "cell_type": "code",
   "execution_count": 2,
   "metadata": {},
   "outputs": [],
   "source": [
    "# csv 파일을 하나씩 데이터 프레임으로 변환\n",
    "df1 = pd.read_csv('D:/박상춘/프로젝트/raw data/월별 행정동별 소비 데이터/delivery_서울특별시_202209.csv', encoding='CP949', low_memory=False)\n",
    "df2 = pd.read_csv('D:/박상춘/프로젝트/raw data/월별 행정동별 소비 데이터/delivery_서울특별시_202210.csv', encoding='CP949', low_memory=False)\n",
    "df3 = pd.read_csv('D:/박상춘/프로젝트/raw data/월별 행정동별 소비 데이터/delivery_서울특별시_202211.csv', encoding='CP949', low_memory=False)"
   ]
  },
  {
   "cell_type": "code",
   "execution_count": 3,
   "metadata": {},
   "outputs": [],
   "source": [
    "# 데이터 프레임을 하나로 합치기\n",
    "df = pd.concat([df1, df2, df3])"
   ]
  },
  {
   "attachments": {},
   "cell_type": "markdown",
   "metadata": {},
   "source": [
    "# 2. 데이터 확인 및 전처리"
   ]
  },
  {
   "cell_type": "code",
   "execution_count": 4,
   "metadata": {},
   "outputs": [
    {
     "data": {
      "text/html": [
       "<div>\n",
       "<style scoped>\n",
       "    .dataframe tbody tr th:only-of-type {\n",
       "        vertical-align: middle;\n",
       "    }\n",
       "\n",
       "    .dataframe tbody tr th {\n",
       "        vertical-align: top;\n",
       "    }\n",
       "\n",
       "    .dataframe thead th {\n",
       "        text-align: right;\n",
       "    }\n",
       "</style>\n",
       "<table border=\"1\" class=\"dataframe\">\n",
       "  <thead>\n",
       "    <tr style=\"text-align: right;\">\n",
       "      <th></th>\n",
       "      <th>crym</th>\n",
       "      <th>admd_c</th>\n",
       "      <th>ana_mgpo_nm</th>\n",
       "      <th>ana_ccd_nm</th>\n",
       "      <th>admd_nm</th>\n",
       "      <th>dayofweek</th>\n",
       "      <th>time_interval</th>\n",
       "      <th>sl_am</th>\n",
       "      <th>sl_ct</th>\n",
       "    </tr>\n",
       "  </thead>\n",
       "  <tbody>\n",
       "    <tr>\n",
       "      <th>0</th>\n",
       "      <td>202209</td>\n",
       "      <td>1111051500</td>\n",
       "      <td>서울특별시</td>\n",
       "      <td>종로구</td>\n",
       "      <td>청운효자동</td>\n",
       "      <td>Fri</td>\n",
       "      <td>0</td>\n",
       "      <td>45700.0</td>\n",
       "      <td>2</td>\n",
       "    </tr>\n",
       "    <tr>\n",
       "      <th>1</th>\n",
       "      <td>202209</td>\n",
       "      <td>1111051500</td>\n",
       "      <td>서울특별시</td>\n",
       "      <td>종로구</td>\n",
       "      <td>청운효자동</td>\n",
       "      <td>Fri</td>\n",
       "      <td>8</td>\n",
       "      <td>16900.0</td>\n",
       "      <td>1</td>\n",
       "    </tr>\n",
       "    <tr>\n",
       "      <th>2</th>\n",
       "      <td>202209</td>\n",
       "      <td>1111051500</td>\n",
       "      <td>서울특별시</td>\n",
       "      <td>종로구</td>\n",
       "      <td>청운효자동</td>\n",
       "      <td>Fri</td>\n",
       "      <td>9</td>\n",
       "      <td>35400.0</td>\n",
       "      <td>1</td>\n",
       "    </tr>\n",
       "    <tr>\n",
       "      <th>3</th>\n",
       "      <td>202209</td>\n",
       "      <td>1111051500</td>\n",
       "      <td>서울특별시</td>\n",
       "      <td>종로구</td>\n",
       "      <td>청운효자동</td>\n",
       "      <td>Fri</td>\n",
       "      <td>10</td>\n",
       "      <td>73100.0</td>\n",
       "      <td>4</td>\n",
       "    </tr>\n",
       "    <tr>\n",
       "      <th>4</th>\n",
       "      <td>202209</td>\n",
       "      <td>1111051500</td>\n",
       "      <td>서울특별시</td>\n",
       "      <td>종로구</td>\n",
       "      <td>청운효자동</td>\n",
       "      <td>Fri</td>\n",
       "      <td>11</td>\n",
       "      <td>92400.0</td>\n",
       "      <td>4</td>\n",
       "    </tr>\n",
       "  </tbody>\n",
       "</table>\n",
       "</div>"
      ],
      "text/plain": [
       "     crym      admd_c ana_mgpo_nm ana_ccd_nm admd_nm dayofweek  time_interval  \\\n",
       "0  202209  1111051500       서울특별시        종로구   청운효자동       Fri              0   \n",
       "1  202209  1111051500       서울특별시        종로구   청운효자동       Fri              8   \n",
       "2  202209  1111051500       서울특별시        종로구   청운효자동       Fri              9   \n",
       "3  202209  1111051500       서울특별시        종로구   청운효자동       Fri             10   \n",
       "4  202209  1111051500       서울특별시        종로구   청운효자동       Fri             11   \n",
       "\n",
       "     sl_am  sl_ct  \n",
       "0  45700.0      2  \n",
       "1  16900.0      1  \n",
       "2  35400.0      1  \n",
       "3  73100.0      4  \n",
       "4  92400.0      4  "
      ]
     },
     "execution_count": 4,
     "metadata": {},
     "output_type": "execute_result"
    }
   ],
   "source": [
    "df.head()"
   ]
  },
  {
   "cell_type": "code",
   "execution_count": 5,
   "metadata": {},
   "outputs": [],
   "source": [
    "# 필요없는 컬럼 제거\n",
    "df.drop(['admd_c', 'ana_mgpo_nm'], axis=1, inplace=True)"
   ]
  },
  {
   "cell_type": "code",
   "execution_count": 6,
   "metadata": {},
   "outputs": [],
   "source": [
    "# 컬럼명 바꾸기\n",
    "df.rename({'crym':'date', 'ana_ccd_nm':'gu', 'admd_nm':'dong', 'dayofweek':'days', 'time_interval':'time_int', 'sl_am':'order_amt', 'sl_ct':'order_cnt'}, axis=1, inplace=True)"
   ]
  },
  {
   "cell_type": "code",
   "execution_count": 15,
   "metadata": {},
   "outputs": [
    {
     "data": {
      "text/html": [
       "<div>\n",
       "<style scoped>\n",
       "    .dataframe tbody tr th:only-of-type {\n",
       "        vertical-align: middle;\n",
       "    }\n",
       "\n",
       "    .dataframe tbody tr th {\n",
       "        vertical-align: top;\n",
       "    }\n",
       "\n",
       "    .dataframe thead th {\n",
       "        text-align: right;\n",
       "    }\n",
       "</style>\n",
       "<table border=\"1\" class=\"dataframe\">\n",
       "  <thead>\n",
       "    <tr style=\"text-align: right;\">\n",
       "      <th></th>\n",
       "      <th>date</th>\n",
       "      <th>gu</th>\n",
       "      <th>dong</th>\n",
       "      <th>days</th>\n",
       "      <th>time_int</th>\n",
       "      <th>order_amt</th>\n",
       "      <th>order_cnt</th>\n",
       "    </tr>\n",
       "  </thead>\n",
       "  <tbody>\n",
       "    <tr>\n",
       "      <th>0</th>\n",
       "      <td>202209</td>\n",
       "      <td>종로구</td>\n",
       "      <td>청운효자동</td>\n",
       "      <td>금요일</td>\n",
       "      <td>0</td>\n",
       "      <td>45700.0</td>\n",
       "      <td>2</td>\n",
       "    </tr>\n",
       "    <tr>\n",
       "      <th>1</th>\n",
       "      <td>202209</td>\n",
       "      <td>종로구</td>\n",
       "      <td>청운효자동</td>\n",
       "      <td>금요일</td>\n",
       "      <td>8</td>\n",
       "      <td>16900.0</td>\n",
       "      <td>1</td>\n",
       "    </tr>\n",
       "    <tr>\n",
       "      <th>2</th>\n",
       "      <td>202209</td>\n",
       "      <td>종로구</td>\n",
       "      <td>청운효자동</td>\n",
       "      <td>금요일</td>\n",
       "      <td>9</td>\n",
       "      <td>35400.0</td>\n",
       "      <td>1</td>\n",
       "    </tr>\n",
       "    <tr>\n",
       "      <th>3</th>\n",
       "      <td>202209</td>\n",
       "      <td>종로구</td>\n",
       "      <td>청운효자동</td>\n",
       "      <td>금요일</td>\n",
       "      <td>10</td>\n",
       "      <td>73100.0</td>\n",
       "      <td>4</td>\n",
       "    </tr>\n",
       "    <tr>\n",
       "      <th>4</th>\n",
       "      <td>202209</td>\n",
       "      <td>종로구</td>\n",
       "      <td>청운효자동</td>\n",
       "      <td>금요일</td>\n",
       "      <td>11</td>\n",
       "      <td>92400.0</td>\n",
       "      <td>4</td>\n",
       "    </tr>\n",
       "    <tr>\n",
       "      <th>...</th>\n",
       "      <td>...</td>\n",
       "      <td>...</td>\n",
       "      <td>...</td>\n",
       "      <td>...</td>\n",
       "      <td>...</td>\n",
       "      <td>...</td>\n",
       "      <td>...</td>\n",
       "    </tr>\n",
       "    <tr>\n",
       "      <th>127994</th>\n",
       "      <td>202211</td>\n",
       "      <td>강동구</td>\n",
       "      <td>둔촌2동</td>\n",
       "      <td>수요일</td>\n",
       "      <td>18</td>\n",
       "      <td>108900.0</td>\n",
       "      <td>5</td>\n",
       "    </tr>\n",
       "    <tr>\n",
       "      <th>127995</th>\n",
       "      <td>202211</td>\n",
       "      <td>강동구</td>\n",
       "      <td>둔촌2동</td>\n",
       "      <td>수요일</td>\n",
       "      <td>19</td>\n",
       "      <td>172900.0</td>\n",
       "      <td>7</td>\n",
       "    </tr>\n",
       "    <tr>\n",
       "      <th>127996</th>\n",
       "      <td>202211</td>\n",
       "      <td>강동구</td>\n",
       "      <td>둔촌2동</td>\n",
       "      <td>수요일</td>\n",
       "      <td>20</td>\n",
       "      <td>64300.0</td>\n",
       "      <td>4</td>\n",
       "    </tr>\n",
       "    <tr>\n",
       "      <th>127997</th>\n",
       "      <td>202211</td>\n",
       "      <td>강동구</td>\n",
       "      <td>둔촌2동</td>\n",
       "      <td>수요일</td>\n",
       "      <td>21</td>\n",
       "      <td>19000.0</td>\n",
       "      <td>1</td>\n",
       "    </tr>\n",
       "    <tr>\n",
       "      <th>127998</th>\n",
       "      <td>202211</td>\n",
       "      <td>강동구</td>\n",
       "      <td>둔촌2동</td>\n",
       "      <td>수요일</td>\n",
       "      <td>22</td>\n",
       "      <td>65600.0</td>\n",
       "      <td>3</td>\n",
       "    </tr>\n",
       "  </tbody>\n",
       "</table>\n",
       "<p>127999 rows × 7 columns</p>\n",
       "</div>"
      ],
      "text/plain": [
       "          date   gu   dong days  time_int  order_amt  order_cnt\n",
       "0       202209  종로구  청운효자동  금요일         0    45700.0          2\n",
       "1       202209  종로구  청운효자동  금요일         8    16900.0          1\n",
       "2       202209  종로구  청운효자동  금요일         9    35400.0          1\n",
       "3       202209  종로구  청운효자동  금요일        10    73100.0          4\n",
       "4       202209  종로구  청운효자동  금요일        11    92400.0          4\n",
       "...        ...  ...    ...  ...       ...        ...        ...\n",
       "127994  202211  강동구   둔촌2동  수요일        18   108900.0          5\n",
       "127995  202211  강동구   둔촌2동  수요일        19   172900.0          7\n",
       "127996  202211  강동구   둔촌2동  수요일        20    64300.0          4\n",
       "127997  202211  강동구   둔촌2동  수요일        21    19000.0          1\n",
       "127998  202211  강동구   둔촌2동  수요일        22    65600.0          3\n",
       "\n",
       "[127999 rows x 7 columns]"
      ]
     },
     "execution_count": 15,
     "metadata": {},
     "output_type": "execute_result"
    }
   ],
   "source": [
    "df"
   ]
  },
  {
   "cell_type": "code",
   "execution_count": 19,
   "metadata": {},
   "outputs": [
    {
     "data": {
      "text/plain": [
       "date           int64\n",
       "gu            object\n",
       "dong          object\n",
       "days          object\n",
       "time_int       int64\n",
       "order_amt    float64\n",
       "order_cnt      int64\n",
       "dtype: object"
      ]
     },
     "execution_count": 19,
     "metadata": {},
     "output_type": "execute_result"
    }
   ],
   "source": [
    "# 데이터 타입 확인\n",
    "df.dtypes"
   ]
  },
  {
   "cell_type": "code",
   "execution_count": 21,
   "metadata": {},
   "outputs": [
    {
     "data": {
      "text/plain": [
       "date         0\n",
       "gu           0\n",
       "dong         0\n",
       "days         0\n",
       "time_int     0\n",
       "order_amt    0\n",
       "order_cnt    0\n",
       "dtype: int64"
      ]
     },
     "execution_count": 21,
     "metadata": {},
     "output_type": "execute_result"
    }
   ],
   "source": [
    "# 결측치 확인\n",
    "df.isnull().sum()"
   ]
  },
  {
   "cell_type": "code",
   "execution_count": 12,
   "metadata": {},
   "outputs": [],
   "source": [
    "# 인덱스 리셋\n",
    "df.set_index([pd.Index(range(0,df.gu.count()))], inplace=True)"
   ]
  },
  {
   "cell_type": "code",
   "execution_count": 8,
   "metadata": {},
   "outputs": [
    {
     "data": {
      "text/plain": [
       "array(['Fri', 'Mon', 'Sat', 'Sun', 'Thu', 'Tue', 'Wed'], dtype=object)"
      ]
     },
     "execution_count": 8,
     "metadata": {},
     "output_type": "execute_result"
    }
   ],
   "source": [
    "df.days.unique()"
   ]
  },
  {
   "cell_type": "code",
   "execution_count": 14,
   "metadata": {},
   "outputs": [],
   "source": [
    "for i in df.index:\n",
    "    if df.loc[i, 'days'] == 'Mon': df.loc[i, 'days'] = '월요일' \n",
    "    elif df.loc[i, 'days'] == 'Tue': df.loc[i, 'days'] = '화요일'\n",
    "    elif df.loc[i, 'days'] == 'Wed': df.loc[i, 'days'] = '수요일'\n",
    "    elif df.loc[i, 'days'] == 'Thu': df.loc[i, 'days'] = '목요일'\n",
    "    elif df.loc[i, 'days'] == 'Fri': df.loc[i, 'days'] = '금요일'\n",
    "    elif df.loc[i, 'days'] == 'Sat': df.loc[i, 'days'] = '토요일'\n",
    "    else : df.loc[i, 'days'] = '일요일'"
   ]
  },
  {
   "cell_type": "code",
   "execution_count": 18,
   "metadata": {},
   "outputs": [
    {
     "name": "stdout",
     "output_type": "stream",
     "text": [
      "<class 'pandas.core.frame.DataFrame'>\n",
      "RangeIndex: 127999 entries, 0 to 127998\n",
      "Data columns (total 7 columns):\n",
      " #   Column     Non-Null Count   Dtype  \n",
      "---  ------     --------------   -----  \n",
      " 0   date       127999 non-null  int64  \n",
      " 1   gu         127999 non-null  object \n",
      " 2   dong       127999 non-null  object \n",
      " 3   days       127999 non-null  object \n",
      " 4   time_int   127999 non-null  int64  \n",
      " 5   order_amt  127999 non-null  float64\n",
      " 6   order_cnt  127999 non-null  int64  \n",
      "dtypes: float64(1), int64(3), object(3)\n",
      "memory usage: 6.8+ MB\n"
     ]
    }
   ],
   "source": [
    "# 메모리 용량 확인\n",
    "df.info()"
   ]
  },
  {
   "attachments": {},
   "cell_type": "markdown",
   "metadata": {},
   "source": [
    "# 3. csv 파일로 변환"
   ]
  },
  {
   "cell_type": "code",
   "execution_count": 22,
   "metadata": {},
   "outputs": [],
   "source": [
    "df.to_csv('./csv/monthly_dong_order.csv')"
   ]
  }
 ],
 "metadata": {
  "kernelspec": {
   "display_name": "Python 3",
   "language": "python",
   "name": "python3"
  },
  "language_info": {
   "codemirror_mode": {
    "name": "ipython",
    "version": 3
   },
   "file_extension": ".py",
   "mimetype": "text/x-python",
   "name": "python",
   "nbconvert_exporter": "python",
   "pygments_lexer": "ipython3",
   "version": "3.11.2"
  },
  "orig_nbformat": 4,
  "vscode": {
   "interpreter": {
    "hash": "93cb88c8c23f1da55dedfd812a7caae5ec2bf62baf9b0901f535e3b1ad9c99c3"
   }
  }
 },
 "nbformat": 4,
 "nbformat_minor": 2
}
