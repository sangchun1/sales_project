{
 "cells": [
  {
   "attachments": {},
   "cell_type": "markdown",
   "metadata": {},
   "source": [
    "# 1. 데이터 불러오기"
   ]
  },
  {
   "cell_type": "code",
   "execution_count": 1,
   "metadata": {},
   "outputs": [],
   "source": [
    "# 필요한 모듈 불러오기\n",
    "import pandas as pd\n",
    "import warnings\n",
    "warnings.simplefilter(action='ignore', category=FutureWarning) # 경고 메세지 무시"
   ]
  },
  {
   "cell_type": "code",
   "execution_count": 2,
   "metadata": {},
   "outputs": [],
   "source": [
    "# csv 파일을 하나씩 데이터 프레임으로 변환\n",
    "df1 = pd.read_csv('D:/박상춘/프로젝트/raw data/월별 행정동별 소비 데이터/delivery_서울특별시_202209.csv', encoding='CP949', low_memory=False)\n",
    "df2 = pd.read_csv('D:/박상춘/프로젝트/raw data/월별 행정동별 소비 데이터/delivery_서울특별시_202210.csv', encoding='CP949', low_memory=False)\n",
    "df3 = pd.read_csv('D:/박상춘/프로젝트/raw data/월별 행정동별 소비 데이터/delivery_서울특별시_202211.csv', encoding='CP949', low_memory=False)"
   ]
  },
  {
   "cell_type": "code",
   "execution_count": 3,
   "metadata": {},
   "outputs": [],
   "source": [
    "# 데이터 프레임을 하나로 합치기\n",
    "df = pd.concat([df1, df2, df3])"
   ]
  },
  {
   "attachments": {},
   "cell_type": "markdown",
   "metadata": {},
   "source": [
    "# 2. 데이터 확인 및 전처리"
   ]
  },
  {
   "cell_type": "code",
   "execution_count": 4,
   "metadata": {},
   "outputs": [
    {
     "data": {
      "text/html": [
       "<div>\n",
       "<style scoped>\n",
       "    .dataframe tbody tr th:only-of-type {\n",
       "        vertical-align: middle;\n",
       "    }\n",
       "\n",
       "    .dataframe tbody tr th {\n",
       "        vertical-align: top;\n",
       "    }\n",
       "\n",
       "    .dataframe thead th {\n",
       "        text-align: right;\n",
       "    }\n",
       "</style>\n",
       "<table border=\"1\" class=\"dataframe\">\n",
       "  <thead>\n",
       "    <tr style=\"text-align: right;\">\n",
       "      <th></th>\n",
       "      <th>crym</th>\n",
       "      <th>admd_c</th>\n",
       "      <th>ana_mgpo_nm</th>\n",
       "      <th>ana_ccd_nm</th>\n",
       "      <th>admd_nm</th>\n",
       "      <th>dayofweek</th>\n",
       "      <th>time_interval</th>\n",
       "      <th>sl_am</th>\n",
       "      <th>sl_ct</th>\n",
       "    </tr>\n",
       "  </thead>\n",
       "  <tbody>\n",
       "    <tr>\n",
       "      <th>0</th>\n",
       "      <td>202209</td>\n",
       "      <td>1111051500</td>\n",
       "      <td>서울특별시</td>\n",
       "      <td>종로구</td>\n",
       "      <td>청운효자동</td>\n",
       "      <td>Fri</td>\n",
       "      <td>0</td>\n",
       "      <td>45700.0</td>\n",
       "      <td>2</td>\n",
       "    </tr>\n",
       "    <tr>\n",
       "      <th>1</th>\n",
       "      <td>202209</td>\n",
       "      <td>1111051500</td>\n",
       "      <td>서울특별시</td>\n",
       "      <td>종로구</td>\n",
       "      <td>청운효자동</td>\n",
       "      <td>Fri</td>\n",
       "      <td>8</td>\n",
       "      <td>16900.0</td>\n",
       "      <td>1</td>\n",
       "    </tr>\n",
       "    <tr>\n",
       "      <th>2</th>\n",
       "      <td>202209</td>\n",
       "      <td>1111051500</td>\n",
       "      <td>서울특별시</td>\n",
       "      <td>종로구</td>\n",
       "      <td>청운효자동</td>\n",
       "      <td>Fri</td>\n",
       "      <td>9</td>\n",
       "      <td>35400.0</td>\n",
       "      <td>1</td>\n",
       "    </tr>\n",
       "    <tr>\n",
       "      <th>3</th>\n",
       "      <td>202209</td>\n",
       "      <td>1111051500</td>\n",
       "      <td>서울특별시</td>\n",
       "      <td>종로구</td>\n",
       "      <td>청운효자동</td>\n",
       "      <td>Fri</td>\n",
       "      <td>10</td>\n",
       "      <td>73100.0</td>\n",
       "      <td>4</td>\n",
       "    </tr>\n",
       "    <tr>\n",
       "      <th>4</th>\n",
       "      <td>202209</td>\n",
       "      <td>1111051500</td>\n",
       "      <td>서울특별시</td>\n",
       "      <td>종로구</td>\n",
       "      <td>청운효자동</td>\n",
       "      <td>Fri</td>\n",
       "      <td>11</td>\n",
       "      <td>92400.0</td>\n",
       "      <td>4</td>\n",
       "    </tr>\n",
       "  </tbody>\n",
       "</table>\n",
       "</div>"
      ],
      "text/plain": [
       "     crym      admd_c ana_mgpo_nm ana_ccd_nm admd_nm dayofweek  time_interval  \\\n",
       "0  202209  1111051500       서울특별시        종로구   청운효자동       Fri              0   \n",
       "1  202209  1111051500       서울특별시        종로구   청운효자동       Fri              8   \n",
       "2  202209  1111051500       서울특별시        종로구   청운효자동       Fri              9   \n",
       "3  202209  1111051500       서울특별시        종로구   청운효자동       Fri             10   \n",
       "4  202209  1111051500       서울특별시        종로구   청운효자동       Fri             11   \n",
       "\n",
       "     sl_am  sl_ct  \n",
       "0  45700.0      2  \n",
       "1  16900.0      1  \n",
       "2  35400.0      1  \n",
       "3  73100.0      4  \n",
       "4  92400.0      4  "
      ]
     },
     "execution_count": 4,
     "metadata": {},
     "output_type": "execute_result"
    }
   ],
   "source": [
    "df.head()"
   ]
  },
  {
   "cell_type": "code",
   "execution_count": 5,
   "metadata": {},
   "outputs": [],
   "source": [
    "# 필요없는 컬럼 제거\n",
    "df.drop(['admd_c', 'ana_mgpo_nm'], axis=1, inplace=True)"
   ]
  },
  {
   "cell_type": "code",
   "execution_count": 6,
   "metadata": {},
   "outputs": [],
   "source": [
    "# 컬럼명 바꾸기\n",
    "df.rename({'crym':'date', 'ana_ccd_nm':'gu', 'admd_nm':'dong', 'dayofweek':'days', 'time_interval':'time_int', 'sl_am':'order_amt', 'sl_ct':'order_cnt'}, axis=1, inplace=True)"
   ]
  },
  {
   "cell_type": "code",
   "execution_count": 7,
   "metadata": {},
   "outputs": [],
   "source": [
    "df.drop('dong', axis=1, inplace=True)"
   ]
  },
  {
   "cell_type": "code",
   "execution_count": 8,
   "metadata": {},
   "outputs": [
    {
     "data": {
      "text/html": [
       "<div>\n",
       "<style scoped>\n",
       "    .dataframe tbody tr th:only-of-type {\n",
       "        vertical-align: middle;\n",
       "    }\n",
       "\n",
       "    .dataframe tbody tr th {\n",
       "        vertical-align: top;\n",
       "    }\n",
       "\n",
       "    .dataframe thead th {\n",
       "        text-align: right;\n",
       "    }\n",
       "</style>\n",
       "<table border=\"1\" class=\"dataframe\">\n",
       "  <thead>\n",
       "    <tr style=\"text-align: right;\">\n",
       "      <th></th>\n",
       "      <th>date</th>\n",
       "      <th>gu</th>\n",
       "      <th>days</th>\n",
       "      <th>time_int</th>\n",
       "      <th>order_amt</th>\n",
       "      <th>order_cnt</th>\n",
       "    </tr>\n",
       "  </thead>\n",
       "  <tbody>\n",
       "    <tr>\n",
       "      <th>0</th>\n",
       "      <td>202209</td>\n",
       "      <td>종로구</td>\n",
       "      <td>Fri</td>\n",
       "      <td>0</td>\n",
       "      <td>45700.0</td>\n",
       "      <td>2</td>\n",
       "    </tr>\n",
       "    <tr>\n",
       "      <th>1</th>\n",
       "      <td>202209</td>\n",
       "      <td>종로구</td>\n",
       "      <td>Fri</td>\n",
       "      <td>8</td>\n",
       "      <td>16900.0</td>\n",
       "      <td>1</td>\n",
       "    </tr>\n",
       "    <tr>\n",
       "      <th>2</th>\n",
       "      <td>202209</td>\n",
       "      <td>종로구</td>\n",
       "      <td>Fri</td>\n",
       "      <td>9</td>\n",
       "      <td>35400.0</td>\n",
       "      <td>1</td>\n",
       "    </tr>\n",
       "    <tr>\n",
       "      <th>3</th>\n",
       "      <td>202209</td>\n",
       "      <td>종로구</td>\n",
       "      <td>Fri</td>\n",
       "      <td>10</td>\n",
       "      <td>73100.0</td>\n",
       "      <td>4</td>\n",
       "    </tr>\n",
       "    <tr>\n",
       "      <th>4</th>\n",
       "      <td>202209</td>\n",
       "      <td>종로구</td>\n",
       "      <td>Fri</td>\n",
       "      <td>11</td>\n",
       "      <td>92400.0</td>\n",
       "      <td>4</td>\n",
       "    </tr>\n",
       "  </tbody>\n",
       "</table>\n",
       "</div>"
      ],
      "text/plain": [
       "     date   gu days  time_int  order_amt  order_cnt\n",
       "0  202209  종로구  Fri         0    45700.0          2\n",
       "1  202209  종로구  Fri         8    16900.0          1\n",
       "2  202209  종로구  Fri         9    35400.0          1\n",
       "3  202209  종로구  Fri        10    73100.0          4\n",
       "4  202209  종로구  Fri        11    92400.0          4"
      ]
     },
     "execution_count": 8,
     "metadata": {},
     "output_type": "execute_result"
    }
   ],
   "source": [
    "df.head()"
   ]
  },
  {
   "cell_type": "code",
   "execution_count": 9,
   "metadata": {},
   "outputs": [],
   "source": [
    "# 날짜 및 자치구 리스트\n",
    "date_arr = df.date.unique()\n",
    "date_lis = date_arr.tolist()\n",
    "gu_arr = df.gu.unique()\n",
    "gu_lis = gu_arr.tolist()"
   ]
  },
  {
   "cell_type": "code",
   "execution_count": 15,
   "metadata": {},
   "outputs": [],
   "source": [
    "lis = []\n",
    "for date in date_lis:\n",
    "    df_t = df[df['date'] == date] # 월별 임시 데이터 프레임에 저장\n",
    "    for gu in gu_lis:\n",
    "        df_t1 = df_t[df_t['gu'] == gu] # 구별 임시 데이터 프레임에 저장\n",
    "\n",
    "        for i in range(24):\n",
    "            df_mon = df_t1[(df_t1['days'] == 'Mon') & (df_t1['time_int'] == i)]\n",
    "            df_tue = df_t1[(df_t1['days'] == 'Tue') & (df_t1['time_int'] == i)]\n",
    "            df_wed = df_t1[(df_t1['days'] == 'Wed') & (df_t1['time_int'] == i)]\n",
    "            df_thu = df_t1[(df_t1['days'] == 'Thu') & (df_t1['time_int'] == i)]\n",
    "            df_fri = df_t1[(df_t1['days'] == 'Fri') & (df_t1['time_int'] == i)]\n",
    "            df_sat = df_t1[(df_t1['days'] == 'Sat') & (df_t1['time_int'] == i)]\n",
    "            df_sun = df_t1[(df_t1['days'] == 'Sun') & (df_t1['time_int'] == i)]\n",
    "\n",
    "            lis.append([date, gu, '월요일', i, df_mon['order_amt'].sum(), df_mon['order_cnt'].sum()])\n",
    "            lis.append([date, gu, '화요일', i, df_tue['order_amt'].sum(), df_tue['order_cnt'].sum()])\n",
    "            lis.append([date, gu, '수요일', i, df_wed['order_amt'].sum(), df_wed['order_cnt'].sum()])\n",
    "            lis.append([date, gu, '목요일', i, df_thu['order_amt'].sum(), df_thu['order_cnt'].sum()])\n",
    "            lis.append([date, gu, '금요일', i, df_fri['order_amt'].sum(), df_fri['order_cnt'].sum()])\n",
    "            lis.append([date, gu, '토요일', i, df_sat['order_amt'].sum(), df_sat['order_cnt'].sum()])\n",
    "            lis.append([date, gu, '일요일', i, df_sun['order_amt'].sum(), df_sun['order_cnt'].sum()])"
   ]
  },
  {
   "cell_type": "code",
   "execution_count": 16,
   "metadata": {},
   "outputs": [],
   "source": [
    "df1 = pd.DataFrame(lis, columns=['date', 'gu', 'days', 'time_int', 'order_amt', 'order_cnt'])"
   ]
  },
  {
   "cell_type": "code",
   "execution_count": 17,
   "metadata": {},
   "outputs": [
    {
     "data": {
      "text/html": [
       "<div>\n",
       "<style scoped>\n",
       "    .dataframe tbody tr th:only-of-type {\n",
       "        vertical-align: middle;\n",
       "    }\n",
       "\n",
       "    .dataframe tbody tr th {\n",
       "        vertical-align: top;\n",
       "    }\n",
       "\n",
       "    .dataframe thead th {\n",
       "        text-align: right;\n",
       "    }\n",
       "</style>\n",
       "<table border=\"1\" class=\"dataframe\">\n",
       "  <thead>\n",
       "    <tr style=\"text-align: right;\">\n",
       "      <th></th>\n",
       "      <th>date</th>\n",
       "      <th>gu</th>\n",
       "      <th>days</th>\n",
       "      <th>time_int</th>\n",
       "      <th>order_amt</th>\n",
       "      <th>order_cnt</th>\n",
       "    </tr>\n",
       "  </thead>\n",
       "  <tbody>\n",
       "    <tr>\n",
       "      <th>0</th>\n",
       "      <td>202209</td>\n",
       "      <td>종로구</td>\n",
       "      <td>월요일</td>\n",
       "      <td>0</td>\n",
       "      <td>224080.0</td>\n",
       "      <td>8</td>\n",
       "    </tr>\n",
       "    <tr>\n",
       "      <th>1</th>\n",
       "      <td>202209</td>\n",
       "      <td>종로구</td>\n",
       "      <td>화요일</td>\n",
       "      <td>0</td>\n",
       "      <td>81270.0</td>\n",
       "      <td>4</td>\n",
       "    </tr>\n",
       "    <tr>\n",
       "      <th>2</th>\n",
       "      <td>202209</td>\n",
       "      <td>종로구</td>\n",
       "      <td>수요일</td>\n",
       "      <td>0</td>\n",
       "      <td>312520.0</td>\n",
       "      <td>12</td>\n",
       "    </tr>\n",
       "    <tr>\n",
       "      <th>3</th>\n",
       "      <td>202209</td>\n",
       "      <td>종로구</td>\n",
       "      <td>목요일</td>\n",
       "      <td>0</td>\n",
       "      <td>104100.0</td>\n",
       "      <td>4</td>\n",
       "    </tr>\n",
       "    <tr>\n",
       "      <th>4</th>\n",
       "      <td>202209</td>\n",
       "      <td>종로구</td>\n",
       "      <td>금요일</td>\n",
       "      <td>0</td>\n",
       "      <td>314773.0</td>\n",
       "      <td>14</td>\n",
       "    </tr>\n",
       "  </tbody>\n",
       "</table>\n",
       "</div>"
      ],
      "text/plain": [
       "     date   gu days  time_int  order_amt  order_cnt\n",
       "0  202209  종로구  월요일         0   224080.0          8\n",
       "1  202209  종로구  화요일         0    81270.0          4\n",
       "2  202209  종로구  수요일         0   312520.0         12\n",
       "3  202209  종로구  목요일         0   104100.0          4\n",
       "4  202209  종로구  금요일         0   314773.0         14"
      ]
     },
     "execution_count": 17,
     "metadata": {},
     "output_type": "execute_result"
    }
   ],
   "source": [
    "df1.head()"
   ]
  },
  {
   "cell_type": "code",
   "execution_count": 18,
   "metadata": {},
   "outputs": [
    {
     "data": {
      "text/plain": [
       "date           int64\n",
       "gu            object\n",
       "days          object\n",
       "time_int       int64\n",
       "order_amt    float64\n",
       "order_cnt      int64\n",
       "dtype: object"
      ]
     },
     "execution_count": 18,
     "metadata": {},
     "output_type": "execute_result"
    }
   ],
   "source": [
    "# 데이터 타입 확인\n",
    "df1.dtypes"
   ]
  },
  {
   "cell_type": "code",
   "execution_count": 19,
   "metadata": {},
   "outputs": [
    {
     "data": {
      "text/plain": [
       "date         0\n",
       "gu           0\n",
       "days         0\n",
       "time_int     0\n",
       "order_amt    0\n",
       "order_cnt    0\n",
       "dtype: int64"
      ]
     },
     "execution_count": 19,
     "metadata": {},
     "output_type": "execute_result"
    }
   ],
   "source": [
    "# 결측치 확인\n",
    "df1.isnull().sum()"
   ]
  },
  {
   "cell_type": "code",
   "execution_count": 20,
   "metadata": {},
   "outputs": [],
   "source": [
    "# 인덱스 리셋\n",
    "df1.set_index([pd.Index(range(0,df1.gu.count()))], inplace=True)"
   ]
  },
  {
   "cell_type": "code",
   "execution_count": 21,
   "metadata": {},
   "outputs": [
    {
     "name": "stdout",
     "output_type": "stream",
     "text": [
      "<class 'pandas.core.frame.DataFrame'>\n",
      "RangeIndex: 12600 entries, 0 to 12599\n",
      "Data columns (total 6 columns):\n",
      " #   Column     Non-Null Count  Dtype  \n",
      "---  ------     --------------  -----  \n",
      " 0   date       12600 non-null  int64  \n",
      " 1   gu         12600 non-null  object \n",
      " 2   days       12600 non-null  object \n",
      " 3   time_int   12600 non-null  int64  \n",
      " 4   order_amt  12600 non-null  float64\n",
      " 5   order_cnt  12600 non-null  int64  \n",
      "dtypes: float64(1), int64(3), object(2)\n",
      "memory usage: 590.8+ KB\n"
     ]
    }
   ],
   "source": [
    "# 메모리 용량 확인\n",
    "df1.info()"
   ]
  },
  {
   "attachments": {},
   "cell_type": "markdown",
   "metadata": {},
   "source": [
    "# 3. csv 파일로 변환"
   ]
  },
  {
   "cell_type": "code",
   "execution_count": 22,
   "metadata": {},
   "outputs": [],
   "source": [
    "df1.to_csv('./csv/monthly_dong_order.csv')"
   ]
  }
 ],
 "metadata": {
  "kernelspec": {
   "display_name": "Python 3",
   "language": "python",
   "name": "python3"
  },
  "language_info": {
   "codemirror_mode": {
    "name": "ipython",
    "version": 3
   },
   "file_extension": ".py",
   "mimetype": "text/x-python",
   "name": "python",
   "nbconvert_exporter": "python",
   "pygments_lexer": "ipython3",
   "version": "3.11.2"
  },
  "orig_nbformat": 4,
  "vscode": {
   "interpreter": {
    "hash": "93cb88c8c23f1da55dedfd812a7caae5ec2bf62baf9b0901f535e3b1ad9c99c3"
   }
  }
 },
 "nbformat": 4,
 "nbformat_minor": 2
}
