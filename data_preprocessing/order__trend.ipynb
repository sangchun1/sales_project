{
 "cells": [
  {
   "cell_type": "markdown",
   "metadata": {},
   "source": [
    "# 1. 데이터 불러오기"
   ]
  },
  {
   "cell_type": "code",
   "execution_count": 1,
   "metadata": {},
   "outputs": [],
   "source": [
    "# 필요한 모듈 가져오기\n",
    "import pandas as pd"
   ]
  },
  {
   "cell_type": "code",
   "execution_count": 2,
   "metadata": {},
   "outputs": [],
   "source": [
    "# csv 파일들을 데이터프레임으로 변환\n",
    "df1 = pd.read_csv('D:/박상춘/프로젝트/raw data/배달음식서비스 소비 트렌드/mk_datus_db_dv_tr_2019.csv', encoding='cp949')\n",
    "df2 = pd.read_csv('D:/박상춘/프로젝트/raw data/배달음식서비스 소비 트렌드/mk_datus_db_dv_tr_2020.csv', encoding='cp949')\n",
    "df3 = pd.read_csv('D:/박상춘/프로젝트/raw data/배달음식서비스 소비 트렌드/mk_datus_db_dv_tr_2021.csv', encoding='cp949')\n",
    "df4 = pd.read_csv('D:/박상춘/프로젝트/raw data/배달음식서비스 소비 트렌드/mk_datus_db_dv_tr_2022.csv', encoding='cp949')"
   ]
  },
  {
   "cell_type": "code",
   "execution_count": 3,
   "metadata": {},
   "outputs": [],
   "source": [
    "# 데이터 프레임을 하나로 합치기\n",
    "df = pd.concat([df1, df2, df3, df4])"
   ]
  },
  {
   "cell_type": "markdown",
   "metadata": {},
   "source": [
    "# 2. 데이터 확인 및 전처리"
   ]
  },
  {
   "cell_type": "code",
   "execution_count": 4,
   "metadata": {},
   "outputs": [
    {
     "data": {
      "text/html": [
       "<div>\n",
       "<style scoped>\n",
       "    .dataframe tbody tr th:only-of-type {\n",
       "        vertical-align: middle;\n",
       "    }\n",
       "\n",
       "    .dataframe tbody tr th {\n",
       "        vertical-align: top;\n",
       "    }\n",
       "\n",
       "    .dataframe thead th {\n",
       "        text-align: right;\n",
       "    }\n",
       "</style>\n",
       "<table border=\"1\" class=\"dataframe\">\n",
       "  <thead>\n",
       "    <tr style=\"text-align: right;\">\n",
       "      <th></th>\n",
       "      <th>prtym</th>\n",
       "      <th>tco_c_new</th>\n",
       "      <th>mega_nm</th>\n",
       "      <th>ma_fem_dc1</th>\n",
       "      <th>ana_agegrp_dc</th>\n",
       "      <th>sl_am</th>\n",
       "      <th>sl_ct</th>\n",
       "    </tr>\n",
       "  </thead>\n",
       "  <tbody>\n",
       "    <tr>\n",
       "      <th>0</th>\n",
       "      <td>201901</td>\n",
       "      <td>Delivery</td>\n",
       "      <td>서울</td>\n",
       "      <td>남</td>\n",
       "      <td>20대</td>\n",
       "      <td>100676078</td>\n",
       "      <td>4702</td>\n",
       "    </tr>\n",
       "    <tr>\n",
       "      <th>1</th>\n",
       "      <td>201901</td>\n",
       "      <td>Delivery</td>\n",
       "      <td>서울</td>\n",
       "      <td>남</td>\n",
       "      <td>30대</td>\n",
       "      <td>340178597</td>\n",
       "      <td>14885</td>\n",
       "    </tr>\n",
       "    <tr>\n",
       "      <th>2</th>\n",
       "      <td>201901</td>\n",
       "      <td>Delivery</td>\n",
       "      <td>서울</td>\n",
       "      <td>남</td>\n",
       "      <td>40대</td>\n",
       "      <td>200274889</td>\n",
       "      <td>8715</td>\n",
       "    </tr>\n",
       "    <tr>\n",
       "      <th>3</th>\n",
       "      <td>201901</td>\n",
       "      <td>Delivery</td>\n",
       "      <td>서울</td>\n",
       "      <td>남</td>\n",
       "      <td>50대</td>\n",
       "      <td>66215884</td>\n",
       "      <td>2991</td>\n",
       "    </tr>\n",
       "    <tr>\n",
       "      <th>4</th>\n",
       "      <td>201901</td>\n",
       "      <td>Delivery</td>\n",
       "      <td>서울</td>\n",
       "      <td>남</td>\n",
       "      <td>60대이상</td>\n",
       "      <td>14937982</td>\n",
       "      <td>645</td>\n",
       "    </tr>\n",
       "    <tr>\n",
       "      <th>...</th>\n",
       "      <td>...</td>\n",
       "      <td>...</td>\n",
       "      <td>...</td>\n",
       "      <td>...</td>\n",
       "      <td>...</td>\n",
       "      <td>...</td>\n",
       "      <td>...</td>\n",
       "    </tr>\n",
       "    <tr>\n",
       "      <th>2035</th>\n",
       "      <td>202212</td>\n",
       "      <td>Delivery</td>\n",
       "      <td>제주</td>\n",
       "      <td>여</td>\n",
       "      <td>20대</td>\n",
       "      <td>63868037</td>\n",
       "      <td>2548</td>\n",
       "    </tr>\n",
       "    <tr>\n",
       "      <th>2036</th>\n",
       "      <td>202212</td>\n",
       "      <td>Delivery</td>\n",
       "      <td>제주</td>\n",
       "      <td>여</td>\n",
       "      <td>30대</td>\n",
       "      <td>180235625</td>\n",
       "      <td>6736</td>\n",
       "    </tr>\n",
       "    <tr>\n",
       "      <th>2037</th>\n",
       "      <td>202212</td>\n",
       "      <td>Delivery</td>\n",
       "      <td>제주</td>\n",
       "      <td>여</td>\n",
       "      <td>40대</td>\n",
       "      <td>289021149</td>\n",
       "      <td>10552</td>\n",
       "    </tr>\n",
       "    <tr>\n",
       "      <th>2038</th>\n",
       "      <td>202212</td>\n",
       "      <td>Delivery</td>\n",
       "      <td>제주</td>\n",
       "      <td>여</td>\n",
       "      <td>50대</td>\n",
       "      <td>92394732</td>\n",
       "      <td>3357</td>\n",
       "    </tr>\n",
       "    <tr>\n",
       "      <th>2039</th>\n",
       "      <td>202212</td>\n",
       "      <td>Delivery</td>\n",
       "      <td>제주</td>\n",
       "      <td>여</td>\n",
       "      <td>60대이상</td>\n",
       "      <td>14066006</td>\n",
       "      <td>564</td>\n",
       "    </tr>\n",
       "  </tbody>\n",
       "</table>\n",
       "<p>8158 rows × 7 columns</p>\n",
       "</div>"
      ],
      "text/plain": [
       "       prtym tco_c_new mega_nm ma_fem_dc1 ana_agegrp_dc      sl_am  sl_ct\n",
       "0     201901  Delivery      서울          남           20대  100676078   4702\n",
       "1     201901  Delivery      서울          남           30대  340178597  14885\n",
       "2     201901  Delivery      서울          남           40대  200274889   8715\n",
       "3     201901  Delivery      서울          남           50대   66215884   2991\n",
       "4     201901  Delivery      서울          남         60대이상   14937982    645\n",
       "...      ...       ...     ...        ...           ...        ...    ...\n",
       "2035  202212  Delivery      제주          여           20대   63868037   2548\n",
       "2036  202212  Delivery      제주          여           30대  180235625   6736\n",
       "2037  202212  Delivery      제주          여           40대  289021149  10552\n",
       "2038  202212  Delivery      제주          여           50대   92394732   3357\n",
       "2039  202212  Delivery      제주          여         60대이상   14066006    564\n",
       "\n",
       "[8158 rows x 7 columns]"
      ]
     },
     "execution_count": 4,
     "metadata": {},
     "output_type": "execute_result"
    }
   ],
   "source": [
    "df"
   ]
  },
  {
   "cell_type": "code",
   "execution_count": 5,
   "metadata": {},
   "outputs": [
    {
     "data": {
      "text/plain": [
       "array(['서울', '부산', '대구', '인천', '광주', '대전', '울산', '세종', '경기', '강원', '충북',\n",
       "       '충남', '전북', '전남', '경북', '경남', '제주'], dtype=object)"
      ]
     },
     "execution_count": 5,
     "metadata": {},
     "output_type": "execute_result"
    }
   ],
   "source": [
    "df['mega_nm'].unique()"
   ]
  },
  {
   "cell_type": "code",
   "execution_count": 6,
   "metadata": {},
   "outputs": [],
   "source": [
    "# 서울시 데이터만 추출\n",
    "df = df[df['mega_nm'] == '서울']"
   ]
  },
  {
   "cell_type": "code",
   "execution_count": 7,
   "metadata": {},
   "outputs": [
    {
     "name": "stderr",
     "output_type": "stream",
     "text": [
      "C:\\Users\\tjoeun\\AppData\\Local\\Temp\\ipykernel_10880\\1084131866.py:2: SettingWithCopyWarning: \n",
      "A value is trying to be set on a copy of a slice from a DataFrame\n",
      "\n",
      "See the caveats in the documentation: https://pandas.pydata.org/pandas-docs/stable/user_guide/indexing.html#returning-a-view-versus-a-copy\n",
      "  df.drop(['tco_c_new', 'mega_nm'], axis=1, inplace=True)\n"
     ]
    }
   ],
   "source": [
    "# 필요없는 컬럼 제거\n",
    "df.drop(['tco_c_new', 'mega_nm'], axis=1, inplace=True)"
   ]
  },
  {
   "cell_type": "code",
   "execution_count": 8,
   "metadata": {},
   "outputs": [
    {
     "name": "stderr",
     "output_type": "stream",
     "text": [
      "C:\\Users\\tjoeun\\AppData\\Local\\Temp\\ipykernel_10880\\3221223580.py:2: SettingWithCopyWarning: \n",
      "A value is trying to be set on a copy of a slice from a DataFrame\n",
      "\n",
      "See the caveats in the documentation: https://pandas.pydata.org/pandas-docs/stable/user_guide/indexing.html#returning-a-view-versus-a-copy\n",
      "  df.rename({'prtym':'date', 'ma_fem_dc1':'sex', 'ana_agegrp_dc':'age_group', 'sl_am':'order_amt', 'sl_ct':'order_cnt'}, axis=1, inplace=True)\n"
     ]
    }
   ],
   "source": [
    "# 컬럼명 바꾸기\n",
    "df.rename({'prtym':'date', 'ma_fem_dc1':'sex', 'ana_agegrp_dc':'age_group', 'sl_am':'order_amt', 'sl_ct':'order_cnt'}, axis=1, inplace=True)"
   ]
  },
  {
   "cell_type": "code",
   "execution_count": 9,
   "metadata": {},
   "outputs": [
    {
     "data": {
      "text/plain": [
       "date          int64\n",
       "sex          object\n",
       "age_group    object\n",
       "order_amt     int64\n",
       "order_cnt     int64\n",
       "dtype: object"
      ]
     },
     "execution_count": 9,
     "metadata": {},
     "output_type": "execute_result"
    }
   ],
   "source": [
    "# 데이터 타입 확인\n",
    "df.dtypes"
   ]
  },
  {
   "cell_type": "code",
   "execution_count": 10,
   "metadata": {},
   "outputs": [
    {
     "name": "stderr",
     "output_type": "stream",
     "text": [
      "C:\\Users\\tjoeun\\AppData\\Local\\Temp\\ipykernel_10880\\2842772252.py:2: SettingWithCopyWarning: \n",
      "A value is trying to be set on a copy of a slice from a DataFrame.\n",
      "Try using .loc[row_indexer,col_indexer] = value instead\n",
      "\n",
      "See the caveats in the documentation: https://pandas.pydata.org/pandas-docs/stable/user_guide/indexing.html#returning-a-view-versus-a-copy\n",
      "  df['sex'] = df['sex'].astype('category')\n",
      "C:\\Users\\tjoeun\\AppData\\Local\\Temp\\ipykernel_10880\\2842772252.py:3: SettingWithCopyWarning: \n",
      "A value is trying to be set on a copy of a slice from a DataFrame.\n",
      "Try using .loc[row_indexer,col_indexer] = value instead\n",
      "\n",
      "See the caveats in the documentation: https://pandas.pydata.org/pandas-docs/stable/user_guide/indexing.html#returning-a-view-versus-a-copy\n",
      "  df['age_group'] = df['age_group'].astype('category')\n"
     ]
    }
   ],
   "source": [
    "# 성별 및 연령대 컬럼을 카테고리 타입으로 변경\n",
    "df['sex'] = df['sex'].astype('category')\n",
    "df['age_group'] = df['age_group'].astype('category')"
   ]
  },
  {
   "cell_type": "code",
   "execution_count": 11,
   "metadata": {},
   "outputs": [
    {
     "data": {
      "text/plain": [
       "date         0\n",
       "sex          0\n",
       "age_group    0\n",
       "order_amt    0\n",
       "order_cnt    0\n",
       "dtype: int64"
      ]
     },
     "execution_count": 11,
     "metadata": {},
     "output_type": "execute_result"
    }
   ],
   "source": [
    "# 결측치 확인\n",
    "df.isnull().sum()"
   ]
  },
  {
   "cell_type": "code",
   "execution_count": 12,
   "metadata": {},
   "outputs": [],
   "source": [
    "# 인덱스 리셋\n",
    "df.set_index([pd.Index(range(0,480))], inplace=True)"
   ]
  },
  {
   "cell_type": "markdown",
   "metadata": {},
   "source": [
    "# 3. 데이터 프레임을 CSV 파일로 변환"
   ]
  },
  {
   "cell_type": "code",
   "execution_count": 13,
   "metadata": {},
   "outputs": [],
   "source": [
    "df.to_csv('order_trend.csv')"
   ]
  }
 ],
 "metadata": {
  "kernelspec": {
   "display_name": "Python 3",
   "language": "python",
   "name": "python3"
  },
  "language_info": {
   "codemirror_mode": {
    "name": "ipython",
    "version": 3
   },
   "file_extension": ".py",
   "mimetype": "text/x-python",
   "name": "python",
   "nbconvert_exporter": "python",
   "pygments_lexer": "ipython3",
   "version": "3.11.2"
  },
  "orig_nbformat": 4,
  "vscode": {
   "interpreter": {
    "hash": "93cb88c8c23f1da55dedfd812a7caae5ec2bf62baf9b0901f535e3b1ad9c99c3"
   }
  }
 },
 "nbformat": 4,
 "nbformat_minor": 2
}
