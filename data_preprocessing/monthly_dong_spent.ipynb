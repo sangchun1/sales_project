{
 "cells": [
  {
   "attachments": {},
   "cell_type": "markdown",
   "metadata": {},
   "source": [
    "# 1. 데이터 불러오기"
   ]
  },
  {
   "cell_type": "code",
   "execution_count": 1,
   "metadata": {},
   "outputs": [],
   "source": [
    "# 필요한 모듈 가져오기\n",
    "import pandas as pd"
   ]
  },
  {
   "cell_type": "code",
   "execution_count": 2,
   "metadata": {},
   "outputs": [],
   "source": [
    "# csv 파일을 하나씩 데이터 프레임으로 변환\n",
    "df1 = pd.read_csv('D:/학생방/박상춘/프로젝트/raw data/월별 행정동별 소비 데이터/delivery_서울특별시_202209.csv', encoding='CP949', low_memory=False)\n",
    "df2 = pd.read_csv('D:/학생방/박상춘/프로젝트/raw data/월별 행정동별 소비 데이터/delivery_서울특별시_202210.csv', encoding='CP949', low_memory=False)\n",
    "df3 = pd.read_csv('D:/학생방/박상춘/프로젝트/raw data/월별 행정동별 소비 데이터/delivery_서울특별시_202211.csv', encoding='CP949', low_memory=False)"
   ]
  },
  {
   "cell_type": "code",
   "execution_count": 3,
   "metadata": {},
   "outputs": [],
   "source": [
    "# 데이터 프레임을 하나로 합치기\n",
    "df = pd.concat([df1, df2, df3])"
   ]
  },
  {
   "attachments": {},
   "cell_type": "markdown",
   "metadata": {},
   "source": [
    "# 2. 데이터 확인 및 전처리"
   ]
  },
  {
   "cell_type": "code",
   "execution_count": 4,
   "metadata": {},
   "outputs": [
    {
     "data": {
      "text/html": [
       "<div>\n",
       "<style scoped>\n",
       "    .dataframe tbody tr th:only-of-type {\n",
       "        vertical-align: middle;\n",
       "    }\n",
       "\n",
       "    .dataframe tbody tr th {\n",
       "        vertical-align: top;\n",
       "    }\n",
       "\n",
       "    .dataframe thead th {\n",
       "        text-align: right;\n",
       "    }\n",
       "</style>\n",
       "<table border=\"1\" class=\"dataframe\">\n",
       "  <thead>\n",
       "    <tr style=\"text-align: right;\">\n",
       "      <th></th>\n",
       "      <th>crym</th>\n",
       "      <th>admd_c</th>\n",
       "      <th>ana_mgpo_nm</th>\n",
       "      <th>ana_ccd_nm</th>\n",
       "      <th>admd_nm</th>\n",
       "      <th>dayofweek</th>\n",
       "      <th>time_interval</th>\n",
       "      <th>sl_am</th>\n",
       "      <th>sl_ct</th>\n",
       "    </tr>\n",
       "  </thead>\n",
       "  <tbody>\n",
       "    <tr>\n",
       "      <th>0</th>\n",
       "      <td>202209</td>\n",
       "      <td>1111051500</td>\n",
       "      <td>서울특별시</td>\n",
       "      <td>종로구</td>\n",
       "      <td>청운효자동</td>\n",
       "      <td>Fri</td>\n",
       "      <td>0</td>\n",
       "      <td>45700.0</td>\n",
       "      <td>2</td>\n",
       "    </tr>\n",
       "    <tr>\n",
       "      <th>1</th>\n",
       "      <td>202209</td>\n",
       "      <td>1111051500</td>\n",
       "      <td>서울특별시</td>\n",
       "      <td>종로구</td>\n",
       "      <td>청운효자동</td>\n",
       "      <td>Fri</td>\n",
       "      <td>8</td>\n",
       "      <td>16900.0</td>\n",
       "      <td>1</td>\n",
       "    </tr>\n",
       "    <tr>\n",
       "      <th>2</th>\n",
       "      <td>202209</td>\n",
       "      <td>1111051500</td>\n",
       "      <td>서울특별시</td>\n",
       "      <td>종로구</td>\n",
       "      <td>청운효자동</td>\n",
       "      <td>Fri</td>\n",
       "      <td>9</td>\n",
       "      <td>35400.0</td>\n",
       "      <td>1</td>\n",
       "    </tr>\n",
       "    <tr>\n",
       "      <th>3</th>\n",
       "      <td>202209</td>\n",
       "      <td>1111051500</td>\n",
       "      <td>서울특별시</td>\n",
       "      <td>종로구</td>\n",
       "      <td>청운효자동</td>\n",
       "      <td>Fri</td>\n",
       "      <td>10</td>\n",
       "      <td>73100.0</td>\n",
       "      <td>4</td>\n",
       "    </tr>\n",
       "    <tr>\n",
       "      <th>4</th>\n",
       "      <td>202209</td>\n",
       "      <td>1111051500</td>\n",
       "      <td>서울특별시</td>\n",
       "      <td>종로구</td>\n",
       "      <td>청운효자동</td>\n",
       "      <td>Fri</td>\n",
       "      <td>11</td>\n",
       "      <td>92400.0</td>\n",
       "      <td>4</td>\n",
       "    </tr>\n",
       "  </tbody>\n",
       "</table>\n",
       "</div>"
      ],
      "text/plain": [
       "     crym      admd_c ana_mgpo_nm ana_ccd_nm admd_nm dayofweek  time_interval  \\\n",
       "0  202209  1111051500       서울특별시        종로구   청운효자동       Fri              0   \n",
       "1  202209  1111051500       서울특별시        종로구   청운효자동       Fri              8   \n",
       "2  202209  1111051500       서울특별시        종로구   청운효자동       Fri              9   \n",
       "3  202209  1111051500       서울특별시        종로구   청운효자동       Fri             10   \n",
       "4  202209  1111051500       서울특별시        종로구   청운효자동       Fri             11   \n",
       "\n",
       "     sl_am  sl_ct  \n",
       "0  45700.0      2  \n",
       "1  16900.0      1  \n",
       "2  35400.0      1  \n",
       "3  73100.0      4  \n",
       "4  92400.0      4  "
      ]
     },
     "execution_count": 4,
     "metadata": {},
     "output_type": "execute_result"
    }
   ],
   "source": [
    "df.head()"
   ]
  },
  {
   "cell_type": "code",
   "execution_count": 5,
   "metadata": {},
   "outputs": [],
   "source": [
    "# 인덱스 리셋\n",
    "df.set_index([pd.Index(range(0,127999))], inplace=True)"
   ]
  },
  {
   "cell_type": "code",
   "execution_count": 6,
   "metadata": {},
   "outputs": [],
   "source": [
    "# 필요없는 컬럼 제거\n",
    "df.drop(['admd_c'], axis=1, inplace=True)"
   ]
  },
  {
   "cell_type": "code",
   "execution_count": 7,
   "metadata": {},
   "outputs": [],
   "source": [
    "# 컬럼명 바꾸기\n",
    "df.rename({'crym':'date', 'ana_mgpo_nm':'city', 'ana_ccd_nm':'gu', 'admd_nm':'dong', 'sl_am':'usage_amount', 'sl_ct':'usage_count'}, axis=1, inplace=True)"
   ]
  },
  {
   "cell_type": "code",
   "execution_count": 8,
   "metadata": {},
   "outputs": [
    {
     "name": "stdout",
     "output_type": "stream",
     "text": [
      "<class 'pandas.core.frame.DataFrame'>\n",
      "RangeIndex: 127999 entries, 0 to 127998\n",
      "Data columns (total 8 columns):\n",
      " #   Column         Non-Null Count   Dtype  \n",
      "---  ------         --------------   -----  \n",
      " 0   date           127999 non-null  int64  \n",
      " 1   city           127999 non-null  object \n",
      " 2   gu             127999 non-null  object \n",
      " 3   dong           127999 non-null  object \n",
      " 4   dayofweek      127999 non-null  object \n",
      " 5   time_interval  127999 non-null  int64  \n",
      " 6   usage_amount   127999 non-null  float64\n",
      " 7   usage_count    127999 non-null  int64  \n",
      "dtypes: float64(1), int64(3), object(4)\n",
      "memory usage: 7.8+ MB\n"
     ]
    }
   ],
   "source": [
    "# 메모리 용량 확인\n",
    "df.info()"
   ]
  },
  {
   "cell_type": "code",
   "execution_count": 9,
   "metadata": {},
   "outputs": [
    {
     "data": {
      "text/plain": [
       "date               int64\n",
       "city              object\n",
       "gu                object\n",
       "dong              object\n",
       "dayofweek         object\n",
       "time_interval      int64\n",
       "usage_amount     float64\n",
       "usage_count        int64\n",
       "dtype: object"
      ]
     },
     "execution_count": 9,
     "metadata": {},
     "output_type": "execute_result"
    }
   ],
   "source": [
    "# 데이터 타입 확인\n",
    "df.dtypes"
   ]
  },
  {
   "cell_type": "code",
   "execution_count": 10,
   "metadata": {},
   "outputs": [],
   "source": [
    "# 타임 인터벌을 카테고리 형태로 바꾸기\n",
    "df['time_interval'] = df['time_interval'].astype('category')"
   ]
  },
  {
   "cell_type": "code",
   "execution_count": 11,
   "metadata": {},
   "outputs": [
    {
     "data": {
      "text/plain": [
       "date             0\n",
       "city             0\n",
       "gu               0\n",
       "dong             0\n",
       "dayofweek        0\n",
       "time_interval    0\n",
       "usage_amount     0\n",
       "usage_count      0\n",
       "dtype: int64"
      ]
     },
     "execution_count": 11,
     "metadata": {},
     "output_type": "execute_result"
    }
   ],
   "source": [
    "# 결측치 확인\n",
    "df.isnull().sum()"
   ]
  },
  {
   "attachments": {},
   "cell_type": "markdown",
   "metadata": {},
   "source": [
    "# 3. csv 파일로 변환"
   ]
  },
  {
   "cell_type": "code",
   "execution_count": 12,
   "metadata": {},
   "outputs": [],
   "source": [
    "df.to_csv('montly_dong_spent.csv')"
   ]
  }
 ],
 "metadata": {
  "kernelspec": {
   "display_name": "Python 3",
   "language": "python",
   "name": "python3"
  },
  "language_info": {
   "codemirror_mode": {
    "name": "ipython",
    "version": 3
   },
   "file_extension": ".py",
   "mimetype": "text/x-python",
   "name": "python",
   "nbconvert_exporter": "python",
   "pygments_lexer": "ipython3",
   "version": "3.11.1"
  },
  "orig_nbformat": 4,
  "vscode": {
   "interpreter": {
    "hash": "de47f5c92c0ee6f12a59a5613ac5feff6aab19ddff207ba0b3964cced08c4ccc"
   }
  }
 },
 "nbformat": 4,
 "nbformat_minor": 2
}
