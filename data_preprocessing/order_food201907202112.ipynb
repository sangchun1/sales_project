{
 "cells": [
  {
   "cell_type": "code",
   "execution_count": 1,
   "id": "082806f1",
   "metadata": {},
   "outputs": [],
   "source": [
    "# 모듈임포트\n",
    "import pandas as pd"
   ]
  },
  {
   "cell_type": "code",
   "execution_count": 2,
   "id": "a8692b51",
   "metadata": {},
   "outputs": [],
   "source": [
    "# 데이터 불러오기\n",
    "df1= pd.read_csv(\"./201907_201909지역별요일별배달품목.csv\")\n",
    "\n",
    "df2= pd.read_csv(\"./202001_202006지역별요일별배달품목.csv\")\n",
    "\n",
    "df3= pd.read_csv(\"./202007_202012지역별요일별배달품목.csv\")\n",
    "\n",
    "df4= pd.read_csv(\"./202101_202106지역별요일별배달품목.csv\")\n",
    "\n",
    "df5= pd.read_csv(\"./202107_202112지역별요일별배달품목.csv\")"
   ]
  },
  {
   "cell_type": "code",
   "execution_count": 3,
   "id": "09e2e152",
   "metadata": {},
   "outputs": [],
   "source": [
    "total = pd.concat([df1,df2,df3,df4,df5])"
   ]
  },
  {
   "cell_type": "code",
   "execution_count": 4,
   "id": "391f25d3",
   "metadata": {},
   "outputs": [
    {
     "data": {
      "text/html": [
       "<div>\n",
       "<style scoped>\n",
       "    .dataframe tbody tr th:only-of-type {\n",
       "        vertical-align: middle;\n",
       "    }\n",
       "\n",
       "    .dataframe tbody tr th {\n",
       "        vertical-align: top;\n",
       "    }\n",
       "\n",
       "    .dataframe thead th {\n",
       "        text-align: right;\n",
       "    }\n",
       "</style>\n",
       "<table border=\"1\" class=\"dataframe\">\n",
       "  <thead>\n",
       "    <tr style=\"text-align: right;\">\n",
       "      <th></th>\n",
       "      <th>Unnamed: 0</th>\n",
       "      <th>date</th>\n",
       "      <th>time_int</th>\n",
       "      <th>days</th>\n",
       "      <th>gu</th>\n",
       "      <th>food</th>\n",
       "      <th>광명시</th>\n",
       "    </tr>\n",
       "  </thead>\n",
       "  <tbody>\n",
       "    <tr>\n",
       "      <th>0</th>\n",
       "      <td>0</td>\n",
       "      <td>2019-07-31</td>\n",
       "      <td>0</td>\n",
       "      <td>수요일</td>\n",
       "      <td>영등포구</td>\n",
       "      <td>치킨</td>\n",
       "      <td>NaN</td>\n",
       "    </tr>\n",
       "    <tr>\n",
       "      <th>1</th>\n",
       "      <td>1</td>\n",
       "      <td>2019-07-31</td>\n",
       "      <td>0</td>\n",
       "      <td>수요일</td>\n",
       "      <td>은평구</td>\n",
       "      <td>족발/보쌈</td>\n",
       "      <td>NaN</td>\n",
       "    </tr>\n",
       "    <tr>\n",
       "      <th>2</th>\n",
       "      <td>2</td>\n",
       "      <td>2019-07-31</td>\n",
       "      <td>0</td>\n",
       "      <td>수요일</td>\n",
       "      <td>구로구</td>\n",
       "      <td>패스트푸드</td>\n",
       "      <td>NaN</td>\n",
       "    </tr>\n",
       "    <tr>\n",
       "      <th>3</th>\n",
       "      <td>3</td>\n",
       "      <td>2019-07-31</td>\n",
       "      <td>0</td>\n",
       "      <td>수요일</td>\n",
       "      <td>금천구</td>\n",
       "      <td>한식</td>\n",
       "      <td>NaN</td>\n",
       "    </tr>\n",
       "    <tr>\n",
       "      <th>4</th>\n",
       "      <td>4</td>\n",
       "      <td>2019-07-31</td>\n",
       "      <td>0</td>\n",
       "      <td>수요일</td>\n",
       "      <td>영등포구</td>\n",
       "      <td>피자</td>\n",
       "      <td>NaN</td>\n",
       "    </tr>\n",
       "    <tr>\n",
       "      <th>...</th>\n",
       "      <td>...</td>\n",
       "      <td>...</td>\n",
       "      <td>...</td>\n",
       "      <td>...</td>\n",
       "      <td>...</td>\n",
       "      <td>...</td>\n",
       "      <td>...</td>\n",
       "    </tr>\n",
       "    <tr>\n",
       "      <th>366160</th>\n",
       "      <td>366160</td>\n",
       "      <td>2021-12-31</td>\n",
       "      <td>23</td>\n",
       "      <td>금요일</td>\n",
       "      <td>구로구</td>\n",
       "      <td>야식</td>\n",
       "      <td>NaN</td>\n",
       "    </tr>\n",
       "    <tr>\n",
       "      <th>366161</th>\n",
       "      <td>366161</td>\n",
       "      <td>2021-12-31</td>\n",
       "      <td>23</td>\n",
       "      <td>금요일</td>\n",
       "      <td>구로구</td>\n",
       "      <td>야식</td>\n",
       "      <td>NaN</td>\n",
       "    </tr>\n",
       "    <tr>\n",
       "      <th>366162</th>\n",
       "      <td>366162</td>\n",
       "      <td>2021-12-31</td>\n",
       "      <td>23</td>\n",
       "      <td>금요일</td>\n",
       "      <td>강서구</td>\n",
       "      <td>한식</td>\n",
       "      <td>NaN</td>\n",
       "    </tr>\n",
       "    <tr>\n",
       "      <th>366163</th>\n",
       "      <td>366163</td>\n",
       "      <td>2021-12-31</td>\n",
       "      <td>23</td>\n",
       "      <td>금요일</td>\n",
       "      <td>강서구</td>\n",
       "      <td>야식</td>\n",
       "      <td>NaN</td>\n",
       "    </tr>\n",
       "    <tr>\n",
       "      <th>366164</th>\n",
       "      <td>366164</td>\n",
       "      <td>2021-12-31</td>\n",
       "      <td>23</td>\n",
       "      <td>금요일</td>\n",
       "      <td>금천구</td>\n",
       "      <td>돈까스/일식</td>\n",
       "      <td>NaN</td>\n",
       "    </tr>\n",
       "  </tbody>\n",
       "</table>\n",
       "<p>3616643 rows × 7 columns</p>\n",
       "</div>"
      ],
      "text/plain": [
       "        Unnamed: 0        date  time_int days    gu    food  광명시\n",
       "0                0  2019-07-31         0  수요일  영등포구      치킨  NaN\n",
       "1                1  2019-07-31         0  수요일   은평구   족발/보쌈  NaN\n",
       "2                2  2019-07-31         0  수요일   구로구   패스트푸드  NaN\n",
       "3                3  2019-07-31         0  수요일   금천구      한식  NaN\n",
       "4                4  2019-07-31         0  수요일  영등포구      피자  NaN\n",
       "...            ...         ...       ...  ...   ...     ...  ...\n",
       "366160      366160  2021-12-31        23  금요일   구로구      야식  NaN\n",
       "366161      366161  2021-12-31        23  금요일   구로구      야식  NaN\n",
       "366162      366162  2021-12-31        23  금요일   강서구      한식  NaN\n",
       "366163      366163  2021-12-31        23  금요일   강서구      야식  NaN\n",
       "366164      366164  2021-12-31        23  금요일   금천구  돈까스/일식  NaN\n",
       "\n",
       "[3616643 rows x 7 columns]"
      ]
     },
     "execution_count": 4,
     "metadata": {},
     "output_type": "execute_result"
    }
   ],
   "source": [
    "total"
   ]
  },
  {
   "cell_type": "code",
   "execution_count": 5,
   "id": "a4a852b1",
   "metadata": {},
   "outputs": [
    {
     "name": "stdout",
     "output_type": "stream",
     "text": [
      "<class 'pandas.core.frame.DataFrame'>\n",
      "Int64Index: 3616643 entries, 0 to 366164\n",
      "Data columns (total 7 columns):\n",
      " #   Column      Dtype \n",
      "---  ------      ----- \n",
      " 0   Unnamed: 0  int64 \n",
      " 1   date        object\n",
      " 2   time_int    int64 \n",
      " 3   days        object\n",
      " 4   gu          object\n",
      " 5   food        object\n",
      " 6   광명시         object\n",
      "dtypes: int64(2), object(5)\n",
      "memory usage: 220.7+ MB\n"
     ]
    }
   ],
   "source": [
    "# 데이터 타입 확인\n",
    "total.info()"
   ]
  },
  {
   "cell_type": "code",
   "execution_count": 6,
   "id": "20296136",
   "metadata": {},
   "outputs": [],
   "source": [
    "# 날짜 데이터를 datetime형식으로 변환\n",
    "total['date'] = pd.to_datetime(total['date'])"
   ]
  },
  {
   "cell_type": "code",
   "execution_count": 7,
   "id": "8d029391",
   "metadata": {},
   "outputs": [
    {
     "name": "stdout",
     "output_type": "stream",
     "text": [
      "<class 'pandas.core.frame.DataFrame'>\n",
      "Int64Index: 3616643 entries, 0 to 366164\n",
      "Data columns (total 7 columns):\n",
      " #   Column      Dtype         \n",
      "---  ------      -----         \n",
      " 0   Unnamed: 0  int64         \n",
      " 1   date        datetime64[ns]\n",
      " 2   time_int    int64         \n",
      " 3   days        object        \n",
      " 4   gu          object        \n",
      " 5   food        object        \n",
      " 6   광명시         object        \n",
      "dtypes: datetime64[ns](1), int64(2), object(4)\n",
      "memory usage: 220.7+ MB\n"
     ]
    }
   ],
   "source": [
    "total.info()"
   ]
  },
  {
   "cell_type": "code",
   "execution_count": 8,
   "id": "91fc284a",
   "metadata": {},
   "outputs": [],
   "source": [
    "# 필요없는 데이터 행 삭제\n",
    "total.drop('광명시', axis =1, inplace=True)\n",
    "total.drop('Unnamed: 0', axis=1,inplace=True)"
   ]
  },
  {
   "cell_type": "code",
   "execution_count": 9,
   "id": "fa4e4cd4",
   "metadata": {},
   "outputs": [
    {
     "data": {
      "text/html": [
       "<div>\n",
       "<style scoped>\n",
       "    .dataframe tbody tr th:only-of-type {\n",
       "        vertical-align: middle;\n",
       "    }\n",
       "\n",
       "    .dataframe tbody tr th {\n",
       "        vertical-align: top;\n",
       "    }\n",
       "\n",
       "    .dataframe thead th {\n",
       "        text-align: right;\n",
       "    }\n",
       "</style>\n",
       "<table border=\"1\" class=\"dataframe\">\n",
       "  <thead>\n",
       "    <tr style=\"text-align: right;\">\n",
       "      <th></th>\n",
       "      <th>date</th>\n",
       "      <th>time_int</th>\n",
       "      <th>days</th>\n",
       "      <th>gu</th>\n",
       "      <th>food</th>\n",
       "    </tr>\n",
       "  </thead>\n",
       "  <tbody>\n",
       "    <tr>\n",
       "      <th>0</th>\n",
       "      <td>2019-07-31</td>\n",
       "      <td>0</td>\n",
       "      <td>수요일</td>\n",
       "      <td>영등포구</td>\n",
       "      <td>치킨</td>\n",
       "    </tr>\n",
       "    <tr>\n",
       "      <th>1</th>\n",
       "      <td>2019-07-31</td>\n",
       "      <td>0</td>\n",
       "      <td>수요일</td>\n",
       "      <td>은평구</td>\n",
       "      <td>족발/보쌈</td>\n",
       "    </tr>\n",
       "    <tr>\n",
       "      <th>2</th>\n",
       "      <td>2019-07-31</td>\n",
       "      <td>0</td>\n",
       "      <td>수요일</td>\n",
       "      <td>구로구</td>\n",
       "      <td>패스트푸드</td>\n",
       "    </tr>\n",
       "    <tr>\n",
       "      <th>3</th>\n",
       "      <td>2019-07-31</td>\n",
       "      <td>0</td>\n",
       "      <td>수요일</td>\n",
       "      <td>금천구</td>\n",
       "      <td>한식</td>\n",
       "    </tr>\n",
       "    <tr>\n",
       "      <th>4</th>\n",
       "      <td>2019-07-31</td>\n",
       "      <td>0</td>\n",
       "      <td>수요일</td>\n",
       "      <td>영등포구</td>\n",
       "      <td>피자</td>\n",
       "    </tr>\n",
       "    <tr>\n",
       "      <th>...</th>\n",
       "      <td>...</td>\n",
       "      <td>...</td>\n",
       "      <td>...</td>\n",
       "      <td>...</td>\n",
       "      <td>...</td>\n",
       "    </tr>\n",
       "    <tr>\n",
       "      <th>366160</th>\n",
       "      <td>2021-12-31</td>\n",
       "      <td>23</td>\n",
       "      <td>금요일</td>\n",
       "      <td>구로구</td>\n",
       "      <td>야식</td>\n",
       "    </tr>\n",
       "    <tr>\n",
       "      <th>366161</th>\n",
       "      <td>2021-12-31</td>\n",
       "      <td>23</td>\n",
       "      <td>금요일</td>\n",
       "      <td>구로구</td>\n",
       "      <td>야식</td>\n",
       "    </tr>\n",
       "    <tr>\n",
       "      <th>366162</th>\n",
       "      <td>2021-12-31</td>\n",
       "      <td>23</td>\n",
       "      <td>금요일</td>\n",
       "      <td>강서구</td>\n",
       "      <td>한식</td>\n",
       "    </tr>\n",
       "    <tr>\n",
       "      <th>366163</th>\n",
       "      <td>2021-12-31</td>\n",
       "      <td>23</td>\n",
       "      <td>금요일</td>\n",
       "      <td>강서구</td>\n",
       "      <td>야식</td>\n",
       "    </tr>\n",
       "    <tr>\n",
       "      <th>366164</th>\n",
       "      <td>2021-12-31</td>\n",
       "      <td>23</td>\n",
       "      <td>금요일</td>\n",
       "      <td>금천구</td>\n",
       "      <td>돈까스/일식</td>\n",
       "    </tr>\n",
       "  </tbody>\n",
       "</table>\n",
       "<p>3616643 rows × 5 columns</p>\n",
       "</div>"
      ],
      "text/plain": [
       "             date  time_int days    gu    food\n",
       "0      2019-07-31         0  수요일  영등포구      치킨\n",
       "1      2019-07-31         0  수요일   은평구   족발/보쌈\n",
       "2      2019-07-31         0  수요일   구로구   패스트푸드\n",
       "3      2019-07-31         0  수요일   금천구      한식\n",
       "4      2019-07-31         0  수요일  영등포구      피자\n",
       "...           ...       ...  ...   ...     ...\n",
       "366160 2021-12-31        23  금요일   구로구      야식\n",
       "366161 2021-12-31        23  금요일   구로구      야식\n",
       "366162 2021-12-31        23  금요일   강서구      한식\n",
       "366163 2021-12-31        23  금요일   강서구      야식\n",
       "366164 2021-12-31        23  금요일   금천구  돈까스/일식\n",
       "\n",
       "[3616643 rows x 5 columns]"
      ]
     },
     "execution_count": 9,
     "metadata": {},
     "output_type": "execute_result"
    }
   ],
   "source": [
    "total"
   ]
  },
  {
   "cell_type": "code",
   "execution_count": 10,
   "id": "3f3736cd",
   "metadata": {},
   "outputs": [
    {
     "data": {
      "text/plain": [
       "date             0\n",
       "time_int         0\n",
       "days             0\n",
       "gu          855952\n",
       "food             0\n",
       "dtype: int64"
      ]
     },
     "execution_count": 10,
     "metadata": {},
     "output_type": "execute_result"
    }
   ],
   "source": [
    "# 결측치 확인\n",
    "total.isnull().sum()"
   ]
  },
  {
   "cell_type": "code",
   "execution_count": 11,
   "id": "3fd5702f",
   "metadata": {},
   "outputs": [],
   "source": [
    "# 특정컬럼 결측치제거후 적용\n",
    "total.dropna(subset=['gu'])\n",
    "total.dropna(inplace=True)"
   ]
  },
  {
   "cell_type": "code",
   "execution_count": 12,
   "id": "759d1cc3",
   "metadata": {},
   "outputs": [
    {
     "data": {
      "text/plain": [
       "date        0\n",
       "time_int    0\n",
       "days        0\n",
       "gu          0\n",
       "food        0\n",
       "dtype: int64"
      ]
     },
     "execution_count": 12,
     "metadata": {},
     "output_type": "execute_result"
    }
   ],
   "source": [
    "total.isnull().sum()"
   ]
  },
  {
   "cell_type": "code",
   "execution_count": 13,
   "id": "430dbdfd",
   "metadata": {},
   "outputs": [],
   "source": [
    "total.to_csv(\"201907~202112 지역요일별배달품목.csv\")"
   ]
  },
  {
   "cell_type": "code",
   "execution_count": null,
   "id": "4642bfcd",
   "metadata": {},
   "outputs": [],
   "source": []
  }
 ],
 "metadata": {
  "kernelspec": {
   "display_name": "Python 3 (ipykernel)",
   "language": "python",
   "name": "python3"
  },
  "language_info": {
   "codemirror_mode": {
    "name": "ipython",
    "version": 3
   },
   "file_extension": ".py",
   "mimetype": "text/x-python",
   "name": "python",
   "nbconvert_exporter": "python",
   "pygments_lexer": "ipython3",
   "version": "3.11.2"
  }
 },
 "nbformat": 4,
 "nbformat_minor": 5
}
