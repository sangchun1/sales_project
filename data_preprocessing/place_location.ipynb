{
  "cells": [
    {
      "cell_type": "markdown",
      "metadata": {
        "id": "7REvNh1Jxrd7"
      },
      "source": [
        "# 1. 데이터 불러오기"
      ]
    },
    {
      "cell_type": "code",
      "execution_count": 1,
      "metadata": {
        "id": "kf58CDE2XP4U"
      },
      "outputs": [],
      "source": [
        "# 필요한 모듈 가져오기\n",
        "import pandas as pd\n",
        "import requests\n",
        "from urllib.parse import quote\n",
        "from tqdm import tqdm"
      ]
    },
    {
      "cell_type": "code",
      "execution_count": 2,
      "metadata": {
        "colab": {
          "base_uri": "https://localhost:8080/"
        },
        "id": "deV_HzSBXe-I",
        "outputId": "2d1dcc1f-718b-477c-93f4-6251980d2b11"
      },
      "outputs": [
        {
          "name": "stderr",
          "output_type": "stream",
          "text": [
            "c:\\Program Files\\Python311\\Lib\\site-packages\\openpyxl\\styles\\stylesheet.py:226: UserWarning: Workbook contains no default style, apply openpyxl's default\n",
            "  warn(\"Workbook contains no default style, apply openpyxl's default\")\n"
          ]
        }
      ],
      "source": [
        "# 엑셀파일을 데이터프레임으로 변환\n",
        "df = pd.read_excel(\"C:/Kcoding/팀프로젝트 데이터/내가 담당한것/place_location/07_24_04_P_일반음식점.xlsx\", engine='openpyxl')"
      ]
    },
    {
      "cell_type": "markdown",
      "metadata": {
        "id": "0249DG_hxugq"
      },
      "source": [
        "# 2. 데이터 확인 및 전처리"
      ]
    },
    {
      "cell_type": "code",
      "execution_count": 3,
      "metadata": {
        "colab": {
          "base_uri": "https://localhost:8080/",
          "height": 384
        },
        "id": "gPbT9jCGXnIQ",
        "outputId": "416e69e9-e6a4-405a-ef9c-89b35dc8e449"
      },
      "outputs": [
        {
          "data": {
            "text/html": [
              "<div>\n",
              "<style scoped>\n",
              "    .dataframe tbody tr th:only-of-type {\n",
              "        vertical-align: middle;\n",
              "    }\n",
              "\n",
              "    .dataframe tbody tr th {\n",
              "        vertical-align: top;\n",
              "    }\n",
              "\n",
              "    .dataframe thead th {\n",
              "        text-align: right;\n",
              "    }\n",
              "</style>\n",
              "<table border=\"1\" class=\"dataframe\">\n",
              "  <thead>\n",
              "    <tr style=\"text-align: right;\">\n",
              "      <th></th>\n",
              "      <th>번호</th>\n",
              "      <th>개방서비스명</th>\n",
              "      <th>개방서비스아이디</th>\n",
              "      <th>개방자치단체코드</th>\n",
              "      <th>관리번호</th>\n",
              "      <th>인허가일자</th>\n",
              "      <th>인허가취소일자</th>\n",
              "      <th>영업상태구분코드</th>\n",
              "      <th>영업상태명</th>\n",
              "      <th>상세영업상태코드</th>\n",
              "      <th>...</th>\n",
              "      <th>공장판매직직원수</th>\n",
              "      <th>공장생산직직원수</th>\n",
              "      <th>건물소유구분명</th>\n",
              "      <th>보증액</th>\n",
              "      <th>월세액</th>\n",
              "      <th>다중이용업소여부</th>\n",
              "      <th>시설총규모</th>\n",
              "      <th>전통업소지정번호</th>\n",
              "      <th>전통업소주된음식</th>\n",
              "      <th>홈페이지</th>\n",
              "    </tr>\n",
              "  </thead>\n",
              "  <tbody>\n",
              "    <tr>\n",
              "      <th>0</th>\n",
              "      <td>396</td>\n",
              "      <td>일반음식점</td>\n",
              "      <td>07_24_04_P</td>\n",
              "      <td>3000000</td>\n",
              "      <td>3000000-101-2023-00038</td>\n",
              "      <td>2023-02-07</td>\n",
              "      <td>NaN</td>\n",
              "      <td>1</td>\n",
              "      <td>영업/정상</td>\n",
              "      <td>1</td>\n",
              "      <td>...</td>\n",
              "      <td>0</td>\n",
              "      <td>0</td>\n",
              "      <td>NaN</td>\n",
              "      <td>0</td>\n",
              "      <td>0</td>\n",
              "      <td>Y</td>\n",
              "      <td>172.90</td>\n",
              "      <td>NaN</td>\n",
              "      <td>NaN</td>\n",
              "      <td>NaN</td>\n",
              "    </tr>\n",
              "    <tr>\n",
              "      <th>1</th>\n",
              "      <td>3707</td>\n",
              "      <td>일반음식점</td>\n",
              "      <td>07_24_04_P</td>\n",
              "      <td>3080000</td>\n",
              "      <td>3080000-101-2023-00026</td>\n",
              "      <td>2023-02-07</td>\n",
              "      <td>NaN</td>\n",
              "      <td>1</td>\n",
              "      <td>영업/정상</td>\n",
              "      <td>1</td>\n",
              "      <td>...</td>\n",
              "      <td>0</td>\n",
              "      <td>0</td>\n",
              "      <td>NaN</td>\n",
              "      <td>0</td>\n",
              "      <td>0</td>\n",
              "      <td>N</td>\n",
              "      <td>493.74</td>\n",
              "      <td>NaN</td>\n",
              "      <td>NaN</td>\n",
              "      <td>NaN</td>\n",
              "    </tr>\n",
              "    <tr>\n",
              "      <th>2</th>\n",
              "      <td>3910</td>\n",
              "      <td>일반음식점</td>\n",
              "      <td>07_24_04_P</td>\n",
              "      <td>3090000</td>\n",
              "      <td>3090000-101-2023-00020</td>\n",
              "      <td>2023-02-07</td>\n",
              "      <td>NaN</td>\n",
              "      <td>1</td>\n",
              "      <td>영업/정상</td>\n",
              "      <td>1</td>\n",
              "      <td>...</td>\n",
              "      <td>0</td>\n",
              "      <td>0</td>\n",
              "      <td>NaN</td>\n",
              "      <td>0</td>\n",
              "      <td>0</td>\n",
              "      <td>N</td>\n",
              "      <td>83.00</td>\n",
              "      <td>NaN</td>\n",
              "      <td>NaN</td>\n",
              "      <td>NaN</td>\n",
              "    </tr>\n",
              "    <tr>\n",
              "      <th>3</th>\n",
              "      <td>3025</td>\n",
              "      <td>일반음식점</td>\n",
              "      <td>07_24_04_P</td>\n",
              "      <td>3060000</td>\n",
              "      <td>3060000-101-2023-00025</td>\n",
              "      <td>2023-02-07</td>\n",
              "      <td>NaN</td>\n",
              "      <td>1</td>\n",
              "      <td>영업/정상</td>\n",
              "      <td>1</td>\n",
              "      <td>...</td>\n",
              "      <td>0</td>\n",
              "      <td>0</td>\n",
              "      <td>NaN</td>\n",
              "      <td>0</td>\n",
              "      <td>0</td>\n",
              "      <td>N</td>\n",
              "      <td>113.08</td>\n",
              "      <td>NaN</td>\n",
              "      <td>NaN</td>\n",
              "      <td>NaN</td>\n",
              "    </tr>\n",
              "    <tr>\n",
              "      <th>4</th>\n",
              "      <td>3026</td>\n",
              "      <td>일반음식점</td>\n",
              "      <td>07_24_04_P</td>\n",
              "      <td>3060000</td>\n",
              "      <td>3060000-101-2023-00024</td>\n",
              "      <td>2023-02-07</td>\n",
              "      <td>NaN</td>\n",
              "      <td>1</td>\n",
              "      <td>영업/정상</td>\n",
              "      <td>1</td>\n",
              "      <td>...</td>\n",
              "      <td>0</td>\n",
              "      <td>0</td>\n",
              "      <td>NaN</td>\n",
              "      <td>0</td>\n",
              "      <td>0</td>\n",
              "      <td>N</td>\n",
              "      <td>49.58</td>\n",
              "      <td>NaN</td>\n",
              "      <td>NaN</td>\n",
              "      <td>NaN</td>\n",
              "    </tr>\n",
              "  </tbody>\n",
              "</table>\n",
              "<p>5 rows × 47 columns</p>\n",
              "</div>"
            ],
            "text/plain": [
              "     번호 개방서비스명    개방서비스아이디  개방자치단체코드                    관리번호       인허가일자  \\\n",
              "0   396  일반음식점  07_24_04_P   3000000  3000000-101-2023-00038  2023-02-07   \n",
              "1  3707  일반음식점  07_24_04_P   3080000  3080000-101-2023-00026  2023-02-07   \n",
              "2  3910  일반음식점  07_24_04_P   3090000  3090000-101-2023-00020  2023-02-07   \n",
              "3  3025  일반음식점  07_24_04_P   3060000  3060000-101-2023-00025  2023-02-07   \n",
              "4  3026  일반음식점  07_24_04_P   3060000  3060000-101-2023-00024  2023-02-07   \n",
              "\n",
              "   인허가취소일자  영업상태구분코드  영업상태명  상세영업상태코드  ... 공장판매직직원수  공장생산직직원수  건물소유구분명  보증액  \\\n",
              "0      NaN         1  영업/정상         1  ...        0         0      NaN    0   \n",
              "1      NaN         1  영업/정상         1  ...        0         0      NaN    0   \n",
              "2      NaN         1  영업/정상         1  ...        0         0      NaN    0   \n",
              "3      NaN         1  영업/정상         1  ...        0         0      NaN    0   \n",
              "4      NaN         1  영업/정상         1  ...        0         0      NaN    0   \n",
              "\n",
              "   월세액 다중이용업소여부   시설총규모 전통업소지정번호 전통업소주된음식 홈페이지  \n",
              "0    0        Y  172.90      NaN      NaN  NaN  \n",
              "1    0        N  493.74      NaN      NaN  NaN  \n",
              "2    0        N   83.00      NaN      NaN  NaN  \n",
              "3    0        N  113.08      NaN      NaN  NaN  \n",
              "4    0        N   49.58      NaN      NaN  NaN  \n",
              "\n",
              "[5 rows x 47 columns]"
            ]
          },
          "execution_count": 3,
          "metadata": {},
          "output_type": "execute_result"
        }
      ],
      "source": [
        "df.head()"
      ]
    },
    {
      "cell_type": "code",
      "execution_count": 4,
      "metadata": {
        "colab": {
          "base_uri": "https://localhost:8080/"
        },
        "id": "y2_b-s4_Xoh4",
        "outputId": "408b7e7d-045e-42ef-e3d2-1e0de230f0cc"
      },
      "outputs": [
        {
          "data": {
            "text/plain": [
              "Index(['번호', '개방서비스명', '개방서비스아이디', '개방자치단체코드', '관리번호', '인허가일자', '인허가취소일자',\n",
              "       '영업상태구분코드', '영업상태명', '상세영업상태코드', '상세영업상태명', '폐업일자', '휴업시작일자', '휴업종료일자',\n",
              "       '재개업일자', '소재지전화', '소재지면적', '소재지우편번호', '소재지전체주소', '도로명전체주소', '도로명우편번호',\n",
              "       '사업장명', '최종수정시점', '데이터갱신구분', '데이터갱신일자', '업태구분명', '좌표정보(X)', '좌표정보(Y)',\n",
              "       '위생업태명', '남성종사자수', '여성종사자수', '영업장주변구분명', '등급구분명', '급수시설구분명', '총직원수',\n",
              "       '본사직원수', '공장사무직직원수', '공장판매직직원수', '공장생산직직원수', '건물소유구분명', '보증액', '월세액',\n",
              "       '다중이용업소여부', '시설총규모', '전통업소지정번호', '전통업소주된음식', '홈페이지'],\n",
              "      dtype='object')"
            ]
          },
          "execution_count": 4,
          "metadata": {},
          "output_type": "execute_result"
        }
      ],
      "source": [
        "# 컬럼 확인\n",
        "df.columns"
      ]
    },
    {
      "cell_type": "code",
      "execution_count": 5,
      "metadata": {
        "id": "ytR_fyC9Yu7n"
      },
      "outputs": [],
      "source": [
        "# 불필요한 컬럼 제거\n",
        "df.drop(['번호', '개방서비스명', '개방서비스아이디', '개방자치단체코드', '관리번호', '인허가일자', '인허가취소일자', '영업상태구분코드', '영업상태명', '상세영업상태코드', '상세영업상태명', '폐업일자', '휴업시작일자', '휴업종료일자',\n",
        "         '재개업일자', '소재지전화', '소재지면적', '소재지우편번호', '공장판매직직원수', '공장생산직직원수', '건물소유구분명', '보증액', '월세액', '다중이용업소여부', '시설총규모', '전통업소지정번호', '전통업소주된음식', '홈페이지',\n",
        "         '소재지전체주소', '도로명우편번호', '최종수정시점', '데이터갱신구분', '데이터갱신일자', '남성종사자수', '여성종사자수', '영업장주변구분명', '등급구분명', '급수시설구분명', '총직원수', '본사직원수', '공장사무직직원수', '위생업태명'],\n",
        "         axis=1, inplace=True)"
      ]
    },
    {
      "cell_type": "code",
      "execution_count": 6,
      "metadata": {
        "id": "iT_26d8ScRzI"
      },
      "outputs": [],
      "source": [
        "# 컬럼 이름명 바꾸기\n",
        "df.rename({'도로명전체주소':'addr', '사업장명':'place_name', '업태구분명':'food', '좌표정보(X)':'lat', '좌표정보(Y)':'lng'}, axis=1, inplace=True)"
      ]
    },
    {
      "cell_type": "code",
      "execution_count": 7,
      "metadata": {
        "colab": {
          "base_uri": "https://localhost:8080/",
          "height": 206
        },
        "id": "3hasZdUpatRv",
        "outputId": "3f399be9-cb6c-4044-e0d2-e495e1a5343d"
      },
      "outputs": [
        {
          "data": {
            "text/html": [
              "<div>\n",
              "<style scoped>\n",
              "    .dataframe tbody tr th:only-of-type {\n",
              "        vertical-align: middle;\n",
              "    }\n",
              "\n",
              "    .dataframe tbody tr th {\n",
              "        vertical-align: top;\n",
              "    }\n",
              "\n",
              "    .dataframe thead th {\n",
              "        text-align: right;\n",
              "    }\n",
              "</style>\n",
              "<table border=\"1\" class=\"dataframe\">\n",
              "  <thead>\n",
              "    <tr style=\"text-align: right;\">\n",
              "      <th></th>\n",
              "      <th>addr</th>\n",
              "      <th>place_name</th>\n",
              "      <th>food</th>\n",
              "      <th>lat</th>\n",
              "      <th>lng</th>\n",
              "    </tr>\n",
              "  </thead>\n",
              "  <tbody>\n",
              "    <tr>\n",
              "      <th>0</th>\n",
              "      <td>서울특별시 종로구 경희궁길 36, 지하1층 204호 (신문로2가)</td>\n",
              "      <td>커먼맨션</td>\n",
              "      <td>경양식</td>\n",
              "      <td>197287.415745</td>\n",
              "      <td>452294.360874</td>\n",
              "    </tr>\n",
              "    <tr>\n",
              "      <th>1</th>\n",
              "      <td>서울특별시 강북구 4.19로 55, 1,2층 (수유동)</td>\n",
              "      <td>귀한돌짜장 매운갈비찜</td>\n",
              "      <td>한식</td>\n",
              "      <td>200682.917084</td>\n",
              "      <td>460435.453596</td>\n",
              "    </tr>\n",
              "    <tr>\n",
              "      <th>2</th>\n",
              "      <td>서울특별시 도봉구 도봉로 493-4, 1층 (쌍문동)</td>\n",
              "      <td>할배골</td>\n",
              "      <td>한식</td>\n",
              "      <td>203012.670169</td>\n",
              "      <td>460828.952571</td>\n",
              "    </tr>\n",
              "    <tr>\n",
              "      <th>3</th>\n",
              "      <td>서울특별시 중랑구 용마산로118길 67, 1층 (망우동)</td>\n",
              "      <td>망우로스팅랩</td>\n",
              "      <td>기타</td>\n",
              "      <td>209147.166204</td>\n",
              "      <td>455438.575009</td>\n",
              "    </tr>\n",
              "    <tr>\n",
              "      <th>4</th>\n",
              "      <td>서울특별시 중랑구 양원역로 82, 101호 (망우동)</td>\n",
              "      <td>본죽&amp;비빔밥 서울양원역점</td>\n",
              "      <td>기타</td>\n",
              "      <td>209279.447244</td>\n",
              "      <td>456130.266637</td>\n",
              "    </tr>\n",
              "  </tbody>\n",
              "</table>\n",
              "</div>"
            ],
            "text/plain": [
              "                                   addr     place_name food            lat  \\\n",
              "0  서울특별시 종로구 경희궁길 36, 지하1층 204호 (신문로2가)           커먼맨션  경양식  197287.415745   \n",
              "1        서울특별시 강북구 4.19로 55, 1,2층 (수유동)    귀한돌짜장 매운갈비찜   한식  200682.917084   \n",
              "2         서울특별시 도봉구 도봉로 493-4, 1층 (쌍문동)            할배골   한식  203012.670169   \n",
              "3       서울특별시 중랑구 용마산로118길 67, 1층 (망우동)         망우로스팅랩   기타  209147.166204   \n",
              "4         서울특별시 중랑구 양원역로 82, 101호 (망우동)  본죽&비빔밥 서울양원역점   기타  209279.447244   \n",
              "\n",
              "             lng  \n",
              "0  452294.360874  \n",
              "1  460435.453596  \n",
              "2  460828.952571  \n",
              "3  455438.575009  \n",
              "4  456130.266637  "
            ]
          },
          "execution_count": 7,
          "metadata": {},
          "output_type": "execute_result"
        }
      ],
      "source": [
        "df.head()"
      ]
    },
    {
      "cell_type": "code",
      "execution_count": 8,
      "metadata": {
        "colab": {
          "base_uri": "https://localhost:8080/"
        },
        "id": "HhdOBmJsawMf",
        "outputId": "5f41e78f-753d-4f02-9d4b-4990830e1896"
      },
      "outputs": [
        {
          "data": {
            "text/plain": [
              "addr           object\n",
              "place_name     object\n",
              "food           object\n",
              "lat           float64\n",
              "lng           float64\n",
              "dtype: object"
            ]
          },
          "execution_count": 8,
          "metadata": {},
          "output_type": "execute_result"
        }
      ],
      "source": [
        "# 컬럼별 데이터 타입 확인\n",
        "df.dtypes"
      ]
    },
    {
      "cell_type": "code",
      "execution_count": 9,
      "metadata": {
        "colab": {
          "base_uri": "https://localhost:8080/"
        },
        "id": "arHoRikybEpf",
        "outputId": "fb3f84c8-7314-4dfa-f2cf-7ebf2fff101f"
      },
      "outputs": [
        {
          "data": {
            "text/plain": [
              "addr            8\n",
              "place_name      0\n",
              "food            0\n",
              "lat           128\n",
              "lng           128\n",
              "dtype: int64"
            ]
          },
          "execution_count": 9,
          "metadata": {},
          "output_type": "execute_result"
        }
      ],
      "source": [
        "# 결측치 확인\n",
        "df.isnull().sum()"
      ]
    },
    {
      "cell_type": "code",
      "execution_count": 10,
      "metadata": {},
      "outputs": [
        {
          "data": {
            "text/plain": [
              "addr          0\n",
              "place_name    0\n",
              "food          0\n",
              "lat           0\n",
              "lng           0\n",
              "dtype: int64"
            ]
          },
          "execution_count": 10,
          "metadata": {},
          "output_type": "execute_result"
        }
      ],
      "source": [
        "# 결측치 제거\n",
        "df = df.dropna()\n",
        "df.isnull().sum()"
      ]
    },
    {
      "cell_type": "code",
      "execution_count": 11,
      "metadata": {},
      "outputs": [],
      "source": [
        "# 기존 위도, 경도 컬럼 삭제\n",
        "df.drop(['lat'], axis=1, inplace=True)\n",
        "df.drop(['lng'], axis=1, inplace=True)"
      ]
    },
    {
      "cell_type": "code",
      "execution_count": 12,
      "metadata": {},
      "outputs": [],
      "source": [
        "# 카카오 API 사용을 위한 주소 세부정보 삭제한 값을 addr_list 변수에 저장\n",
        "addr_list = []\n",
        "for i in df['addr']:\n",
        "    addr = i.split(',')[0]\n",
        "    addr_list.append(addr)"
      ]
    },
    {
      "cell_type": "code",
      "execution_count": 13,
      "metadata": {},
      "outputs": [],
      "source": [
        "# 기존 addr 컬럼을 삭제 후 새로운 address 컬럼에 addr_list 변수 데이터 삽입\n",
        "df.drop(['addr'], axis=1, inplace=True)\n",
        "df['address'] = addr_list"
      ]
    },
    {
      "cell_type": "code",
      "execution_count": 14,
      "metadata": {},
      "outputs": [
        {
          "data": {
            "text/html": [
              "<div>\n",
              "<style scoped>\n",
              "    .dataframe tbody tr th:only-of-type {\n",
              "        vertical-align: middle;\n",
              "    }\n",
              "\n",
              "    .dataframe tbody tr th {\n",
              "        vertical-align: top;\n",
              "    }\n",
              "\n",
              "    .dataframe thead th {\n",
              "        text-align: right;\n",
              "    }\n",
              "</style>\n",
              "<table border=\"1\" class=\"dataframe\">\n",
              "  <thead>\n",
              "    <tr style=\"text-align: right;\">\n",
              "      <th></th>\n",
              "      <th>place_name</th>\n",
              "      <th>food</th>\n",
              "      <th>address</th>\n",
              "    </tr>\n",
              "  </thead>\n",
              "  <tbody>\n",
              "    <tr>\n",
              "      <th>0</th>\n",
              "      <td>커먼맨션</td>\n",
              "      <td>경양식</td>\n",
              "      <td>서울특별시 종로구 경희궁길 36</td>\n",
              "    </tr>\n",
              "    <tr>\n",
              "      <th>1</th>\n",
              "      <td>귀한돌짜장 매운갈비찜</td>\n",
              "      <td>한식</td>\n",
              "      <td>서울특별시 강북구 4.19로 55</td>\n",
              "    </tr>\n",
              "    <tr>\n",
              "      <th>2</th>\n",
              "      <td>할배골</td>\n",
              "      <td>한식</td>\n",
              "      <td>서울특별시 도봉구 도봉로 493-4</td>\n",
              "    </tr>\n",
              "    <tr>\n",
              "      <th>3</th>\n",
              "      <td>망우로스팅랩</td>\n",
              "      <td>기타</td>\n",
              "      <td>서울특별시 중랑구 용마산로118길 67</td>\n",
              "    </tr>\n",
              "    <tr>\n",
              "      <th>4</th>\n",
              "      <td>본죽&amp;비빔밥 서울양원역점</td>\n",
              "      <td>기타</td>\n",
              "      <td>서울특별시 중랑구 양원역로 82</td>\n",
              "    </tr>\n",
              "    <tr>\n",
              "      <th>...</th>\n",
              "      <td>...</td>\n",
              "      <td>...</td>\n",
              "      <td>...</td>\n",
              "    </tr>\n",
              "    <tr>\n",
              "      <th>12240</th>\n",
              "      <td>청년어부 삼전점</td>\n",
              "      <td>일식</td>\n",
              "      <td>서울특별시 송파구 백제고분로 198</td>\n",
              "    </tr>\n",
              "    <tr>\n",
              "      <th>12241</th>\n",
              "      <td>진전복 삼계탕 잠실직영점</td>\n",
              "      <td>한식</td>\n",
              "      <td>서울특별시 송파구 올림픽로35가길 10</td>\n",
              "    </tr>\n",
              "    <tr>\n",
              "      <th>12242</th>\n",
              "      <td>알이랑 고기랑 석촌점</td>\n",
              "      <td>한식</td>\n",
              "      <td>서울특별시 송파구 백제고분로40길 5</td>\n",
              "    </tr>\n",
              "    <tr>\n",
              "      <th>12243</th>\n",
              "      <td>남도에서</td>\n",
              "      <td>한식</td>\n",
              "      <td>서울특별시 강동구 동남로81길 58</td>\n",
              "    </tr>\n",
              "    <tr>\n",
              "      <th>12244</th>\n",
              "      <td>호산나 떡볶이</td>\n",
              "      <td>분식</td>\n",
              "      <td>서울특별시 송파구 송파대로36가길 5</td>\n",
              "    </tr>\n",
              "  </tbody>\n",
              "</table>\n",
              "<p>12110 rows × 3 columns</p>\n",
              "</div>"
            ],
            "text/plain": [
              "          place_name food                address\n",
              "0               커먼맨션  경양식      서울특별시 종로구 경희궁길 36\n",
              "1        귀한돌짜장 매운갈비찜   한식     서울특별시 강북구 4.19로 55\n",
              "2                할배골   한식    서울특별시 도봉구 도봉로 493-4\n",
              "3             망우로스팅랩   기타  서울특별시 중랑구 용마산로118길 67\n",
              "4      본죽&비빔밥 서울양원역점   기타      서울특별시 중랑구 양원역로 82\n",
              "...              ...  ...                    ...\n",
              "12240       청년어부 삼전점   일식    서울특별시 송파구 백제고분로 198\n",
              "12241  진전복 삼계탕 잠실직영점   한식  서울특별시 송파구 올림픽로35가길 10\n",
              "12242    알이랑 고기랑 석촌점   한식   서울특별시 송파구 백제고분로40길 5\n",
              "12243           남도에서   한식    서울특별시 강동구 동남로81길 58\n",
              "12244        호산나 떡볶이   분식   서울특별시 송파구 송파대로36가길 5\n",
              "\n",
              "[12110 rows x 3 columns]"
            ]
          },
          "execution_count": 14,
          "metadata": {},
          "output_type": "execute_result"
        }
      ],
      "source": [
        "# 결과물 확인\n",
        "df"
      ]
    },
    {
      "cell_type": "code",
      "execution_count": 15,
      "metadata": {},
      "outputs": [],
      "source": [
        "# 카카오 API KEY 불러오기\n",
        "with open('C:/Kcoding/KakaoAPI.txt', \"r\") as f:\n",
        "    api_key = f.read()"
      ]
    },
    {
      "cell_type": "code",
      "execution_count": 17,
      "metadata": {},
      "outputs": [
        {
          "name": "stderr",
          "output_type": "stream",
          "text": [
            " 59%|█████▉    | 7118/12110 [21:06<13:17,  6.26it/s]  "
          ]
        },
        {
          "name": "stdout",
          "output_type": "stream",
          "text": [
            "No result found for 서울특별시 영등포구 가마산로79길 46\n"
          ]
        },
        {
          "name": "stderr",
          "output_type": "stream",
          "text": [
            "100%|██████████| 12110/12110 [36:10<00:00,  5.58it/s] \n"
          ]
        }
      ],
      "source": [
        "# 위도, 경도 값을 받아온뒤 각 리스트에 저장\n",
        "# 값을 찾을수 없을때, 해당 주소를 출력하고 None값이 입력되게끔 세팅\n",
        "lat_list, lng_list = [], []\n",
        "\n",
        "for i in tqdm(df['address']):\n",
        "    addr = f'{(i)}'\n",
        "    quote(addr)\n",
        "    search_url = \"https://dapi.kakao.com/v2/local/search/address.json\"\n",
        "    url = f'{search_url}?query={quote(addr)}'\n",
        "    result = requests.get(url, headers = {'Authorization': f'KakaoAK {api_key}'}).json()\n",
        "    if not result['documents']:\n",
        "        print(f\"No result found for {addr}\")\n",
        "        lat_list.append(None)\n",
        "        lng_list.append(None)\n",
        "    else:\n",
        "        lng = float(result['documents'][0]['x'])\n",
        "        lat = float(result['documents'][0]['y'])\n",
        "        lat_list.append(lat)\n",
        "        lng_list.append(lng)"
      ]
    },
    {
      "cell_type": "code",
      "execution_count": 18,
      "metadata": {},
      "outputs": [],
      "source": [
        "# 데이터프레임에 위도, 경도 값 추가\n",
        "df['lat'] = lat_list\n",
        "df['lng'] = lng_list"
      ]
    },
    {
      "cell_type": "code",
      "execution_count": 19,
      "metadata": {},
      "outputs": [
        {
          "data": {
            "text/html": [
              "<div>\n",
              "<style scoped>\n",
              "    .dataframe tbody tr th:only-of-type {\n",
              "        vertical-align: middle;\n",
              "    }\n",
              "\n",
              "    .dataframe tbody tr th {\n",
              "        vertical-align: top;\n",
              "    }\n",
              "\n",
              "    .dataframe thead th {\n",
              "        text-align: right;\n",
              "    }\n",
              "</style>\n",
              "<table border=\"1\" class=\"dataframe\">\n",
              "  <thead>\n",
              "    <tr style=\"text-align: right;\">\n",
              "      <th></th>\n",
              "      <th>place_name</th>\n",
              "      <th>food</th>\n",
              "      <th>address</th>\n",
              "      <th>lat</th>\n",
              "      <th>lng</th>\n",
              "    </tr>\n",
              "  </thead>\n",
              "  <tbody>\n",
              "    <tr>\n",
              "      <th>7152</th>\n",
              "      <td>홍성한우</td>\n",
              "      <td>한식</td>\n",
              "      <td>서울특별시 영등포구 가마산로79길 46</td>\n",
              "      <td>NaN</td>\n",
              "      <td>NaN</td>\n",
              "    </tr>\n",
              "  </tbody>\n",
              "</table>\n",
              "</div>"
            ],
            "text/plain": [
              "     place_name food                address  lat  lng\n",
              "7152       홍성한우   한식  서울특별시 영등포구 가마산로79길 46  NaN  NaN"
            ]
          },
          "execution_count": 19,
          "metadata": {},
          "output_type": "execute_result"
        }
      ],
      "source": [
        "# None 값으로 입력된 데이터 확인\n",
        "df[df['lat'].isnull()]"
      ]
    },
    {
      "cell_type": "code",
      "execution_count": 20,
      "metadata": {},
      "outputs": [
        {
          "data": {
            "text/html": [
              "<div>\n",
              "<style scoped>\n",
              "    .dataframe tbody tr th:only-of-type {\n",
              "        vertical-align: middle;\n",
              "    }\n",
              "\n",
              "    .dataframe tbody tr th {\n",
              "        vertical-align: top;\n",
              "    }\n",
              "\n",
              "    .dataframe thead th {\n",
              "        text-align: right;\n",
              "    }\n",
              "</style>\n",
              "<table border=\"1\" class=\"dataframe\">\n",
              "  <thead>\n",
              "    <tr style=\"text-align: right;\">\n",
              "      <th></th>\n",
              "      <th>place_name</th>\n",
              "      <th>food</th>\n",
              "      <th>address</th>\n",
              "      <th>lat</th>\n",
              "      <th>lng</th>\n",
              "    </tr>\n",
              "  </thead>\n",
              "  <tbody>\n",
              "  </tbody>\n",
              "</table>\n",
              "</div>"
            ],
            "text/plain": [
              "Empty DataFrame\n",
              "Columns: [place_name, food, address, lat, lng]\n",
              "Index: []"
            ]
          },
          "execution_count": 20,
          "metadata": {},
          "output_type": "execute_result"
        }
      ],
      "source": [
        "# None 값 데이터 삭제\n",
        "df.dropna(axis=0, inplace=True)\n",
        "df[df['lat'].isnull()]"
      ]
    },
    {
      "cell_type": "code",
      "execution_count": 21,
      "metadata": {},
      "outputs": [],
      "source": [
        "# 임시 데이터 저장\n",
        "df.to_csv('place_location_temporary.csv', index=False, encoding='utf-8-sig')"
      ]
    },
    {
      "cell_type": "code",
      "execution_count": 22,
      "metadata": {},
      "outputs": [
        {
          "data": {
            "text/html": [
              "<div>\n",
              "<style scoped>\n",
              "    .dataframe tbody tr th:only-of-type {\n",
              "        vertical-align: middle;\n",
              "    }\n",
              "\n",
              "    .dataframe tbody tr th {\n",
              "        vertical-align: top;\n",
              "    }\n",
              "\n",
              "    .dataframe thead th {\n",
              "        text-align: right;\n",
              "    }\n",
              "</style>\n",
              "<table border=\"1\" class=\"dataframe\">\n",
              "  <thead>\n",
              "    <tr style=\"text-align: right;\">\n",
              "      <th></th>\n",
              "      <th>place_name</th>\n",
              "      <th>food</th>\n",
              "      <th>address</th>\n",
              "      <th>lat</th>\n",
              "      <th>lng</th>\n",
              "    </tr>\n",
              "  </thead>\n",
              "  <tbody>\n",
              "    <tr>\n",
              "      <th>0</th>\n",
              "      <td>커먼맨션</td>\n",
              "      <td>경양식</td>\n",
              "      <td>서울특별시 종로구 경희궁길 36</td>\n",
              "      <td>37.572920</td>\n",
              "      <td>126.970063</td>\n",
              "    </tr>\n",
              "    <tr>\n",
              "      <th>1</th>\n",
              "      <td>귀한돌짜장 매운갈비찜</td>\n",
              "      <td>한식</td>\n",
              "      <td>서울특별시 강북구 4.19로 55</td>\n",
              "      <td>37.646420</td>\n",
              "      <td>127.008572</td>\n",
              "    </tr>\n",
              "    <tr>\n",
              "      <th>2</th>\n",
              "      <td>할배골</td>\n",
              "      <td>한식</td>\n",
              "      <td>서울특별시 도봉구 도봉로 493-4</td>\n",
              "      <td>37.649833</td>\n",
              "      <td>127.034923</td>\n",
              "    </tr>\n",
              "    <tr>\n",
              "      <th>3</th>\n",
              "      <td>망우로스팅랩</td>\n",
              "      <td>기타</td>\n",
              "      <td>서울특별시 중랑구 용마산로118길 67</td>\n",
              "      <td>37.601238</td>\n",
              "      <td>127.104370</td>\n",
              "    </tr>\n",
              "    <tr>\n",
              "      <th>4</th>\n",
              "      <td>본죽&amp;비빔밥 서울양원역점</td>\n",
              "      <td>기타</td>\n",
              "      <td>서울특별시 중랑구 양원역로 82</td>\n",
              "      <td>37.607469</td>\n",
              "      <td>127.105874</td>\n",
              "    </tr>\n",
              "    <tr>\n",
              "      <th>...</th>\n",
              "      <td>...</td>\n",
              "      <td>...</td>\n",
              "      <td>...</td>\n",
              "      <td>...</td>\n",
              "      <td>...</td>\n",
              "    </tr>\n",
              "    <tr>\n",
              "      <th>12104</th>\n",
              "      <td>청년어부 삼전점</td>\n",
              "      <td>일식</td>\n",
              "      <td>서울특별시 송파구 백제고분로 198</td>\n",
              "      <td>37.503938</td>\n",
              "      <td>127.088562</td>\n",
              "    </tr>\n",
              "    <tr>\n",
              "      <th>12105</th>\n",
              "      <td>진전복 삼계탕 잠실직영점</td>\n",
              "      <td>한식</td>\n",
              "      <td>서울특별시 송파구 올림픽로35가길 10</td>\n",
              "      <td>37.516940</td>\n",
              "      <td>127.102633</td>\n",
              "    </tr>\n",
              "    <tr>\n",
              "      <th>12106</th>\n",
              "      <td>알이랑 고기랑 석촌점</td>\n",
              "      <td>한식</td>\n",
              "      <td>서울특별시 송파구 백제고분로40길 5</td>\n",
              "      <td>37.504004</td>\n",
              "      <td>127.106207</td>\n",
              "    </tr>\n",
              "    <tr>\n",
              "      <th>12107</th>\n",
              "      <td>남도에서</td>\n",
              "      <td>한식</td>\n",
              "      <td>서울특별시 강동구 동남로81길 58</td>\n",
              "      <td>37.559617</td>\n",
              "      <td>127.153701</td>\n",
              "    </tr>\n",
              "    <tr>\n",
              "      <th>12108</th>\n",
              "      <td>호산나 떡볶이</td>\n",
              "      <td>분식</td>\n",
              "      <td>서울특별시 송파구 송파대로36가길 5</td>\n",
              "      <td>37.500824</td>\n",
              "      <td>127.114818</td>\n",
              "    </tr>\n",
              "  </tbody>\n",
              "</table>\n",
              "<p>12109 rows × 5 columns</p>\n",
              "</div>"
            ],
            "text/plain": [
              "          place_name food                address        lat         lng\n",
              "0               커먼맨션  경양식      서울특별시 종로구 경희궁길 36  37.572920  126.970063\n",
              "1        귀한돌짜장 매운갈비찜   한식     서울특별시 강북구 4.19로 55  37.646420  127.008572\n",
              "2                할배골   한식    서울특별시 도봉구 도봉로 493-4  37.649833  127.034923\n",
              "3             망우로스팅랩   기타  서울특별시 중랑구 용마산로118길 67  37.601238  127.104370\n",
              "4      본죽&비빔밥 서울양원역점   기타      서울특별시 중랑구 양원역로 82  37.607469  127.105874\n",
              "...              ...  ...                    ...        ...         ...\n",
              "12104       청년어부 삼전점   일식    서울특별시 송파구 백제고분로 198  37.503938  127.088562\n",
              "12105  진전복 삼계탕 잠실직영점   한식  서울특별시 송파구 올림픽로35가길 10  37.516940  127.102633\n",
              "12106    알이랑 고기랑 석촌점   한식   서울특별시 송파구 백제고분로40길 5  37.504004  127.106207\n",
              "12107           남도에서   한식    서울특별시 강동구 동남로81길 58  37.559617  127.153701\n",
              "12108        호산나 떡볶이   분식   서울특별시 송파구 송파대로36가길 5  37.500824  127.114818\n",
              "\n",
              "[12109 rows x 5 columns]"
            ]
          },
          "execution_count": 22,
          "metadata": {},
          "output_type": "execute_result"
        }
      ],
      "source": [
        "# 임시 데이터 불러오기\n",
        "df = pd.read_csv(\"C:/Kcoding/SALES_Project/kitae/data_preprocessing/place_location_temporary.csv\")\n",
        "df"
      ]
    },
    {
      "cell_type": "code",
      "execution_count": 23,
      "metadata": {},
      "outputs": [
        {
          "data": {
            "text/plain": [
              "array(['경양식', '한식', '기타', '일식', '중국식', '분식', '뷔페식', '호프/통닭', '감성주점',\n",
              "       '외국음식전문점(인도,태국등)', '출장조리', '복어취급', '패밀리레스트랑', '정종/대포집/소주방',\n",
              "       '식육(숯불구이)', '횟집', '냉면집', '탕류(보신용)', '라이브카페', '김밥(도시락)', '키즈카페'],\n",
              "      dtype=object)"
            ]
          },
          "execution_count": 23,
          "metadata": {},
          "output_type": "execute_result"
        }
      ],
      "source": [
        "# 업종명 종류 확인\n",
        "df['food'].unique()"
      ]
    },
    {
      "cell_type": "code",
      "execution_count": 24,
      "metadata": {},
      "outputs": [
        {
          "data": {
            "text/plain": [
              "2"
            ]
          },
          "execution_count": 24,
          "metadata": {},
          "output_type": "execute_result"
        }
      ],
      "source": [
        "# 업종별 개수 확인\n",
        "len(df.loc[df['food'] == '키즈카페'])"
      ]
    },
    {
      "cell_type": "code",
      "execution_count": 25,
      "metadata": {},
      "outputs": [
        {
          "data": {
            "text/html": [
              "<div>\n",
              "<style scoped>\n",
              "    .dataframe tbody tr th:only-of-type {\n",
              "        vertical-align: middle;\n",
              "    }\n",
              "\n",
              "    .dataframe tbody tr th {\n",
              "        vertical-align: top;\n",
              "    }\n",
              "\n",
              "    .dataframe thead th {\n",
              "        text-align: right;\n",
              "    }\n",
              "</style>\n",
              "<table border=\"1\" class=\"dataframe\">\n",
              "  <thead>\n",
              "    <tr style=\"text-align: right;\">\n",
              "      <th></th>\n",
              "      <th>place_name</th>\n",
              "      <th>food</th>\n",
              "      <th>address</th>\n",
              "      <th>lat</th>\n",
              "      <th>lng</th>\n",
              "    </tr>\n",
              "  </thead>\n",
              "  <tbody>\n",
              "    <tr>\n",
              "      <th>0</th>\n",
              "      <td>커먼맨션</td>\n",
              "      <td>경양식</td>\n",
              "      <td>서울특별시 종로구 경희궁길 36</td>\n",
              "      <td>37.572920</td>\n",
              "      <td>126.970063</td>\n",
              "    </tr>\n",
              "    <tr>\n",
              "      <th>18</th>\n",
              "      <td>테이스트메이드</td>\n",
              "      <td>경양식</td>\n",
              "      <td>서울특별시 종로구 필운대로1길 8</td>\n",
              "      <td>37.577471</td>\n",
              "      <td>126.968960</td>\n",
              "    </tr>\n",
              "    <tr>\n",
              "      <th>23</th>\n",
              "      <td>스푼앤포크 타파스</td>\n",
              "      <td>경양식</td>\n",
              "      <td>서울특별시 도봉구 삼양로154길 11</td>\n",
              "      <td>37.655630</td>\n",
              "      <td>127.013892</td>\n",
              "    </tr>\n",
              "    <tr>\n",
              "      <th>37</th>\n",
              "      <td>미니무드(mini mood)</td>\n",
              "      <td>경양식</td>\n",
              "      <td>서울특별시 용산구 후암로28마길 17</td>\n",
              "      <td>37.549988</td>\n",
              "      <td>126.980381</td>\n",
              "    </tr>\n",
              "    <tr>\n",
              "      <th>39</th>\n",
              "      <td>다이닝룸 뒨뉘</td>\n",
              "      <td>경양식</td>\n",
              "      <td>서울특별시 종로구 율곡로 82</td>\n",
              "      <td>37.577176</td>\n",
              "      <td>126.988167</td>\n",
              "    </tr>\n",
              "    <tr>\n",
              "      <th>...</th>\n",
              "      <td>...</td>\n",
              "      <td>...</td>\n",
              "      <td>...</td>\n",
              "      <td>...</td>\n",
              "      <td>...</td>\n",
              "    </tr>\n",
              "    <tr>\n",
              "      <th>12049</th>\n",
              "      <td>피카 청담</td>\n",
              "      <td>경양식</td>\n",
              "      <td>서울특별시 강남구 학동로88길 12</td>\n",
              "      <td>37.518353</td>\n",
              "      <td>127.052660</td>\n",
              "    </tr>\n",
              "    <tr>\n",
              "      <th>12073</th>\n",
              "      <td>애니오케이션 카페</td>\n",
              "      <td>경양식</td>\n",
              "      <td>서울특별시 강남구 도산대로51길 14</td>\n",
              "      <td>37.524057</td>\n",
              "      <td>127.038075</td>\n",
              "    </tr>\n",
              "    <tr>\n",
              "      <th>12076</th>\n",
              "      <td>유어네이키드치즈 압구정점</td>\n",
              "      <td>경양식</td>\n",
              "      <td>서울특별시 강남구 압구정로 343</td>\n",
              "      <td>37.528475</td>\n",
              "      <td>127.040053</td>\n",
              "    </tr>\n",
              "    <tr>\n",
              "      <th>12092</th>\n",
              "      <td>스피카(SPICA)</td>\n",
              "      <td>경양식</td>\n",
              "      <td>서울특별시 강남구 도산대로37길 20</td>\n",
              "      <td>37.522278</td>\n",
              "      <td>127.031488</td>\n",
              "    </tr>\n",
              "    <tr>\n",
              "      <th>12093</th>\n",
              "      <td>청담니은</td>\n",
              "      <td>경양식</td>\n",
              "      <td>서울특별시 강남구 도산대로72길 33</td>\n",
              "      <td>37.522158</td>\n",
              "      <td>127.045738</td>\n",
              "    </tr>\n",
              "  </tbody>\n",
              "</table>\n",
              "<p>1090 rows × 5 columns</p>\n",
              "</div>"
            ],
            "text/plain": [
              "            place_name food               address        lat         lng\n",
              "0                 커먼맨션  경양식     서울특별시 종로구 경희궁길 36  37.572920  126.970063\n",
              "18             테이스트메이드  경양식    서울특별시 종로구 필운대로1길 8  37.577471  126.968960\n",
              "23           스푼앤포크 타파스  경양식  서울특별시 도봉구 삼양로154길 11  37.655630  127.013892\n",
              "37     미니무드(mini mood)  경양식  서울특별시 용산구 후암로28마길 17  37.549988  126.980381\n",
              "39             다이닝룸 뒨뉘  경양식      서울특별시 종로구 율곡로 82  37.577176  126.988167\n",
              "...                ...  ...                   ...        ...         ...\n",
              "12049            피카 청담  경양식   서울특별시 강남구 학동로88길 12  37.518353  127.052660\n",
              "12073        애니오케이션 카페  경양식  서울특별시 강남구 도산대로51길 14  37.524057  127.038075\n",
              "12076    유어네이키드치즈 압구정점  경양식    서울특별시 강남구 압구정로 343  37.528475  127.040053\n",
              "12092       스피카(SPICA)  경양식  서울특별시 강남구 도산대로37길 20  37.522278  127.031488\n",
              "12093             청담니은  경양식  서울특별시 강남구 도산대로72길 33  37.522158  127.045738\n",
              "\n",
              "[1090 rows x 5 columns]"
            ]
          },
          "execution_count": 25,
          "metadata": {},
          "output_type": "execute_result"
        }
      ],
      "source": [
        "# 업종별 데이터 확인\n",
        "df.loc[df['food'] == '경양식']"
      ]
    },
    {
      "cell_type": "code",
      "execution_count": 26,
      "metadata": {},
      "outputs": [],
      "source": [
        "# 업종명 변경\n",
        "df.replace('호프/통닭', '치킨', inplace=True)\n",
        "df.replace('중국식', '중식', inplace=True)\n",
        "df.replace('김밥(도시락)', '김밥전문점', inplace=True)\n",
        "df.replace('키즈카페', '카페/디저트', inplace=True)\n",
        "df.replace('횟집', '회', inplace=True)\n",
        "df.replace('식육(숯불구이)', '육류/고기', inplace=True)\n",
        "df.replace('냉면집', '냉면전문점', inplace=True)\n",
        "df.replace('복어취급', '한식', inplace=True)\n",
        "\n",
        "# 가게명을 바탕으로 업종명 변경\n",
        "df.loc[df['place_name'].str.contains('치킨'), 'food'] = '치킨'\n",
        "df.loc[df['place_name'].str.contains('족발'), 'food'] = '족발/보쌈'\n",
        "df.loc[df['place_name'].str.contains('사이공'), 'food'] = '베트남음식점'\n",
        "df.loc[df['place_name'].str.contains('카페'), 'food'] = '카페/디저트'\n",
        "df.loc[df['place_name'].str.contains('본죽'), 'food'] = '죽'\n",
        "df.loc[df['place_name'].str.contains('아이스크림'), 'food'] = '카페/디저트'\n",
        "df.loc[df['place_name'].str.contains('커피'), 'food'] = '카페/디저트'\n",
        "df.loc[df['place_name'].str.contains('디저트'), 'food'] = '카페/디저트'\n",
        "df.loc[df['place_name'].str.contains('김밥'), 'food'] = '김밥전문점'\n",
        "df.loc[df['place_name'].str.contains('베트남'), 'food'] = '베트남음식점'\n",
        "df.loc[df['place_name'].str.contains('퍼'), 'food'] = '베트남음식점'\n",
        "df.loc[df['place_name'].str.contains('버거'), 'food'] = '패스트푸드'\n",
        "df.loc[df['place_name'].str.contains('튀김'), 'food'] = '분식'\n",
        "df.loc[df['place_name'].str.contains('떡볶이'), 'food'] = '분식'\n",
        "df.loc[df['place_name'].str.contains('쌀국수'), 'food'] = '베트남음식점'\n",
        "df.loc[df['place_name'].str.contains('피자'), 'food'] = '피자'\n",
        "df.loc[df['place_name'].str.contains('통닭'), 'food'] = '치킨'\n",
        "df.loc[df['place_name'].str.contains('투썸플'), 'food'] = '카페/디저트'\n",
        "df.loc[df['place_name'].str.contains('스타벅스'), 'food'] = '카페/디저트'\n",
        "df.loc[df['place_name'].str.contains('이디야'), 'food'] = '카페/디저트'\n",
        "df.loc[df['place_name'].str.contains('감자탕'), 'food'] = '한식'\n",
        "df.loc[df['place_name'].str.contains('스시'), 'food'] = '일식'\n",
        "df.loc[df['place_name'].str.contains('마라탕'), 'food'] = '중식'\n",
        "df.loc[df['place_name'].str.contains('정육'), 'food'] = '육류/고기'\n",
        "df.loc[df['place_name'].str.contains('숯불'), 'food'] = '육류/고기'\n",
        "df.loc[df['place_name'].str.contains('곱창'), 'food'] = '육류/고기'\n",
        "df.loc[df['place_name'].str.contains('지코바'), 'food'] = '치킨'\n",
        "df.loc[df['place_name'].str.contains('횟집'), 'food'] = '회'"
      ]
    },
    {
      "cell_type": "code",
      "execution_count": 27,
      "metadata": {},
      "outputs": [
        {
          "data": {
            "text/plain": [
              "array(['경양식', '한식', '기타', '죽', '일식', '중식', '카페/디저트', '피자', '분식', '베트남음식점',\n",
              "       '뷔페식', '패스트푸드', '치킨', '감성주점', '김밥전문점', '육류/고기', '족발/보쌈',\n",
              "       '외국음식전문점(인도,태국등)', '출장조리', '정종/대포집/소주방', '패밀리레스트랑', '회', '냉면전문점',\n",
              "       '탕류(보신용)', '라이브카페'], dtype=object)"
            ]
          },
          "execution_count": 27,
          "metadata": {},
          "output_type": "execute_result"
        }
      ],
      "source": [
        "# 변경된 업종명 확인\n",
        "df['food'].unique()"
      ]
    },
    {
      "cell_type": "code",
      "execution_count": 28,
      "metadata": {},
      "outputs": [],
      "source": [
        "# 배달이 아닌 업종 제외하여 result 변수에 저장\n",
        "result = df.loc[(df['food'] != '정종/대포집/소주방') & \n",
        "                (df['food'] != '뷔페식') & \n",
        "                (df['food'] != '감성주점') &\n",
        "                (df['food'] != '출장조리') & \n",
        "                (df['food'] != '패밀리레스트랑') & \n",
        "                (df['food'] != '탕류(보신용)') & \n",
        "                (df['food'] != '라이브카페')]"
      ]
    },
    {
      "cell_type": "code",
      "execution_count": 29,
      "metadata": {},
      "outputs": [
        {
          "data": {
            "text/plain": [
              "array(['경양식', '한식', '기타', '죽', '일식', '중식', '카페/디저트', '피자', '분식', '베트남음식점',\n",
              "       '패스트푸드', '치킨', '김밥전문점', '육류/고기', '족발/보쌈', '외국음식전문점(인도,태국등)', '회',\n",
              "       '냉면전문점'], dtype=object)"
            ]
          },
          "execution_count": 29,
          "metadata": {},
          "output_type": "execute_result"
        }
      ],
      "source": [
        "# 변경된 업종 최종 확인\n",
        "result['food'].unique()"
      ]
    },
    {
      "cell_type": "code",
      "execution_count": 31,
      "metadata": {},
      "outputs": [],
      "source": [
        "# 인덱스 리셋\n",
        "result.set_index([pd.Index(range(0, 11910))], inplace=True)"
      ]
    },
    {
      "cell_type": "code",
      "execution_count": 32,
      "metadata": {},
      "outputs": [
        {
          "data": {
            "text/html": [
              "<div>\n",
              "<style scoped>\n",
              "    .dataframe tbody tr th:only-of-type {\n",
              "        vertical-align: middle;\n",
              "    }\n",
              "\n",
              "    .dataframe tbody tr th {\n",
              "        vertical-align: top;\n",
              "    }\n",
              "\n",
              "    .dataframe thead th {\n",
              "        text-align: right;\n",
              "    }\n",
              "</style>\n",
              "<table border=\"1\" class=\"dataframe\">\n",
              "  <thead>\n",
              "    <tr style=\"text-align: right;\">\n",
              "      <th></th>\n",
              "      <th>place_name</th>\n",
              "      <th>food</th>\n",
              "      <th>address</th>\n",
              "      <th>lat</th>\n",
              "      <th>lng</th>\n",
              "    </tr>\n",
              "  </thead>\n",
              "  <tbody>\n",
              "    <tr>\n",
              "      <th>0</th>\n",
              "      <td>커먼맨션</td>\n",
              "      <td>경양식</td>\n",
              "      <td>서울특별시 종로구 경희궁길 36</td>\n",
              "      <td>37.572920</td>\n",
              "      <td>126.970063</td>\n",
              "    </tr>\n",
              "    <tr>\n",
              "      <th>1</th>\n",
              "      <td>귀한돌짜장 매운갈비찜</td>\n",
              "      <td>한식</td>\n",
              "      <td>서울특별시 강북구 4.19로 55</td>\n",
              "      <td>37.646420</td>\n",
              "      <td>127.008572</td>\n",
              "    </tr>\n",
              "    <tr>\n",
              "      <th>2</th>\n",
              "      <td>할배골</td>\n",
              "      <td>한식</td>\n",
              "      <td>서울특별시 도봉구 도봉로 493-4</td>\n",
              "      <td>37.649833</td>\n",
              "      <td>127.034923</td>\n",
              "    </tr>\n",
              "    <tr>\n",
              "      <th>3</th>\n",
              "      <td>망우로스팅랩</td>\n",
              "      <td>기타</td>\n",
              "      <td>서울특별시 중랑구 용마산로118길 67</td>\n",
              "      <td>37.601238</td>\n",
              "      <td>127.104370</td>\n",
              "    </tr>\n",
              "    <tr>\n",
              "      <th>4</th>\n",
              "      <td>본죽&amp;비빔밥 서울양원역점</td>\n",
              "      <td>죽</td>\n",
              "      <td>서울특별시 중랑구 양원역로 82</td>\n",
              "      <td>37.607469</td>\n",
              "      <td>127.105874</td>\n",
              "    </tr>\n",
              "    <tr>\n",
              "      <th>...</th>\n",
              "      <td>...</td>\n",
              "      <td>...</td>\n",
              "      <td>...</td>\n",
              "      <td>...</td>\n",
              "      <td>...</td>\n",
              "    </tr>\n",
              "    <tr>\n",
              "      <th>11905</th>\n",
              "      <td>청년어부 삼전점</td>\n",
              "      <td>일식</td>\n",
              "      <td>서울특별시 송파구 백제고분로 198</td>\n",
              "      <td>37.503938</td>\n",
              "      <td>127.088562</td>\n",
              "    </tr>\n",
              "    <tr>\n",
              "      <th>11906</th>\n",
              "      <td>진전복 삼계탕 잠실직영점</td>\n",
              "      <td>한식</td>\n",
              "      <td>서울특별시 송파구 올림픽로35가길 10</td>\n",
              "      <td>37.516940</td>\n",
              "      <td>127.102633</td>\n",
              "    </tr>\n",
              "    <tr>\n",
              "      <th>11907</th>\n",
              "      <td>알이랑 고기랑 석촌점</td>\n",
              "      <td>한식</td>\n",
              "      <td>서울특별시 송파구 백제고분로40길 5</td>\n",
              "      <td>37.504004</td>\n",
              "      <td>127.106207</td>\n",
              "    </tr>\n",
              "    <tr>\n",
              "      <th>11908</th>\n",
              "      <td>남도에서</td>\n",
              "      <td>한식</td>\n",
              "      <td>서울특별시 강동구 동남로81길 58</td>\n",
              "      <td>37.559617</td>\n",
              "      <td>127.153701</td>\n",
              "    </tr>\n",
              "    <tr>\n",
              "      <th>11909</th>\n",
              "      <td>호산나 떡볶이</td>\n",
              "      <td>분식</td>\n",
              "      <td>서울특별시 송파구 송파대로36가길 5</td>\n",
              "      <td>37.500824</td>\n",
              "      <td>127.114818</td>\n",
              "    </tr>\n",
              "  </tbody>\n",
              "</table>\n",
              "<p>11910 rows × 5 columns</p>\n",
              "</div>"
            ],
            "text/plain": [
              "          place_name food                address        lat         lng\n",
              "0               커먼맨션  경양식      서울특별시 종로구 경희궁길 36  37.572920  126.970063\n",
              "1        귀한돌짜장 매운갈비찜   한식     서울특별시 강북구 4.19로 55  37.646420  127.008572\n",
              "2                할배골   한식    서울특별시 도봉구 도봉로 493-4  37.649833  127.034923\n",
              "3             망우로스팅랩   기타  서울특별시 중랑구 용마산로118길 67  37.601238  127.104370\n",
              "4      본죽&비빔밥 서울양원역점    죽      서울특별시 중랑구 양원역로 82  37.607469  127.105874\n",
              "...              ...  ...                    ...        ...         ...\n",
              "11905       청년어부 삼전점   일식    서울특별시 송파구 백제고분로 198  37.503938  127.088562\n",
              "11906  진전복 삼계탕 잠실직영점   한식  서울특별시 송파구 올림픽로35가길 10  37.516940  127.102633\n",
              "11907    알이랑 고기랑 석촌점   한식   서울특별시 송파구 백제고분로40길 5  37.504004  127.106207\n",
              "11908           남도에서   한식    서울특별시 강동구 동남로81길 58  37.559617  127.153701\n",
              "11909        호산나 떡볶이   분식   서울특별시 송파구 송파대로36가길 5  37.500824  127.114818\n",
              "\n",
              "[11910 rows x 5 columns]"
            ]
          },
          "execution_count": 32,
          "metadata": {},
          "output_type": "execute_result"
        }
      ],
      "source": [
        "result"
      ]
    },
    {
      "cell_type": "code",
      "execution_count": 33,
      "metadata": {
        "colab": {
          "base_uri": "https://localhost:8080/"
        },
        "id": "0PtrkX7Ybodo",
        "outputId": "bfeffa68-9341-44de-caf4-ae90c0380884"
      },
      "outputs": [
        {
          "name": "stdout",
          "output_type": "stream",
          "text": [
            "<class 'pandas.core.frame.DataFrame'>\n",
            "RangeIndex: 11910 entries, 0 to 11909\n",
            "Data columns (total 5 columns):\n",
            " #   Column      Non-Null Count  Dtype  \n",
            "---  ------      --------------  -----  \n",
            " 0   place_name  11910 non-null  object \n",
            " 1   food        11910 non-null  object \n",
            " 2   address     11910 non-null  object \n",
            " 3   lat         11910 non-null  float64\n",
            " 4   lng         11910 non-null  float64\n",
            "dtypes: float64(2), object(3)\n",
            "memory usage: 465.4+ KB\n"
          ]
        }
      ],
      "source": [
        "# 데이터 용량 확인\n",
        "result.info()"
      ]
    },
    {
      "cell_type": "markdown",
      "metadata": {
        "id": "1uvVsGRByB57"
      },
      "source": [
        "# 3. 데이터 프레임을 CSV 파일로 변환"
      ]
    },
    {
      "cell_type": "code",
      "execution_count": 34,
      "metadata": {
        "id": "IK-uXLTfb3Sn"
      },
      "outputs": [],
      "source": [
        "result.to_csv('place_location.csv', index=False, encoding='utf-8-sig')"
      ]
    }
  ],
  "metadata": {
    "colab": {
      "provenance": []
    },
    "kernelspec": {
      "display_name": "Python 3",
      "language": "python",
      "name": "python3"
    },
    "language_info": {
      "codemirror_mode": {
        "name": "ipython",
        "version": 3
      },
      "file_extension": ".py",
      "mimetype": "text/x-python",
      "name": "python",
      "nbconvert_exporter": "python",
      "pygments_lexer": "ipython3",
      "version": "3.11.0"
    },
    "vscode": {
      "interpreter": {
        "hash": "5238573367df39f7286bb46f9ff5f08f63a01a80960060ce41e3c79b190280fa"
      }
    }
  },
  "nbformat": 4,
  "nbformat_minor": 0
}
