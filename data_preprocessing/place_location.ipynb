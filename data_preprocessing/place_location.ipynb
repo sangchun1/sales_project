{
  "cells": [
    {
      "cell_type": "markdown",
      "metadata": {
        "id": "7REvNh1Jxrd7"
      },
      "source": [
        "# 1. 데이터 불러오기"
      ]
    },
    {
      "cell_type": "code",
      "execution_count": 2,
      "metadata": {
        "id": "kf58CDE2XP4U"
      },
      "outputs": [],
      "source": [
        "# 필요한 모듈 가져오기\n",
        "import pandas as pd"
      ]
    },
    {
      "cell_type": "code",
      "execution_count": 3,
      "metadata": {
        "colab": {
          "base_uri": "https://localhost:8080/"
        },
        "id": "deV_HzSBXe-I",
        "outputId": "2d1dcc1f-718b-477c-93f4-6251980d2b11"
      },
      "outputs": [
        {
          "name": "stderr",
          "output_type": "stream",
          "text": [
            "c:\\Users\\tjoeun\\AppData\\Local\\Programs\\Python\\Python311\\Lib\\site-packages\\openpyxl\\styles\\stylesheet.py:226: UserWarning: Workbook contains no default style, apply openpyxl's default\n",
            "  warn(\"Workbook contains no default style, apply openpyxl's default\")\n"
          ]
        }
      ],
      "source": [
        "# 엑셀파일을 데이터프레임으로 변환\n",
        "df = pd.read_excel('D:/박상춘/프로젝트/raw data/일반 음식점 데이터/07_24_04_P_일반음식점.xlsx', engine='openpyxl')"
      ]
    },
    {
      "cell_type": "markdown",
      "metadata": {
        "id": "0249DG_hxugq"
      },
      "source": [
        "# 2. 데이터 확인 및 전처리"
      ]
    },
    {
      "cell_type": "code",
      "execution_count": 4,
      "metadata": {
        "colab": {
          "base_uri": "https://localhost:8080/",
          "height": 384
        },
        "id": "gPbT9jCGXnIQ",
        "outputId": "416e69e9-e6a4-405a-ef9c-89b35dc8e449"
      },
      "outputs": [
        {
          "data": {
            "text/html": [
              "<div>\n",
              "<style scoped>\n",
              "    .dataframe tbody tr th:only-of-type {\n",
              "        vertical-align: middle;\n",
              "    }\n",
              "\n",
              "    .dataframe tbody tr th {\n",
              "        vertical-align: top;\n",
              "    }\n",
              "\n",
              "    .dataframe thead th {\n",
              "        text-align: right;\n",
              "    }\n",
              "</style>\n",
              "<table border=\"1\" class=\"dataframe\">\n",
              "  <thead>\n",
              "    <tr style=\"text-align: right;\">\n",
              "      <th></th>\n",
              "      <th>번호</th>\n",
              "      <th>개방서비스명</th>\n",
              "      <th>개방서비스아이디</th>\n",
              "      <th>개방자치단체코드</th>\n",
              "      <th>관리번호</th>\n",
              "      <th>인허가일자</th>\n",
              "      <th>인허가취소일자</th>\n",
              "      <th>영업상태구분코드</th>\n",
              "      <th>영업상태명</th>\n",
              "      <th>상세영업상태코드</th>\n",
              "      <th>...</th>\n",
              "      <th>공장판매직직원수</th>\n",
              "      <th>공장생산직직원수</th>\n",
              "      <th>건물소유구분명</th>\n",
              "      <th>보증액</th>\n",
              "      <th>월세액</th>\n",
              "      <th>다중이용업소여부</th>\n",
              "      <th>시설총규모</th>\n",
              "      <th>전통업소지정번호</th>\n",
              "      <th>전통업소주된음식</th>\n",
              "      <th>홈페이지</th>\n",
              "    </tr>\n",
              "  </thead>\n",
              "  <tbody>\n",
              "    <tr>\n",
              "      <th>0</th>\n",
              "      <td>396</td>\n",
              "      <td>일반음식점</td>\n",
              "      <td>07_24_04_P</td>\n",
              "      <td>3000000</td>\n",
              "      <td>3000000-101-2023-00038</td>\n",
              "      <td>2023-02-07</td>\n",
              "      <td>NaN</td>\n",
              "      <td>1</td>\n",
              "      <td>영업/정상</td>\n",
              "      <td>1</td>\n",
              "      <td>...</td>\n",
              "      <td>0</td>\n",
              "      <td>0</td>\n",
              "      <td>NaN</td>\n",
              "      <td>0</td>\n",
              "      <td>0</td>\n",
              "      <td>Y</td>\n",
              "      <td>172.90</td>\n",
              "      <td>NaN</td>\n",
              "      <td>NaN</td>\n",
              "      <td>NaN</td>\n",
              "    </tr>\n",
              "    <tr>\n",
              "      <th>1</th>\n",
              "      <td>3707</td>\n",
              "      <td>일반음식점</td>\n",
              "      <td>07_24_04_P</td>\n",
              "      <td>3080000</td>\n",
              "      <td>3080000-101-2023-00026</td>\n",
              "      <td>2023-02-07</td>\n",
              "      <td>NaN</td>\n",
              "      <td>1</td>\n",
              "      <td>영업/정상</td>\n",
              "      <td>1</td>\n",
              "      <td>...</td>\n",
              "      <td>0</td>\n",
              "      <td>0</td>\n",
              "      <td>NaN</td>\n",
              "      <td>0</td>\n",
              "      <td>0</td>\n",
              "      <td>N</td>\n",
              "      <td>493.74</td>\n",
              "      <td>NaN</td>\n",
              "      <td>NaN</td>\n",
              "      <td>NaN</td>\n",
              "    </tr>\n",
              "    <tr>\n",
              "      <th>2</th>\n",
              "      <td>3910</td>\n",
              "      <td>일반음식점</td>\n",
              "      <td>07_24_04_P</td>\n",
              "      <td>3090000</td>\n",
              "      <td>3090000-101-2023-00020</td>\n",
              "      <td>2023-02-07</td>\n",
              "      <td>NaN</td>\n",
              "      <td>1</td>\n",
              "      <td>영업/정상</td>\n",
              "      <td>1</td>\n",
              "      <td>...</td>\n",
              "      <td>0</td>\n",
              "      <td>0</td>\n",
              "      <td>NaN</td>\n",
              "      <td>0</td>\n",
              "      <td>0</td>\n",
              "      <td>N</td>\n",
              "      <td>83.00</td>\n",
              "      <td>NaN</td>\n",
              "      <td>NaN</td>\n",
              "      <td>NaN</td>\n",
              "    </tr>\n",
              "    <tr>\n",
              "      <th>3</th>\n",
              "      <td>3025</td>\n",
              "      <td>일반음식점</td>\n",
              "      <td>07_24_04_P</td>\n",
              "      <td>3060000</td>\n",
              "      <td>3060000-101-2023-00025</td>\n",
              "      <td>2023-02-07</td>\n",
              "      <td>NaN</td>\n",
              "      <td>1</td>\n",
              "      <td>영업/정상</td>\n",
              "      <td>1</td>\n",
              "      <td>...</td>\n",
              "      <td>0</td>\n",
              "      <td>0</td>\n",
              "      <td>NaN</td>\n",
              "      <td>0</td>\n",
              "      <td>0</td>\n",
              "      <td>N</td>\n",
              "      <td>113.08</td>\n",
              "      <td>NaN</td>\n",
              "      <td>NaN</td>\n",
              "      <td>NaN</td>\n",
              "    </tr>\n",
              "    <tr>\n",
              "      <th>4</th>\n",
              "      <td>3026</td>\n",
              "      <td>일반음식점</td>\n",
              "      <td>07_24_04_P</td>\n",
              "      <td>3060000</td>\n",
              "      <td>3060000-101-2023-00024</td>\n",
              "      <td>2023-02-07</td>\n",
              "      <td>NaN</td>\n",
              "      <td>1</td>\n",
              "      <td>영업/정상</td>\n",
              "      <td>1</td>\n",
              "      <td>...</td>\n",
              "      <td>0</td>\n",
              "      <td>0</td>\n",
              "      <td>NaN</td>\n",
              "      <td>0</td>\n",
              "      <td>0</td>\n",
              "      <td>N</td>\n",
              "      <td>49.58</td>\n",
              "      <td>NaN</td>\n",
              "      <td>NaN</td>\n",
              "      <td>NaN</td>\n",
              "    </tr>\n",
              "  </tbody>\n",
              "</table>\n",
              "<p>5 rows × 47 columns</p>\n",
              "</div>"
            ],
            "text/plain": [
              "     번호 개방서비스명    개방서비스아이디  개방자치단체코드                    관리번호       인허가일자  \\\n",
              "0   396  일반음식점  07_24_04_P   3000000  3000000-101-2023-00038  2023-02-07   \n",
              "1  3707  일반음식점  07_24_04_P   3080000  3080000-101-2023-00026  2023-02-07   \n",
              "2  3910  일반음식점  07_24_04_P   3090000  3090000-101-2023-00020  2023-02-07   \n",
              "3  3025  일반음식점  07_24_04_P   3060000  3060000-101-2023-00025  2023-02-07   \n",
              "4  3026  일반음식점  07_24_04_P   3060000  3060000-101-2023-00024  2023-02-07   \n",
              "\n",
              "   인허가취소일자  영업상태구분코드  영업상태명  상세영업상태코드  ... 공장판매직직원수  공장생산직직원수  건물소유구분명  보증액  \\\n",
              "0      NaN         1  영업/정상         1  ...        0         0      NaN    0   \n",
              "1      NaN         1  영업/정상         1  ...        0         0      NaN    0   \n",
              "2      NaN         1  영업/정상         1  ...        0         0      NaN    0   \n",
              "3      NaN         1  영업/정상         1  ...        0         0      NaN    0   \n",
              "4      NaN         1  영업/정상         1  ...        0         0      NaN    0   \n",
              "\n",
              "   월세액 다중이용업소여부   시설총규모 전통업소지정번호 전통업소주된음식 홈페이지  \n",
              "0    0        Y  172.90      NaN      NaN  NaN  \n",
              "1    0        N  493.74      NaN      NaN  NaN  \n",
              "2    0        N   83.00      NaN      NaN  NaN  \n",
              "3    0        N  113.08      NaN      NaN  NaN  \n",
              "4    0        N   49.58      NaN      NaN  NaN  \n",
              "\n",
              "[5 rows x 47 columns]"
            ]
          },
          "execution_count": 4,
          "metadata": {},
          "output_type": "execute_result"
        }
      ],
      "source": [
        "df.head()"
      ]
    },
    {
      "cell_type": "code",
      "execution_count": 5,
      "metadata": {
        "colab": {
          "base_uri": "https://localhost:8080/"
        },
        "id": "y2_b-s4_Xoh4",
        "outputId": "408b7e7d-045e-42ef-e3d2-1e0de230f0cc"
      },
      "outputs": [
        {
          "data": {
            "text/plain": [
              "Index(['번호', '개방서비스명', '개방서비스아이디', '개방자치단체코드', '관리번호', '인허가일자', '인허가취소일자',\n",
              "       '영업상태구분코드', '영업상태명', '상세영업상태코드', '상세영업상태명', '폐업일자', '휴업시작일자', '휴업종료일자',\n",
              "       '재개업일자', '소재지전화', '소재지면적', '소재지우편번호', '소재지전체주소', '도로명전체주소', '도로명우편번호',\n",
              "       '사업장명', '최종수정시점', '데이터갱신구분', '데이터갱신일자', '업태구분명', '좌표정보(X)', '좌표정보(Y)',\n",
              "       '위생업태명', '남성종사자수', '여성종사자수', '영업장주변구분명', '등급구분명', '급수시설구분명', '총직원수',\n",
              "       '본사직원수', '공장사무직직원수', '공장판매직직원수', '공장생산직직원수', '건물소유구분명', '보증액', '월세액',\n",
              "       '다중이용업소여부', '시설총규모', '전통업소지정번호', '전통업소주된음식', '홈페이지'],\n",
              "      dtype='object')"
            ]
          },
          "execution_count": 5,
          "metadata": {},
          "output_type": "execute_result"
        }
      ],
      "source": [
        "# 컬럼 확인\n",
        "df.columns"
      ]
    },
    {
      "cell_type": "code",
      "execution_count": 6,
      "metadata": {
        "id": "ytR_fyC9Yu7n"
      },
      "outputs": [],
      "source": [
        "# 불필요한 컬럼 제거\n",
        "df.drop(['번호', '개방서비스명', '개방서비스아이디', '개방자치단체코드', '관리번호', '인허가일자', '인허가취소일자', '영업상태구분코드', '영업상태명', '상세영업상태코드', '상세영업상태명', '폐업일자', '휴업시작일자', '휴업종료일자',\n",
        "         '재개업일자', '소재지전화', '소재지면적', '소재지우편번호', '공장판매직직원수', '공장생산직직원수', '건물소유구분명', '보증액', '월세액', '다중이용업소여부', '시설총규모', '전통업소지정번호', '전통업소주된음식', '홈페이지',\n",
        "         '소재지전체주소', '도로명우편번호', '최종수정시점', '데이터갱신구분', '데이터갱신일자', '남성종사자수', '여성종사자수', '영업장주변구분명', '등급구분명', '급수시설구분명', '총직원수', '본사직원수', '공장사무직직원수', '위생업태명'],\n",
        "         axis=1, inplace=True)"
      ]
    },
    {
      "cell_type": "code",
      "execution_count": 7,
      "metadata": {
        "id": "iT_26d8ScRzI"
      },
      "outputs": [],
      "source": [
        "# 컬럼 이름명 바꾸기\n",
        "df.rename({'도로명전체주소':'address', '사업장명':'place_name', '업태구분명':'food', '좌표정보(X)':'latitude', '좌표정보(Y)':'longitude'}, axis=1, inplace=True)"
      ]
    },
    {
      "cell_type": "code",
      "execution_count": 8,
      "metadata": {
        "colab": {
          "base_uri": "https://localhost:8080/",
          "height": 206
        },
        "id": "3hasZdUpatRv",
        "outputId": "3f399be9-cb6c-4044-e0d2-e495e1a5343d"
      },
      "outputs": [
        {
          "data": {
            "text/html": [
              "<div>\n",
              "<style scoped>\n",
              "    .dataframe tbody tr th:only-of-type {\n",
              "        vertical-align: middle;\n",
              "    }\n",
              "\n",
              "    .dataframe tbody tr th {\n",
              "        vertical-align: top;\n",
              "    }\n",
              "\n",
              "    .dataframe thead th {\n",
              "        text-align: right;\n",
              "    }\n",
              "</style>\n",
              "<table border=\"1\" class=\"dataframe\">\n",
              "  <thead>\n",
              "    <tr style=\"text-align: right;\">\n",
              "      <th></th>\n",
              "      <th>address</th>\n",
              "      <th>place_name</th>\n",
              "      <th>food</th>\n",
              "      <th>latitude</th>\n",
              "      <th>longitude</th>\n",
              "    </tr>\n",
              "  </thead>\n",
              "  <tbody>\n",
              "    <tr>\n",
              "      <th>0</th>\n",
              "      <td>서울특별시 종로구 경희궁길 36, 지하1층 204호 (신문로2가)</td>\n",
              "      <td>커먼맨션</td>\n",
              "      <td>경양식</td>\n",
              "      <td>197287.415745</td>\n",
              "      <td>452294.360874</td>\n",
              "    </tr>\n",
              "    <tr>\n",
              "      <th>1</th>\n",
              "      <td>서울특별시 강북구 4.19로 55, 1,2층 (수유동)</td>\n",
              "      <td>귀한돌짜장 매운갈비찜</td>\n",
              "      <td>한식</td>\n",
              "      <td>200682.917084</td>\n",
              "      <td>460435.453596</td>\n",
              "    </tr>\n",
              "    <tr>\n",
              "      <th>2</th>\n",
              "      <td>서울특별시 도봉구 도봉로 493-4, 1층 (쌍문동)</td>\n",
              "      <td>할배골</td>\n",
              "      <td>한식</td>\n",
              "      <td>203012.670169</td>\n",
              "      <td>460828.952571</td>\n",
              "    </tr>\n",
              "    <tr>\n",
              "      <th>3</th>\n",
              "      <td>서울특별시 중랑구 용마산로118길 67, 1층 (망우동)</td>\n",
              "      <td>망우로스팅랩</td>\n",
              "      <td>기타</td>\n",
              "      <td>209147.166204</td>\n",
              "      <td>455438.575009</td>\n",
              "    </tr>\n",
              "    <tr>\n",
              "      <th>4</th>\n",
              "      <td>서울특별시 중랑구 양원역로 82, 101호 (망우동)</td>\n",
              "      <td>본죽&amp;비빔밥 서울양원역점</td>\n",
              "      <td>기타</td>\n",
              "      <td>209279.447244</td>\n",
              "      <td>456130.266637</td>\n",
              "    </tr>\n",
              "  </tbody>\n",
              "</table>\n",
              "</div>"
            ],
            "text/plain": [
              "                                address     place_name food       latitude  \\\n",
              "0  서울특별시 종로구 경희궁길 36, 지하1층 204호 (신문로2가)           커먼맨션  경양식  197287.415745   \n",
              "1        서울특별시 강북구 4.19로 55, 1,2층 (수유동)    귀한돌짜장 매운갈비찜   한식  200682.917084   \n",
              "2         서울특별시 도봉구 도봉로 493-4, 1층 (쌍문동)            할배골   한식  203012.670169   \n",
              "3       서울특별시 중랑구 용마산로118길 67, 1층 (망우동)         망우로스팅랩   기타  209147.166204   \n",
              "4         서울특별시 중랑구 양원역로 82, 101호 (망우동)  본죽&비빔밥 서울양원역점   기타  209279.447244   \n",
              "\n",
              "       longitude  \n",
              "0  452294.360874  \n",
              "1  460435.453596  \n",
              "2  460828.952571  \n",
              "3  455438.575009  \n",
              "4  456130.266637  "
            ]
          },
          "execution_count": 8,
          "metadata": {},
          "output_type": "execute_result"
        }
      ],
      "source": [
        "df.head()"
      ]
    },
    {
      "cell_type": "code",
      "execution_count": 9,
      "metadata": {
        "colab": {
          "base_uri": "https://localhost:8080/"
        },
        "id": "HhdOBmJsawMf",
        "outputId": "5f41e78f-753d-4f02-9d4b-4990830e1896"
      },
      "outputs": [
        {
          "data": {
            "text/plain": [
              "address        object\n",
              "place_name     object\n",
              "food           object\n",
              "latitude      float64\n",
              "longitude     float64\n",
              "dtype: object"
            ]
          },
          "execution_count": 9,
          "metadata": {},
          "output_type": "execute_result"
        }
      ],
      "source": [
        "# 컬럼별 데이터 타입 확인\n",
        "df.dtypes"
      ]
    },
    {
      "cell_type": "code",
      "execution_count": 10,
      "metadata": {
        "colab": {
          "base_uri": "https://localhost:8080/"
        },
        "id": "arHoRikybEpf",
        "outputId": "fb3f84c8-7314-4dfa-f2cf-7ebf2fff101f"
      },
      "outputs": [
        {
          "data": {
            "text/plain": [
              "address         8\n",
              "place_name      0\n",
              "food            0\n",
              "latitude      128\n",
              "longitude     128\n",
              "dtype: int64"
            ]
          },
          "execution_count": 10,
          "metadata": {},
          "output_type": "execute_result"
        }
      ],
      "source": [
        "# 결측치 확인\n",
        "df.isnull().sum()"
      ]
    },
    {
      "cell_type": "code",
      "execution_count": 11,
      "metadata": {
        "colab": {
          "base_uri": "https://localhost:8080/"
        },
        "id": "4sPonXzQbMdP",
        "outputId": "0da96389-2a42-483e-f089-55508e2b7d1e"
      },
      "outputs": [
        {
          "data": {
            "text/plain": [
              "address       0\n",
              "place_name    0\n",
              "food          0\n",
              "latitude      0\n",
              "longitude     0\n",
              "dtype: int64"
            ]
          },
          "execution_count": 11,
          "metadata": {},
          "output_type": "execute_result"
        }
      ],
      "source": [
        "# 결측치 제거\n",
        "df = df.dropna()\n",
        "df.isnull().sum()"
      ]
    },
    {
      "cell_type": "code",
      "execution_count": 12,
      "metadata": {},
      "outputs": [
        {
          "data": {
            "text/html": [
              "<div>\n",
              "<style scoped>\n",
              "    .dataframe tbody tr th:only-of-type {\n",
              "        vertical-align: middle;\n",
              "    }\n",
              "\n",
              "    .dataframe tbody tr th {\n",
              "        vertical-align: top;\n",
              "    }\n",
              "\n",
              "    .dataframe thead th {\n",
              "        text-align: right;\n",
              "    }\n",
              "</style>\n",
              "<table border=\"1\" class=\"dataframe\">\n",
              "  <thead>\n",
              "    <tr style=\"text-align: right;\">\n",
              "      <th></th>\n",
              "      <th>address</th>\n",
              "      <th>place_name</th>\n",
              "      <th>food</th>\n",
              "      <th>latitude</th>\n",
              "      <th>longitude</th>\n",
              "    </tr>\n",
              "  </thead>\n",
              "  <tbody>\n",
              "    <tr>\n",
              "      <th>0</th>\n",
              "      <td>서울특별시 종로구 경희궁길 36, 지하1층 204호 (신문로2가)</td>\n",
              "      <td>커먼맨션</td>\n",
              "      <td>경양식</td>\n",
              "      <td>197287.415745</td>\n",
              "      <td>452294.360874</td>\n",
              "    </tr>\n",
              "    <tr>\n",
              "      <th>1</th>\n",
              "      <td>서울특별시 강북구 4.19로 55, 1,2층 (수유동)</td>\n",
              "      <td>귀한돌짜장 매운갈비찜</td>\n",
              "      <td>한식</td>\n",
              "      <td>200682.917084</td>\n",
              "      <td>460435.453596</td>\n",
              "    </tr>\n",
              "    <tr>\n",
              "      <th>2</th>\n",
              "      <td>서울특별시 도봉구 도봉로 493-4, 1층 (쌍문동)</td>\n",
              "      <td>할배골</td>\n",
              "      <td>한식</td>\n",
              "      <td>203012.670169</td>\n",
              "      <td>460828.952571</td>\n",
              "    </tr>\n",
              "    <tr>\n",
              "      <th>3</th>\n",
              "      <td>서울특별시 중랑구 용마산로118길 67, 1층 (망우동)</td>\n",
              "      <td>망우로스팅랩</td>\n",
              "      <td>기타</td>\n",
              "      <td>209147.166204</td>\n",
              "      <td>455438.575009</td>\n",
              "    </tr>\n",
              "    <tr>\n",
              "      <th>4</th>\n",
              "      <td>서울특별시 중랑구 양원역로 82, 101호 (망우동)</td>\n",
              "      <td>본죽&amp;비빔밥 서울양원역점</td>\n",
              "      <td>기타</td>\n",
              "      <td>209279.447244</td>\n",
              "      <td>456130.266637</td>\n",
              "    </tr>\n",
              "    <tr>\n",
              "      <th>...</th>\n",
              "      <td>...</td>\n",
              "      <td>...</td>\n",
              "      <td>...</td>\n",
              "      <td>...</td>\n",
              "      <td>...</td>\n",
              "    </tr>\n",
              "    <tr>\n",
              "      <th>12240</th>\n",
              "      <td>서울특별시 송파구 백제고분로 198, 1층 104호 (삼전동)</td>\n",
              "      <td>청년어부 삼전점</td>\n",
              "      <td>일식</td>\n",
              "      <td>207761.510501</td>\n",
              "      <td>444639.252711</td>\n",
              "    </tr>\n",
              "    <tr>\n",
              "      <th>12241</th>\n",
              "      <td>서울특별시 송파구 올림픽로35가길 10, 1층 118호 (신천동, 잠실 더샵스타파크)</td>\n",
              "      <td>진전복 삼계탕 잠실직영점</td>\n",
              "      <td>한식</td>\n",
              "      <td>208972.490842</td>\n",
              "      <td>446087.944327</td>\n",
              "    </tr>\n",
              "    <tr>\n",
              "      <th>12242</th>\n",
              "      <td>서울특별시 송파구 백제고분로40길 5, 2층 12호 (석촌동)</td>\n",
              "      <td>알이랑 고기랑 석촌점</td>\n",
              "      <td>한식</td>\n",
              "      <td>209324.864323</td>\n",
              "      <td>444648.957259</td>\n",
              "    </tr>\n",
              "    <tr>\n",
              "      <th>12243</th>\n",
              "      <td>서울특별시 강동구 동남로81길 58, 1층 103호 (고덕동)</td>\n",
              "      <td>남도에서</td>\n",
              "      <td>한식</td>\n",
              "      <td>213510.482226</td>\n",
              "      <td>450829.307236</td>\n",
              "    </tr>\n",
              "    <tr>\n",
              "      <th>12244</th>\n",
              "      <td>서울특별시 송파구 송파대로36가길 5, 1층 (송파동)</td>\n",
              "      <td>호산나 떡볶이</td>\n",
              "      <td>분식</td>\n",
              "      <td>210084.798360</td>\n",
              "      <td>444299.796514</td>\n",
              "    </tr>\n",
              "  </tbody>\n",
              "</table>\n",
              "<p>12110 rows × 5 columns</p>\n",
              "</div>"
            ],
            "text/plain": [
              "                                               address     place_name food  \\\n",
              "0                 서울특별시 종로구 경희궁길 36, 지하1층 204호 (신문로2가)           커먼맨션  경양식   \n",
              "1                       서울특별시 강북구 4.19로 55, 1,2층 (수유동)    귀한돌짜장 매운갈비찜   한식   \n",
              "2                        서울특별시 도봉구 도봉로 493-4, 1층 (쌍문동)            할배골   한식   \n",
              "3                      서울특별시 중랑구 용마산로118길 67, 1층 (망우동)         망우로스팅랩   기타   \n",
              "4                        서울특별시 중랑구 양원역로 82, 101호 (망우동)  본죽&비빔밥 서울양원역점   기타   \n",
              "...                                                ...            ...  ...   \n",
              "12240               서울특별시 송파구 백제고분로 198, 1층 104호 (삼전동)       청년어부 삼전점   일식   \n",
              "12241  서울특별시 송파구 올림픽로35가길 10, 1층 118호 (신천동, 잠실 더샵스타파크)  진전복 삼계탕 잠실직영점   한식   \n",
              "12242               서울특별시 송파구 백제고분로40길 5, 2층 12호 (석촌동)    알이랑 고기랑 석촌점   한식   \n",
              "12243               서울특별시 강동구 동남로81길 58, 1층 103호 (고덕동)           남도에서   한식   \n",
              "12244                   서울특별시 송파구 송파대로36가길 5, 1층 (송파동)        호산나 떡볶이   분식   \n",
              "\n",
              "            latitude      longitude  \n",
              "0      197287.415745  452294.360874  \n",
              "1      200682.917084  460435.453596  \n",
              "2      203012.670169  460828.952571  \n",
              "3      209147.166204  455438.575009  \n",
              "4      209279.447244  456130.266637  \n",
              "...              ...            ...  \n",
              "12240  207761.510501  444639.252711  \n",
              "12241  208972.490842  446087.944327  \n",
              "12242  209324.864323  444648.957259  \n",
              "12243  213510.482226  450829.307236  \n",
              "12244  210084.798360  444299.796514  \n",
              "\n",
              "[12110 rows x 5 columns]"
            ]
          },
          "execution_count": 12,
          "metadata": {},
          "output_type": "execute_result"
        }
      ],
      "source": [
        "df"
      ]
    },
    {
      "cell_type": "code",
      "execution_count": 13,
      "metadata": {},
      "outputs": [],
      "source": [
        "# 인덱스 리셋\n",
        "df.set_index([pd.Index(range(0, 12110))], inplace=True)"
      ]
    },
    {
      "cell_type": "code",
      "execution_count": 14,
      "metadata": {
        "colab": {
          "base_uri": "https://localhost:8080/"
        },
        "id": "0PtrkX7Ybodo",
        "outputId": "bfeffa68-9341-44de-caf4-ae90c0380884"
      },
      "outputs": [
        {
          "name": "stdout",
          "output_type": "stream",
          "text": [
            "<class 'pandas.core.frame.DataFrame'>\n",
            "RangeIndex: 12110 entries, 0 to 12109\n",
            "Data columns (total 5 columns):\n",
            " #   Column      Non-Null Count  Dtype  \n",
            "---  ------      --------------  -----  \n",
            " 0   address     12110 non-null  object \n",
            " 1   place_name  12110 non-null  object \n",
            " 2   food        12110 non-null  object \n",
            " 3   latitude    12110 non-null  float64\n",
            " 4   longitude   12110 non-null  float64\n",
            "dtypes: float64(2), object(3)\n",
            "memory usage: 473.2+ KB\n"
          ]
        }
      ],
      "source": [
        "# 데이터 용량 확인\n",
        "df.info()"
      ]
    },
    {
      "cell_type": "markdown",
      "metadata": {
        "id": "1uvVsGRByB57"
      },
      "source": [
        "# 3. 데이터 프레임을 CSV 파일로 변환"
      ]
    },
    {
      "cell_type": "code",
      "execution_count": 15,
      "metadata": {
        "id": "IK-uXLTfb3Sn"
      },
      "outputs": [],
      "source": [
        "df.to_csv('place_location.csv')"
      ]
    }
  ],
  "metadata": {
    "colab": {
      "provenance": []
    },
    "kernelspec": {
      "display_name": "Python 3",
      "language": "python",
      "name": "python3"
    },
    "language_info": {
      "codemirror_mode": {
        "name": "ipython",
        "version": 3
      },
      "file_extension": ".py",
      "mimetype": "text/x-python",
      "name": "python",
      "nbconvert_exporter": "python",
      "pygments_lexer": "ipython3",
      "version": "3.11.2"
    },
    "vscode": {
      "interpreter": {
        "hash": "93cb88c8c23f1da55dedfd812a7caae5ec2bf62baf9b0901f535e3b1ad9c99c3"
      }
    }
  },
  "nbformat": 4,
  "nbformat_minor": 0
}
